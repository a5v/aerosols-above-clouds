{
 "cells": [
  {
   "cell_type": "markdown",
   "metadata": {},
   "source": [
    "# Notebook to recreate reflectance diagram created in Nakajima and King"
   ]
  },
  {
   "cell_type": "markdown",
   "metadata": {},
   "source": [
    "> Using the cloud.csv file\n",
    "- single layer of cloud; ignore Rayleigh scattering"
   ]
  },
  {
   "cell_type": "markdown",
   "metadata": {},
   "source": [
    "## Constant Effective Radius; varying dTau"
   ]
  },
  {
   "cell_type": "code",
   "execution_count": 62,
   "metadata": {},
   "outputs": [],
   "source": [
    "import matplotlib.pyplot as plt\n",
    "import pandas as pd"
   ]
  },
  {
   "cell_type": "code",
   "execution_count": 79,
   "metadata": {},
   "outputs": [],
   "source": [
    "df = pd.read_csv(\"../create_atm/atmospheres/cloud.csv\", header = None, index_col = 0)"
   ]
  },
  {
   "cell_type": "code",
   "execution_count": 80,
   "metadata": {},
   "outputs": [
    {
     "data": {
      "text/html": [
       "<div>\n",
       "<style scoped>\n",
       "    .dataframe tbody tr th:only-of-type {\n",
       "        vertical-align: middle;\n",
       "    }\n",
       "\n",
       "    .dataframe tbody tr th {\n",
       "        vertical-align: top;\n",
       "    }\n",
       "\n",
       "    .dataframe thead th {\n",
       "        text-align: right;\n",
       "    }\n",
       "</style>\n",
       "<table border=\"1\" class=\"dataframe\">\n",
       "  <thead>\n",
       "    <tr style=\"text-align: right;\">\n",
       "      <th></th>\n",
       "      <th>1</th>\n",
       "      <th>2</th>\n",
       "      <th>3</th>\n",
       "      <th>4</th>\n",
       "      <th>5</th>\n",
       "      <th>6</th>\n",
       "      <th>7</th>\n",
       "      <th>8</th>\n",
       "      <th>9</th>\n",
       "      <th>10</th>\n",
       "      <th>11</th>\n",
       "      <th>12</th>\n",
       "    </tr>\n",
       "    <tr>\n",
       "      <th>0</th>\n",
       "      <th></th>\n",
       "      <th></th>\n",
       "      <th></th>\n",
       "      <th></th>\n",
       "      <th></th>\n",
       "      <th></th>\n",
       "      <th></th>\n",
       "      <th></th>\n",
       "      <th></th>\n",
       "      <th></th>\n",
       "      <th></th>\n",
       "      <th></th>\n",
       "    </tr>\n",
       "  </thead>\n",
       "  <tbody>\n",
       "    <tr>\n",
       "      <th>0.25</th>\n",
       "      <td>0.016458</td>\n",
       "      <td>0.002826</td>\n",
       "      <td>0.004044</td>\n",
       "      <td>0.002876</td>\n",
       "      <td>0.001470</td>\n",
       "      <td>0.001116</td>\n",
       "      <td>0.024836</td>\n",
       "      <td>0.006047</td>\n",
       "      <td>0.002519</td>\n",
       "      <td>0.002944</td>\n",
       "      <td>0.001722</td>\n",
       "      <td>0.001109</td>\n",
       "    </tr>\n",
       "    <tr>\n",
       "      <th>0.50</th>\n",
       "      <td>0.035540</td>\n",
       "      <td>0.006681</td>\n",
       "      <td>0.009410</td>\n",
       "      <td>0.006790</td>\n",
       "      <td>0.003520</td>\n",
       "      <td>0.002801</td>\n",
       "      <td>0.046376</td>\n",
       "      <td>0.015257</td>\n",
       "      <td>0.006246</td>\n",
       "      <td>0.006785</td>\n",
       "      <td>0.004139</td>\n",
       "      <td>0.002800</td>\n",
       "    </tr>\n",
       "    <tr>\n",
       "      <th>1.00</th>\n",
       "      <td>0.071985</td>\n",
       "      <td>0.016797</td>\n",
       "      <td>0.022653</td>\n",
       "      <td>0.016797</td>\n",
       "      <td>0.009175</td>\n",
       "      <td>0.007716</td>\n",
       "      <td>0.077382</td>\n",
       "      <td>0.036994</td>\n",
       "      <td>0.016570</td>\n",
       "      <td>0.016535</td>\n",
       "      <td>0.010616</td>\n",
       "      <td>0.007614</td>\n",
       "    </tr>\n",
       "    <tr>\n",
       "      <th>2.00</th>\n",
       "      <td>0.127127</td>\n",
       "      <td>0.041583</td>\n",
       "      <td>0.052386</td>\n",
       "      <td>0.040841</td>\n",
       "      <td>0.024703</td>\n",
       "      <td>0.021874</td>\n",
       "      <td>0.106889</td>\n",
       "      <td>0.077042</td>\n",
       "      <td>0.042153</td>\n",
       "      <td>0.039996</td>\n",
       "      <td>0.027289</td>\n",
       "      <td>0.020674</td>\n",
       "    </tr>\n",
       "    <tr>\n",
       "      <th>4.00</th>\n",
       "      <td>0.188354</td>\n",
       "      <td>0.087763</td>\n",
       "      <td>0.103477</td>\n",
       "      <td>0.086602</td>\n",
       "      <td>0.059899</td>\n",
       "      <td>0.055218</td>\n",
       "      <td>0.120132</td>\n",
       "      <td>0.128224</td>\n",
       "      <td>0.087843</td>\n",
       "      <td>0.083858</td>\n",
       "      <td>0.061375</td>\n",
       "      <td>0.048370</td>\n",
       "    </tr>\n",
       "    <tr>\n",
       "      <th>8.00</th>\n",
       "      <td>0.239893</td>\n",
       "      <td>0.147717</td>\n",
       "      <td>0.164858</td>\n",
       "      <td>0.146963</td>\n",
       "      <td>0.115245</td>\n",
       "      <td>0.109311</td>\n",
       "      <td>0.121798</td>\n",
       "      <td>0.172888</td>\n",
       "      <td>0.143886</td>\n",
       "      <td>0.140209</td>\n",
       "      <td>0.107136</td>\n",
       "      <td>0.085419</td>\n",
       "    </tr>\n",
       "    <tr>\n",
       "      <th>16.00</th>\n",
       "      <td>0.274672</td>\n",
       "      <td>0.206785</td>\n",
       "      <td>0.219768</td>\n",
       "      <td>0.204017</td>\n",
       "      <td>0.175919</td>\n",
       "      <td>0.170147</td>\n",
       "      <td>0.121821</td>\n",
       "      <td>0.196500</td>\n",
       "      <td>0.194757</td>\n",
       "      <td>0.191976</td>\n",
       "      <td>0.144558</td>\n",
       "      <td>0.113023</td>\n",
       "    </tr>\n",
       "    <tr>\n",
       "      <th>32.00</th>\n",
       "      <td>0.293391</td>\n",
       "      <td>0.252215</td>\n",
       "      <td>0.258086</td>\n",
       "      <td>0.245547</td>\n",
       "      <td>0.226404</td>\n",
       "      <td>0.222005</td>\n",
       "      <td>0.121821</td>\n",
       "      <td>0.201515</td>\n",
       "      <td>0.226035</td>\n",
       "      <td>0.224531</td>\n",
       "      <td>0.160579</td>\n",
       "      <td>0.122234</td>\n",
       "    </tr>\n",
       "  </tbody>\n",
       "</table>\n",
       "</div>"
      ],
      "text/plain": [
       "             1         2         3         4         5         6         7   \\\n",
       "0                                                                             \n",
       "0.25   0.016458  0.002826  0.004044  0.002876  0.001470  0.001116  0.024836   \n",
       "0.50   0.035540  0.006681  0.009410  0.006790  0.003520  0.002801  0.046376   \n",
       "1.00   0.071985  0.016797  0.022653  0.016797  0.009175  0.007716  0.077382   \n",
       "2.00   0.127127  0.041583  0.052386  0.040841  0.024703  0.021874  0.106889   \n",
       "4.00   0.188354  0.087763  0.103477  0.086602  0.059899  0.055218  0.120132   \n",
       "8.00   0.239893  0.147717  0.164858  0.146963  0.115245  0.109311  0.121798   \n",
       "16.00  0.274672  0.206785  0.219768  0.204017  0.175919  0.170147  0.121821   \n",
       "32.00  0.293391  0.252215  0.258086  0.245547  0.226404  0.222005  0.121821   \n",
       "\n",
       "             8         9         10        11        12  \n",
       "0                                                        \n",
       "0.25   0.006047  0.002519  0.002944  0.001722  0.001109  \n",
       "0.50   0.015257  0.006246  0.006785  0.004139  0.002800  \n",
       "1.00   0.036994  0.016570  0.016535  0.010616  0.007614  \n",
       "2.00   0.077042  0.042153  0.039996  0.027289  0.020674  \n",
       "4.00   0.128224  0.087843  0.083858  0.061375  0.048370  \n",
       "8.00   0.172888  0.143886  0.140209  0.107136  0.085419  \n",
       "16.00  0.196500  0.194757  0.191976  0.144558  0.113023  \n",
       "32.00  0.201515  0.226035  0.224531  0.160579  0.122234  "
      ]
     },
     "execution_count": 80,
     "metadata": {},
     "output_type": "execute_result"
    }
   ],
   "source": [
    "df"
   ]
  },
  {
   "cell_type": "code",
   "execution_count": 81,
   "metadata": {},
   "outputs": [
    {
     "data": {
      "text/plain": [
       "8"
      ]
     },
     "execution_count": 81,
     "metadata": {},
     "output_type": "execute_result"
    }
   ],
   "source": [
    "len(df)"
   ]
  },
  {
   "cell_type": "code",
   "execution_count": 122,
   "metadata": {},
   "outputs": [
    {
     "data": {
      "image/png": "[encoded data removed]",
      "text/plain": [
       "<Figure size 432x288 with 1 Axes>"
      ]
     },
     "metadata": {
      "needs_background": "light"
     },
     "output_type": "display_data"
    }
   ],
   "source": [
    "N_cloud = int(df.shape[1]/2)\n",
    "\n",
    "for i in range(N_cloud):\n",
    "    plt.plot(df[1+i], df[7+i])\n",
    "\n",
    "plt.legend(['0.1','0.5','1','2','10','20'], title='effective radius ($\\mu$m)')\n",
    "plt.xlabel('Reflection Function ($\\lambda$ = 0.56 $\\mu$m)')\n",
    "plt.ylabel('Reflection Function ($\\lambda$  = 1.59 $\\mu$m)')\n",
    "plt.show()"
   ]
  },
  {
   "cell_type": "markdown",
   "metadata": {},
   "source": [
    "## Constant dTau; varying effective radius"
   ]
  },
  {
   "cell_type": "code",
   "execution_count": 83,
   "metadata": {},
   "outputs": [],
   "source": [
    "import copy"
   ]
  },
  {
   "cell_type": "code",
   "execution_count": 84,
   "metadata": {},
   "outputs": [],
   "source": [
    "df2 = df.T"
   ]
  },
  {
   "cell_type": "code",
   "execution_count": 85,
   "metadata": {},
   "outputs": [
    {
     "data": {
      "text/html": [
       "<div>\n",
       "<style scoped>\n",
       "    .dataframe tbody tr th:only-of-type {\n",
       "        vertical-align: middle;\n",
       "    }\n",
       "\n",
       "    .dataframe tbody tr th {\n",
       "        vertical-align: top;\n",
       "    }\n",
       "\n",
       "    .dataframe thead th {\n",
       "        text-align: right;\n",
       "    }\n",
       "</style>\n",
       "<table border=\"1\" class=\"dataframe\">\n",
       "  <thead>\n",
       "    <tr style=\"text-align: right;\">\n",
       "      <th></th>\n",
       "      <th>0.25</th>\n",
       "      <th>0.50</th>\n",
       "      <th>1.00</th>\n",
       "      <th>2.00</th>\n",
       "      <th>4.00</th>\n",
       "      <th>8.00</th>\n",
       "      <th>16.00</th>\n",
       "      <th>32.00</th>\n",
       "    </tr>\n",
       "  </thead>\n",
       "  <tbody>\n",
       "    <tr>\n",
       "      <th>1</th>\n",
       "      <td>0.016458</td>\n",
       "      <td>0.035540</td>\n",
       "      <td>0.071985</td>\n",
       "      <td>0.127127</td>\n",
       "      <td>0.188354</td>\n",
       "      <td>0.239893</td>\n",
       "      <td>0.274672</td>\n",
       "      <td>0.293391</td>\n",
       "    </tr>\n",
       "    <tr>\n",
       "      <th>2</th>\n",
       "      <td>0.002826</td>\n",
       "      <td>0.006681</td>\n",
       "      <td>0.016797</td>\n",
       "      <td>0.041583</td>\n",
       "      <td>0.087763</td>\n",
       "      <td>0.147717</td>\n",
       "      <td>0.206785</td>\n",
       "      <td>0.252215</td>\n",
       "    </tr>\n",
       "    <tr>\n",
       "      <th>3</th>\n",
       "      <td>0.004044</td>\n",
       "      <td>0.009410</td>\n",
       "      <td>0.022653</td>\n",
       "      <td>0.052386</td>\n",
       "      <td>0.103477</td>\n",
       "      <td>0.164858</td>\n",
       "      <td>0.219768</td>\n",
       "      <td>0.258086</td>\n",
       "    </tr>\n",
       "    <tr>\n",
       "      <th>4</th>\n",
       "      <td>0.002876</td>\n",
       "      <td>0.006790</td>\n",
       "      <td>0.016797</td>\n",
       "      <td>0.040841</td>\n",
       "      <td>0.086602</td>\n",
       "      <td>0.146963</td>\n",
       "      <td>0.204017</td>\n",
       "      <td>0.245547</td>\n",
       "    </tr>\n",
       "    <tr>\n",
       "      <th>5</th>\n",
       "      <td>0.001470</td>\n",
       "      <td>0.003520</td>\n",
       "      <td>0.009175</td>\n",
       "      <td>0.024703</td>\n",
       "      <td>0.059899</td>\n",
       "      <td>0.115245</td>\n",
       "      <td>0.175919</td>\n",
       "      <td>0.226404</td>\n",
       "    </tr>\n",
       "    <tr>\n",
       "      <th>6</th>\n",
       "      <td>0.001116</td>\n",
       "      <td>0.002801</td>\n",
       "      <td>0.007716</td>\n",
       "      <td>0.021874</td>\n",
       "      <td>0.055218</td>\n",
       "      <td>0.109311</td>\n",
       "      <td>0.170147</td>\n",
       "      <td>0.222005</td>\n",
       "    </tr>\n",
       "    <tr>\n",
       "      <th>7</th>\n",
       "      <td>0.024836</td>\n",
       "      <td>0.046376</td>\n",
       "      <td>0.077382</td>\n",
       "      <td>0.106889</td>\n",
       "      <td>0.120132</td>\n",
       "      <td>0.121798</td>\n",
       "      <td>0.121821</td>\n",
       "      <td>0.121821</td>\n",
       "    </tr>\n",
       "    <tr>\n",
       "      <th>8</th>\n",
       "      <td>0.006047</td>\n",
       "      <td>0.015257</td>\n",
       "      <td>0.036994</td>\n",
       "      <td>0.077042</td>\n",
       "      <td>0.128224</td>\n",
       "      <td>0.172888</td>\n",
       "      <td>0.196500</td>\n",
       "      <td>0.201515</td>\n",
       "    </tr>\n",
       "    <tr>\n",
       "      <th>9</th>\n",
       "      <td>0.002519</td>\n",
       "      <td>0.006246</td>\n",
       "      <td>0.016570</td>\n",
       "      <td>0.042153</td>\n",
       "      <td>0.087843</td>\n",
       "      <td>0.143886</td>\n",
       "      <td>0.194757</td>\n",
       "      <td>0.226035</td>\n",
       "    </tr>\n",
       "    <tr>\n",
       "      <th>10</th>\n",
       "      <td>0.002944</td>\n",
       "      <td>0.006785</td>\n",
       "      <td>0.016535</td>\n",
       "      <td>0.039996</td>\n",
       "      <td>0.083858</td>\n",
       "      <td>0.140209</td>\n",
       "      <td>0.191976</td>\n",
       "      <td>0.224531</td>\n",
       "    </tr>\n",
       "    <tr>\n",
       "      <th>11</th>\n",
       "      <td>0.001722</td>\n",
       "      <td>0.004139</td>\n",
       "      <td>0.010616</td>\n",
       "      <td>0.027289</td>\n",
       "      <td>0.061375</td>\n",
       "      <td>0.107136</td>\n",
       "      <td>0.144558</td>\n",
       "      <td>0.160579</td>\n",
       "    </tr>\n",
       "    <tr>\n",
       "      <th>12</th>\n",
       "      <td>0.001109</td>\n",
       "      <td>0.002800</td>\n",
       "      <td>0.007614</td>\n",
       "      <td>0.020674</td>\n",
       "      <td>0.048370</td>\n",
       "      <td>0.085419</td>\n",
       "      <td>0.113023</td>\n",
       "      <td>0.122234</td>\n",
       "    </tr>\n",
       "  </tbody>\n",
       "</table>\n",
       "</div>"
      ],
      "text/plain": [
       "0      0.25      0.50      1.00      2.00      4.00      8.00      16.00  \\\n",
       "1   0.016458  0.035540  0.071985  0.127127  0.188354  0.239893  0.274672   \n",
       "2   0.002826  0.006681  0.016797  0.041583  0.087763  0.147717  0.206785   \n",
       "3   0.004044  0.009410  0.022653  0.052386  0.103477  0.164858  0.219768   \n",
       "4   0.002876  0.006790  0.016797  0.040841  0.086602  0.146963  0.204017   \n",
       "5   0.001470  0.003520  0.009175  0.024703  0.059899  0.115245  0.175919   \n",
       "6   0.001116  0.002801  0.007716  0.021874  0.055218  0.109311  0.170147   \n",
       "7   0.024836  0.046376  0.077382  0.106889  0.120132  0.121798  0.121821   \n",
       "8   0.006047  0.015257  0.036994  0.077042  0.128224  0.172888  0.196500   \n",
       "9   0.002519  0.006246  0.016570  0.042153  0.087843  0.143886  0.194757   \n",
       "10  0.002944  0.006785  0.016535  0.039996  0.083858  0.140209  0.191976   \n",
       "11  0.001722  0.004139  0.010616  0.027289  0.061375  0.107136  0.144558   \n",
       "12  0.001109  0.002800  0.007614  0.020674  0.048370  0.085419  0.113023   \n",
       "\n",
       "0      32.00  \n",
       "1   0.293391  \n",
       "2   0.252215  \n",
       "3   0.258086  \n",
       "4   0.245547  \n",
       "5   0.226404  \n",
       "6   0.222005  \n",
       "7   0.121821  \n",
       "8   0.201515  \n",
       "9   0.226035  \n",
       "10  0.224531  \n",
       "11  0.160579  \n",
       "12  0.122234  "
      ]
     },
     "execution_count": 85,
     "metadata": {},
     "output_type": "execute_result"
    }
   ],
   "source": [
    "df2"
   ]
  },
  {
   "cell_type": "code",
   "execution_count": 86,
   "metadata": {},
   "outputs": [
    {
     "data": {
      "text/plain": [
       "[<matplotlib.lines.Line2D at 0x7f3aa1de2908>]"
      ]
     },
     "execution_count": 86,
     "metadata": {},
     "output_type": "execute_result"
    },
    {
     "data": {
      "image/png": "[encoded data removed]",
      "text/plain": [
       "<Figure size 432x288 with 1 Axes>"
      ]
     },
     "metadata": {
      "needs_background": "light"
     },
     "output_type": "display_data"
    }
   ],
   "source": [
    "plt.plot(df2[0.25][0:6], df2[0.25][6:12])"
   ]
  },
  {
   "cell_type": "code",
   "execution_count": 87,
   "metadata": {},
   "outputs": [],
   "source": [
    "dTau_range_cloud = []\n",
    "\n",
    "for col in df2.columns:\n",
    "    dTau_range_cloud.append(col)"
   ]
  },
  {
   "cell_type": "code",
   "execution_count": 88,
   "metadata": {},
   "outputs": [
    {
     "data": {
      "text/plain": [
       "[0.25, 0.5, 1.0, 2.0, 4.0, 8.0, 16.0, 32.0]"
      ]
     },
     "execution_count": 88,
     "metadata": {},
     "output_type": "execute_result"
    }
   ],
   "source": [
    "dTau_range_cloud"
   ]
  },
  {
   "cell_type": "code",
   "execution_count": 119,
   "metadata": {},
   "outputs": [
    {
     "data": {
      "image/png": "[encoded data removed]",
      "text/plain": [
       "<Figure size 432x288 with 1 Axes>"
      ]
     },
     "metadata": {
      "needs_background": "light"
     },
     "output_type": "display_data"
    }
   ],
   "source": [
    "N_dTau_cloud = len(dTau_range_cloud)\n",
    "\n",
    "fig, ax = plt.subplots()\n",
    "\n",
    "for i in range(N_dTau_cloud):\n",
    "    x = df2[dTau_range_cloud[i]][0:6]\n",
    "    y = df2[dTau_range_cloud[i]][6:12]\n",
    "    \n",
    "    plt.plot(x,y)\n",
    "    #ax.annotate(dTau_range_cloud, (x[i], y[i]))\n",
    "    \n",
    "plt.legend(dTau_range_cloud, title='dTau_cloud ($\\mu$m)')\n",
    "plt.xlabel('Reflection Function ($\\lambda$ = 0.56 $\\mu$m)')\n",
    "plt.ylabel('Reflection Function ($\\lambda$  = 1.59 $\\mu$m)')\n",
    "\n",
    "plt.show()"
   ]
  },
  {
   "cell_type": "markdown",
   "metadata": {},
   "source": [
    "> single plot only "
   ]
  },
  {
   "cell_type": "code",
   "execution_count": 138,
   "metadata": {},
   "outputs": [],
   "source": [
    "x = []\n",
    "y = []\n",
    "\n",
    "for i in range(N_cloud):\n",
    "    x.append(df2[0.25][i+1])\n",
    "    y.append(df2[0.25][i+7])\n",
    "    \n",
    "n = ['0.1','0.5','1','2','10','20']"
   ]
  },
  {
   "cell_type": "code",
   "execution_count": 146,
   "metadata": {},
   "outputs": [
    {
     "data": {
      "text/plain": [
       "<function matplotlib.pyplot.show(close=None, block=None)>"
      ]
     },
     "execution_count": 146,
     "metadata": {},
     "output_type": "execute_result"
    },
    {
     "data": {
      "image/png": "[encoded data removed]",
      "text/plain": [
       "<Figure size 432x288 with 1 Axes>"
      ]
     },
     "metadata": {
      "needs_background": "light"
     },
     "output_type": "display_data"
    }
   ],
   "source": [
    "fig, ax = plt.subplots()\n",
    "ax.plot(x, y)\n",
    "\n",
    "for i, txt in enumerate(n):\n",
    "    ax.annotate(txt, (x[i], y[i]))\n",
    "    \n",
    "plt.legend(dTau_range_cloud, title='dTau_cloud ($\\mu$m)')\n",
    "plt.xlabel('Reflection Function ($\\lambda$ = 0.56 $\\mu$m)')\n",
    "plt.ylabel('Reflection Function ($\\lambda$  = 1.59 $\\mu$m)')\n",
    "plt.show"
   ]
  },
  {
   "cell_type": "code",
   "execution_count": null,
   "metadata": {},
   "outputs": [],
   "source": []
  }
 ],
 "metadata": {
  "kernelspec": {
   "display_name": "Python 3",
   "language": "python",
   "name": "python3"
  },
  "language_info": {
   "codemirror_mode": {
    "name": "ipython",
    "version": 3
   },
   "file_extension": ".py",
   "mimetype": "text/x-python",
   "name": "python",
   "nbconvert_exporter": "python",
   "pygments_lexer": "ipython3",
   "version": "3.7.0"
  }
 },
 "nbformat": 4,
 "nbformat_minor": 2
}
