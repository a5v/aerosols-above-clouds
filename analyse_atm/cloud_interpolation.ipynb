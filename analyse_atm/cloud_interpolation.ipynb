{
 "cells": [
  {
   "cell_type": "markdown",
   "metadata": {},
   "source": [
    "# Perturbation of Aerosol above Cloud"
   ]
  },
  {
   "cell_type": "code",
   "execution_count": 1,
   "metadata": {},
   "outputs": [],
   "source": [
    "## %matplotlib inline\n",
    "import matplotlib.pyplot as plt\n",
    "import pandas as pd\n",
    "import numpy as np"
   ]
  },
  {
   "cell_type": "markdown",
   "metadata": {},
   "source": [
    "## Creating a interpolation graph for pure cloud"
   ]
  },
  {
   "cell_type": "markdown",
   "metadata": {},
   "source": [
    "> Using single cloud layer"
   ]
  },
  {
   "cell_type": "code",
   "execution_count": 2,
   "metadata": {},
   "outputs": [],
   "source": [
    "df_cloud = pd.read_csv(\"../create_atm/atmospheres/cloud.csv\", header = None, index_col = 0)"
   ]
  },
  {
   "cell_type": "code",
   "execution_count": 3,
   "metadata": {},
   "outputs": [
    {
     "data": {
      "text/html": [
       "<div>\n",
       "<style scoped>\n",
       "    .dataframe tbody tr th:only-of-type {\n",
       "        vertical-align: middle;\n",
       "    }\n",
       "\n",
       "    .dataframe tbody tr th {\n",
       "        vertical-align: top;\n",
       "    }\n",
       "\n",
       "    .dataframe thead th {\n",
       "        text-align: right;\n",
       "    }\n",
       "</style>\n",
       "<table border=\"1\" class=\"dataframe\">\n",
       "  <thead>\n",
       "    <tr style=\"text-align: right;\">\n",
       "      <th></th>\n",
       "      <th>1</th>\n",
       "      <th>2</th>\n",
       "      <th>3</th>\n",
       "      <th>4</th>\n",
       "      <th>5</th>\n",
       "      <th>6</th>\n",
       "      <th>7</th>\n",
       "      <th>8</th>\n",
       "      <th>9</th>\n",
       "      <th>10</th>\n",
       "      <th>11</th>\n",
       "      <th>12</th>\n",
       "    </tr>\n",
       "    <tr>\n",
       "      <th>0</th>\n",
       "      <th></th>\n",
       "      <th></th>\n",
       "      <th></th>\n",
       "      <th></th>\n",
       "      <th></th>\n",
       "      <th></th>\n",
       "      <th></th>\n",
       "      <th></th>\n",
       "      <th></th>\n",
       "      <th></th>\n",
       "      <th></th>\n",
       "      <th></th>\n",
       "    </tr>\n",
       "  </thead>\n",
       "  <tbody>\n",
       "    <tr>\n",
       "      <th>0.25</th>\n",
       "      <td>0.016458</td>\n",
       "      <td>0.002826</td>\n",
       "      <td>0.004044</td>\n",
       "      <td>0.002876</td>\n",
       "      <td>0.001470</td>\n",
       "      <td>0.001116</td>\n",
       "      <td>0.024836</td>\n",
       "      <td>0.006047</td>\n",
       "      <td>0.002519</td>\n",
       "      <td>0.002944</td>\n",
       "      <td>0.001722</td>\n",
       "      <td>0.001109</td>\n",
       "    </tr>\n",
       "    <tr>\n",
       "      <th>0.50</th>\n",
       "      <td>0.035540</td>\n",
       "      <td>0.006681</td>\n",
       "      <td>0.009410</td>\n",
       "      <td>0.006790</td>\n",
       "      <td>0.003520</td>\n",
       "      <td>0.002801</td>\n",
       "      <td>0.046376</td>\n",
       "      <td>0.015257</td>\n",
       "      <td>0.006246</td>\n",
       "      <td>0.006785</td>\n",
       "      <td>0.004139</td>\n",
       "      <td>0.002800</td>\n",
       "    </tr>\n",
       "    <tr>\n",
       "      <th>1.00</th>\n",
       "      <td>0.071985</td>\n",
       "      <td>0.016797</td>\n",
       "      <td>0.022653</td>\n",
       "      <td>0.016797</td>\n",
       "      <td>0.009175</td>\n",
       "      <td>0.007716</td>\n",
       "      <td>0.077382</td>\n",
       "      <td>0.036994</td>\n",
       "      <td>0.016570</td>\n",
       "      <td>0.016535</td>\n",
       "      <td>0.010616</td>\n",
       "      <td>0.007614</td>\n",
       "    </tr>\n",
       "    <tr>\n",
       "      <th>2.00</th>\n",
       "      <td>0.127127</td>\n",
       "      <td>0.041583</td>\n",
       "      <td>0.052386</td>\n",
       "      <td>0.040841</td>\n",
       "      <td>0.024703</td>\n",
       "      <td>0.021874</td>\n",
       "      <td>0.106889</td>\n",
       "      <td>0.077042</td>\n",
       "      <td>0.042153</td>\n",
       "      <td>0.039996</td>\n",
       "      <td>0.027289</td>\n",
       "      <td>0.020674</td>\n",
       "    </tr>\n",
       "    <tr>\n",
       "      <th>4.00</th>\n",
       "      <td>0.188354</td>\n",
       "      <td>0.087763</td>\n",
       "      <td>0.103477</td>\n",
       "      <td>0.086602</td>\n",
       "      <td>0.059899</td>\n",
       "      <td>0.055218</td>\n",
       "      <td>0.120132</td>\n",
       "      <td>0.128224</td>\n",
       "      <td>0.087843</td>\n",
       "      <td>0.083858</td>\n",
       "      <td>0.061375</td>\n",
       "      <td>0.048370</td>\n",
       "    </tr>\n",
       "    <tr>\n",
       "      <th>8.00</th>\n",
       "      <td>0.239893</td>\n",
       "      <td>0.147717</td>\n",
       "      <td>0.164858</td>\n",
       "      <td>0.146963</td>\n",
       "      <td>0.115245</td>\n",
       "      <td>0.109311</td>\n",
       "      <td>0.121798</td>\n",
       "      <td>0.172888</td>\n",
       "      <td>0.143886</td>\n",
       "      <td>0.140209</td>\n",
       "      <td>0.107136</td>\n",
       "      <td>0.085419</td>\n",
       "    </tr>\n",
       "    <tr>\n",
       "      <th>16.00</th>\n",
       "      <td>0.274672</td>\n",
       "      <td>0.206785</td>\n",
       "      <td>0.219768</td>\n",
       "      <td>0.204017</td>\n",
       "      <td>0.175919</td>\n",
       "      <td>0.170147</td>\n",
       "      <td>0.121821</td>\n",
       "      <td>0.196500</td>\n",
       "      <td>0.194757</td>\n",
       "      <td>0.191976</td>\n",
       "      <td>0.144558</td>\n",
       "      <td>0.113023</td>\n",
       "    </tr>\n",
       "    <tr>\n",
       "      <th>32.00</th>\n",
       "      <td>0.293391</td>\n",
       "      <td>0.252215</td>\n",
       "      <td>0.258086</td>\n",
       "      <td>0.245547</td>\n",
       "      <td>0.226404</td>\n",
       "      <td>0.222005</td>\n",
       "      <td>0.121821</td>\n",
       "      <td>0.201515</td>\n",
       "      <td>0.226035</td>\n",
       "      <td>0.224531</td>\n",
       "      <td>0.160579</td>\n",
       "      <td>0.122234</td>\n",
       "    </tr>\n",
       "  </tbody>\n",
       "</table>\n",
       "</div>"
      ],
      "text/plain": [
       "             1         2         3         4         5         6         7   \\\n",
       "0                                                                             \n",
       "0.25   0.016458  0.002826  0.004044  0.002876  0.001470  0.001116  0.024836   \n",
       "0.50   0.035540  0.006681  0.009410  0.006790  0.003520  0.002801  0.046376   \n",
       "1.00   0.071985  0.016797  0.022653  0.016797  0.009175  0.007716  0.077382   \n",
       "2.00   0.127127  0.041583  0.052386  0.040841  0.024703  0.021874  0.106889   \n",
       "4.00   0.188354  0.087763  0.103477  0.086602  0.059899  0.055218  0.120132   \n",
       "8.00   0.239893  0.147717  0.164858  0.146963  0.115245  0.109311  0.121798   \n",
       "16.00  0.274672  0.206785  0.219768  0.204017  0.175919  0.170147  0.121821   \n",
       "32.00  0.293391  0.252215  0.258086  0.245547  0.226404  0.222005  0.121821   \n",
       "\n",
       "             8         9         10        11        12  \n",
       "0                                                        \n",
       "0.25   0.006047  0.002519  0.002944  0.001722  0.001109  \n",
       "0.50   0.015257  0.006246  0.006785  0.004139  0.002800  \n",
       "1.00   0.036994  0.016570  0.016535  0.010616  0.007614  \n",
       "2.00   0.077042  0.042153  0.039996  0.027289  0.020674  \n",
       "4.00   0.128224  0.087843  0.083858  0.061375  0.048370  \n",
       "8.00   0.172888  0.143886  0.140209  0.107136  0.085419  \n",
       "16.00  0.196500  0.194757  0.191976  0.144558  0.113023  \n",
       "32.00  0.201515  0.226035  0.224531  0.160579  0.122234  "
      ]
     },
     "execution_count": 3,
     "metadata": {},
     "output_type": "execute_result"
    }
   ],
   "source": [
    "df_cloud"
   ]
  },
  {
   "cell_type": "code",
   "execution_count": 4,
   "metadata": {},
   "outputs": [
    {
     "data": {
      "image/png": "[encoded data removed]",
      "text/plain": [
       "<Figure size 432x288 with 1 Axes>"
      ]
     },
     "metadata": {
      "needs_background": "light"
     },
     "output_type": "display_data"
    }
   ],
   "source": [
    "N_cloud = int(df_cloud.shape[1]/2)\n",
    "\n",
    "for i in range(N_cloud):\n",
    "    plt.plot(df_cloud[1+i], df_cloud[7+i])\n",
    "\n",
    "plt.legend(['0.1','0.5','1','2','10','20'], title='effective radius of cloud ($\\mu$m)')\n",
    "plt.xlabel('Reflection Function ($\\lambda$ = 0.56 $\\mu$m)')\n",
    "plt.ylabel('Reflection Function ($\\lambda$  = 1.59 $\\mu$m)')\n",
    "plt.show()"
   ]
  },
  {
   "cell_type": "code",
   "execution_count": 5,
   "metadata": {},
   "outputs": [
    {
     "data": {
      "text/plain": [
       "[<matplotlib.lines.Line2D at 0x7f65c593d470>]"
      ]
     },
     "execution_count": 5,
     "metadata": {},
     "output_type": "execute_result"
    },
    {
     "data": {
      "image/png": "[encoded data removed]",
      "text/plain": [
       "<Figure size 432x288 with 1 Axes>"
      ]
     },
     "metadata": {
      "needs_background": "light"
     },
     "output_type": "display_data"
    }
   ],
   "source": [
    "plt.plot(df_cloud[4], df_cloud[10])\n",
    "plt.plot(df_cloud[5], df_cloud[11])\n",
    "plt.plot(df_cloud[6], df_cloud[12])"
   ]
  },
  {
   "cell_type": "code",
   "execution_count": null,
   "metadata": {},
   "outputs": [],
   "source": []
  },
  {
   "cell_type": "code",
   "execution_count": 6,
   "metadata": {},
   "outputs": [],
   "source": [
    "df2 = df_cloud.T"
   ]
  },
  {
   "cell_type": "code",
   "execution_count": 7,
   "metadata": {},
   "outputs": [
    {
     "data": {
      "text/html": [
       "<div>\n",
       "<style scoped>\n",
       "    .dataframe tbody tr th:only-of-type {\n",
       "        vertical-align: middle;\n",
       "    }\n",
       "\n",
       "    .dataframe tbody tr th {\n",
       "        vertical-align: top;\n",
       "    }\n",
       "\n",
       "    .dataframe thead th {\n",
       "        text-align: right;\n",
       "    }\n",
       "</style>\n",
       "<table border=\"1\" class=\"dataframe\">\n",
       "  <thead>\n",
       "    <tr style=\"text-align: right;\">\n",
       "      <th></th>\n",
       "      <th>0.25</th>\n",
       "      <th>0.50</th>\n",
       "      <th>1.00</th>\n",
       "      <th>2.00</th>\n",
       "      <th>4.00</th>\n",
       "      <th>8.00</th>\n",
       "      <th>16.00</th>\n",
       "      <th>32.00</th>\n",
       "    </tr>\n",
       "  </thead>\n",
       "  <tbody>\n",
       "    <tr>\n",
       "      <th>1</th>\n",
       "      <td>0.016458</td>\n",
       "      <td>0.035540</td>\n",
       "      <td>0.071985</td>\n",
       "      <td>0.127127</td>\n",
       "      <td>0.188354</td>\n",
       "      <td>0.239893</td>\n",
       "      <td>0.274672</td>\n",
       "      <td>0.293391</td>\n",
       "    </tr>\n",
       "    <tr>\n",
       "      <th>2</th>\n",
       "      <td>0.002826</td>\n",
       "      <td>0.006681</td>\n",
       "      <td>0.016797</td>\n",
       "      <td>0.041583</td>\n",
       "      <td>0.087763</td>\n",
       "      <td>0.147717</td>\n",
       "      <td>0.206785</td>\n",
       "      <td>0.252215</td>\n",
       "    </tr>\n",
       "    <tr>\n",
       "      <th>3</th>\n",
       "      <td>0.004044</td>\n",
       "      <td>0.009410</td>\n",
       "      <td>0.022653</td>\n",
       "      <td>0.052386</td>\n",
       "      <td>0.103477</td>\n",
       "      <td>0.164858</td>\n",
       "      <td>0.219768</td>\n",
       "      <td>0.258086</td>\n",
       "    </tr>\n",
       "    <tr>\n",
       "      <th>4</th>\n",
       "      <td>0.002876</td>\n",
       "      <td>0.006790</td>\n",
       "      <td>0.016797</td>\n",
       "      <td>0.040841</td>\n",
       "      <td>0.086602</td>\n",
       "      <td>0.146963</td>\n",
       "      <td>0.204017</td>\n",
       "      <td>0.245547</td>\n",
       "    </tr>\n",
       "    <tr>\n",
       "      <th>5</th>\n",
       "      <td>0.001470</td>\n",
       "      <td>0.003520</td>\n",
       "      <td>0.009175</td>\n",
       "      <td>0.024703</td>\n",
       "      <td>0.059899</td>\n",
       "      <td>0.115245</td>\n",
       "      <td>0.175919</td>\n",
       "      <td>0.226404</td>\n",
       "    </tr>\n",
       "    <tr>\n",
       "      <th>6</th>\n",
       "      <td>0.001116</td>\n",
       "      <td>0.002801</td>\n",
       "      <td>0.007716</td>\n",
       "      <td>0.021874</td>\n",
       "      <td>0.055218</td>\n",
       "      <td>0.109311</td>\n",
       "      <td>0.170147</td>\n",
       "      <td>0.222005</td>\n",
       "    </tr>\n",
       "    <tr>\n",
       "      <th>7</th>\n",
       "      <td>0.024836</td>\n",
       "      <td>0.046376</td>\n",
       "      <td>0.077382</td>\n",
       "      <td>0.106889</td>\n",
       "      <td>0.120132</td>\n",
       "      <td>0.121798</td>\n",
       "      <td>0.121821</td>\n",
       "      <td>0.121821</td>\n",
       "    </tr>\n",
       "    <tr>\n",
       "      <th>8</th>\n",
       "      <td>0.006047</td>\n",
       "      <td>0.015257</td>\n",
       "      <td>0.036994</td>\n",
       "      <td>0.077042</td>\n",
       "      <td>0.128224</td>\n",
       "      <td>0.172888</td>\n",
       "      <td>0.196500</td>\n",
       "      <td>0.201515</td>\n",
       "    </tr>\n",
       "    <tr>\n",
       "      <th>9</th>\n",
       "      <td>0.002519</td>\n",
       "      <td>0.006246</td>\n",
       "      <td>0.016570</td>\n",
       "      <td>0.042153</td>\n",
       "      <td>0.087843</td>\n",
       "      <td>0.143886</td>\n",
       "      <td>0.194757</td>\n",
       "      <td>0.226035</td>\n",
       "    </tr>\n",
       "    <tr>\n",
       "      <th>10</th>\n",
       "      <td>0.002944</td>\n",
       "      <td>0.006785</td>\n",
       "      <td>0.016535</td>\n",
       "      <td>0.039996</td>\n",
       "      <td>0.083858</td>\n",
       "      <td>0.140209</td>\n",
       "      <td>0.191976</td>\n",
       "      <td>0.224531</td>\n",
       "    </tr>\n",
       "    <tr>\n",
       "      <th>11</th>\n",
       "      <td>0.001722</td>\n",
       "      <td>0.004139</td>\n",
       "      <td>0.010616</td>\n",
       "      <td>0.027289</td>\n",
       "      <td>0.061375</td>\n",
       "      <td>0.107136</td>\n",
       "      <td>0.144558</td>\n",
       "      <td>0.160579</td>\n",
       "    </tr>\n",
       "    <tr>\n",
       "      <th>12</th>\n",
       "      <td>0.001109</td>\n",
       "      <td>0.002800</td>\n",
       "      <td>0.007614</td>\n",
       "      <td>0.020674</td>\n",
       "      <td>0.048370</td>\n",
       "      <td>0.085419</td>\n",
       "      <td>0.113023</td>\n",
       "      <td>0.122234</td>\n",
       "    </tr>\n",
       "  </tbody>\n",
       "</table>\n",
       "</div>"
      ],
      "text/plain": [
       "0      0.25      0.50      1.00      2.00      4.00      8.00      16.00  \\\n",
       "1   0.016458  0.035540  0.071985  0.127127  0.188354  0.239893  0.274672   \n",
       "2   0.002826  0.006681  0.016797  0.041583  0.087763  0.147717  0.206785   \n",
       "3   0.004044  0.009410  0.022653  0.052386  0.103477  0.164858  0.219768   \n",
       "4   0.002876  0.006790  0.016797  0.040841  0.086602  0.146963  0.204017   \n",
       "5   0.001470  0.003520  0.009175  0.024703  0.059899  0.115245  0.175919   \n",
       "6   0.001116  0.002801  0.007716  0.021874  0.055218  0.109311  0.170147   \n",
       "7   0.024836  0.046376  0.077382  0.106889  0.120132  0.121798  0.121821   \n",
       "8   0.006047  0.015257  0.036994  0.077042  0.128224  0.172888  0.196500   \n",
       "9   0.002519  0.006246  0.016570  0.042153  0.087843  0.143886  0.194757   \n",
       "10  0.002944  0.006785  0.016535  0.039996  0.083858  0.140209  0.191976   \n",
       "11  0.001722  0.004139  0.010616  0.027289  0.061375  0.107136  0.144558   \n",
       "12  0.001109  0.002800  0.007614  0.020674  0.048370  0.085419  0.113023   \n",
       "\n",
       "0      32.00  \n",
       "1   0.293391  \n",
       "2   0.252215  \n",
       "3   0.258086  \n",
       "4   0.245547  \n",
       "5   0.226404  \n",
       "6   0.222005  \n",
       "7   0.121821  \n",
       "8   0.201515  \n",
       "9   0.226035  \n",
       "10  0.224531  \n",
       "11  0.160579  \n",
       "12  0.122234  "
      ]
     },
     "execution_count": 7,
     "metadata": {},
     "output_type": "execute_result"
    }
   ],
   "source": [
    "df2"
   ]
  },
  {
   "cell_type": "code",
   "execution_count": 8,
   "metadata": {},
   "outputs": [],
   "source": [
    "dTau_range_cloud = []\n",
    "\n",
    "for col in df2.columns:\n",
    "    dTau_range_cloud.append(col)"
   ]
  },
  {
   "cell_type": "code",
   "execution_count": 9,
   "metadata": {},
   "outputs": [
    {
     "data": {
      "image/png": "[encoded data removed]",
      "text/plain": [
       "<Figure size 432x288 with 1 Axes>"
      ]
     },
     "metadata": {
      "needs_background": "light"
     },
     "output_type": "display_data"
    }
   ],
   "source": [
    "N_dTau_cloud = len(dTau_range_cloud)\n",
    "\n",
    "fig, ax = plt.subplots()\n",
    "\n",
    "\n",
    "\n",
    "\n",
    "for i in range(N_dTau_cloud):\n",
    "    x = df2[dTau_range_cloud[i]][0:6]\n",
    "    y = df2[dTau_range_cloud[i]][6:12]\n",
    "    \n",
    "    plt.plot(x,y)"
   ]
  },
  {
   "cell_type": "code",
   "execution_count": 10,
   "metadata": {},
   "outputs": [
    {
     "data": {
      "image/png": "[encoded data removed]",
      "text/plain": [
       "<Figure size 432x288 with 1 Axes>"
      ]
     },
     "metadata": {
      "needs_background": "light"
     },
     "output_type": "display_data"
    }
   ],
   "source": [
    "N_dTau_cloud = len(dTau_range_cloud)\n",
    "\n",
    "fig, ax = plt.subplots()\n",
    "\n",
    "plt.plot(df_cloud[4], df_cloud[10])\n",
    "plt.plot(df_cloud[5], df_cloud[11])\n",
    "plt.plot(df_cloud[6], df_cloud[12])\n",
    "\n",
    "plt.legend(['2','10','20'], title='effective radius of cloud ($\\mu$m)')\n",
    "plt.xlabel('Reflection Function ($\\lambda$ = 0.56 $\\mu$m)')\n",
    "plt.ylabel('Reflection Function ($\\lambda$  = 1.59 $\\mu$m)')\n",
    "\n",
    "for i in range(N_dTau_cloud):\n",
    "    x = df2[dTau_range_cloud[i]][3:6]\n",
    "    y = df2[dTau_range_cloud[i]][9:12]\n",
    "    \n",
    "    plt.plot(x,y, color = 'k')"
   ]
  },
  {
   "cell_type": "code",
   "execution_count": null,
   "metadata": {},
   "outputs": [],
   "source": []
  },
  {
   "cell_type": "code",
   "execution_count": null,
   "metadata": {},
   "outputs": [],
   "source": []
  },
  {
   "cell_type": "code",
   "execution_count": null,
   "metadata": {},
   "outputs": [],
   "source": []
  },
  {
   "cell_type": "markdown",
   "metadata": {},
   "source": [
    "> Using a cloud in an atmosphere"
   ]
  },
  {
   "cell_type": "code",
   "execution_count": 11,
   "metadata": {},
   "outputs": [],
   "source": [
    "df_cloud_atm = pd.read_csv(\"../create_atm/atmospheres/cloud_atm_test.csv\", header = None, index_col = 0)"
   ]
  },
  {
   "cell_type": "code",
   "execution_count": 12,
   "metadata": {},
   "outputs": [
    {
     "data": {
      "text/html": [
       "<div>\n",
       "<style scoped>\n",
       "    .dataframe tbody tr th:only-of-type {\n",
       "        vertical-align: middle;\n",
       "    }\n",
       "\n",
       "    .dataframe tbody tr th {\n",
       "        vertical-align: top;\n",
       "    }\n",
       "\n",
       "    .dataframe thead th {\n",
       "        text-align: right;\n",
       "    }\n",
       "</style>\n",
       "<table border=\"1\" class=\"dataframe\">\n",
       "  <thead>\n",
       "    <tr style=\"text-align: right;\">\n",
       "      <th></th>\n",
       "      <th>1</th>\n",
       "      <th>2</th>\n",
       "      <th>3</th>\n",
       "      <th>4</th>\n",
       "      <th>5</th>\n",
       "      <th>6</th>\n",
       "      <th>7</th>\n",
       "      <th>8</th>\n",
       "      <th>9</th>\n",
       "      <th>10</th>\n",
       "      <th>11</th>\n",
       "      <th>12</th>\n",
       "    </tr>\n",
       "    <tr>\n",
       "      <th>0</th>\n",
       "      <th></th>\n",
       "      <th></th>\n",
       "      <th></th>\n",
       "      <th></th>\n",
       "      <th></th>\n",
       "      <th></th>\n",
       "      <th></th>\n",
       "      <th></th>\n",
       "      <th></th>\n",
       "      <th></th>\n",
       "      <th></th>\n",
       "      <th></th>\n",
       "    </tr>\n",
       "  </thead>\n",
       "  <tbody>\n",
       "    <tr>\n",
       "      <th>0.25</th>\n",
       "      <td>0.028212</td>\n",
       "      <td>0.014515</td>\n",
       "      <td>0.015801</td>\n",
       "      <td>0.014595</td>\n",
       "      <td>0.013082</td>\n",
       "      <td>0.012733</td>\n",
       "      <td>0.024992</td>\n",
       "      <td>0.006230</td>\n",
       "      <td>0.002692</td>\n",
       "      <td>0.003116</td>\n",
       "      <td>0.001897</td>\n",
       "      <td>0.001273</td>\n",
       "    </tr>\n",
       "    <tr>\n",
       "      <th>0.50</th>\n",
       "      <td>0.046585</td>\n",
       "      <td>0.018691</td>\n",
       "      <td>0.021410</td>\n",
       "      <td>0.018822</td>\n",
       "      <td>0.015481</td>\n",
       "      <td>0.014784</td>\n",
       "      <td>0.046516</td>\n",
       "      <td>0.015450</td>\n",
       "      <td>0.006433</td>\n",
       "      <td>0.006963</td>\n",
       "      <td>0.004326</td>\n",
       "      <td>0.002973</td>\n",
       "    </tr>\n",
       "    <tr>\n",
       "      <th>1.00</th>\n",
       "      <td>0.080804</td>\n",
       "      <td>0.028815</td>\n",
       "      <td>0.034447</td>\n",
       "      <td>0.028892</td>\n",
       "      <td>0.021465</td>\n",
       "      <td>0.020078</td>\n",
       "      <td>0.077481</td>\n",
       "      <td>0.037160</td>\n",
       "      <td>0.016761</td>\n",
       "      <td>0.016723</td>\n",
       "      <td>0.010802</td>\n",
       "      <td>0.007795</td>\n",
       "    </tr>\n",
       "    <tr>\n",
       "      <th>2.00</th>\n",
       "      <td>0.132266</td>\n",
       "      <td>0.052225</td>\n",
       "      <td>0.062483</td>\n",
       "      <td>0.051842</td>\n",
       "      <td>0.036603</td>\n",
       "      <td>0.033964</td>\n",
       "      <td>0.106944</td>\n",
       "      <td>0.077158</td>\n",
       "      <td>0.042323</td>\n",
       "      <td>0.040155</td>\n",
       "      <td>0.027461</td>\n",
       "      <td>0.020854</td>\n",
       "    </tr>\n",
       "    <tr>\n",
       "      <th>4.00</th>\n",
       "      <td>0.190049</td>\n",
       "      <td>0.094808</td>\n",
       "      <td>0.109889</td>\n",
       "      <td>0.094429</td>\n",
       "      <td>0.069448</td>\n",
       "      <td>0.065109</td>\n",
       "      <td>0.120167</td>\n",
       "      <td>0.128271</td>\n",
       "      <td>0.087946</td>\n",
       "      <td>0.083969</td>\n",
       "      <td>0.061510</td>\n",
       "      <td>0.048507</td>\n",
       "    </tr>\n",
       "    <tr>\n",
       "      <th>8.00</th>\n",
       "      <td>0.239587</td>\n",
       "      <td>0.150441</td>\n",
       "      <td>0.167344</td>\n",
       "      <td>0.150767</td>\n",
       "      <td>0.120674</td>\n",
       "      <td>0.115109</td>\n",
       "      <td>0.121829</td>\n",
       "      <td>0.172889</td>\n",
       "      <td>0.143915</td>\n",
       "      <td>0.140247</td>\n",
       "      <td>0.107205</td>\n",
       "      <td>0.085494</td>\n",
       "    </tr>\n",
       "    <tr>\n",
       "      <th>16.00</th>\n",
       "      <td>0.273515</td>\n",
       "      <td>0.206248</td>\n",
       "      <td>0.219676</td>\n",
       "      <td>0.204939</td>\n",
       "      <td>0.177599</td>\n",
       "      <td>0.172074</td>\n",
       "      <td>0.121852</td>\n",
       "      <td>0.196478</td>\n",
       "      <td>0.194736</td>\n",
       "      <td>0.191968</td>\n",
       "      <td>0.144580</td>\n",
       "      <td>0.113057</td>\n",
       "    </tr>\n",
       "    <tr>\n",
       "      <th>32.00</th>\n",
       "      <td>0.291948</td>\n",
       "      <td>0.249910</td>\n",
       "      <td>0.256777</td>\n",
       "      <td>0.245017</td>\n",
       "      <td>0.225830</td>\n",
       "      <td>0.221521</td>\n",
       "      <td>0.121851</td>\n",
       "      <td>0.201489</td>\n",
       "      <td>0.225991</td>\n",
       "      <td>0.224496</td>\n",
       "      <td>0.160581</td>\n",
       "      <td>0.122254</td>\n",
       "    </tr>\n",
       "  </tbody>\n",
       "</table>\n",
       "</div>"
      ],
      "text/plain": [
       "             1         2         3         4         5         6         7   \\\n",
       "0                                                                             \n",
       "0.25   0.028212  0.014515  0.015801  0.014595  0.013082  0.012733  0.024992   \n",
       "0.50   0.046585  0.018691  0.021410  0.018822  0.015481  0.014784  0.046516   \n",
       "1.00   0.080804  0.028815  0.034447  0.028892  0.021465  0.020078  0.077481   \n",
       "2.00   0.132266  0.052225  0.062483  0.051842  0.036603  0.033964  0.106944   \n",
       "4.00   0.190049  0.094808  0.109889  0.094429  0.069448  0.065109  0.120167   \n",
       "8.00   0.239587  0.150441  0.167344  0.150767  0.120674  0.115109  0.121829   \n",
       "16.00  0.273515  0.206248  0.219676  0.204939  0.177599  0.172074  0.121852   \n",
       "32.00  0.291948  0.249910  0.256777  0.245017  0.225830  0.221521  0.121851   \n",
       "\n",
       "             8         9         10        11        12  \n",
       "0                                                        \n",
       "0.25   0.006230  0.002692  0.003116  0.001897  0.001273  \n",
       "0.50   0.015450  0.006433  0.006963  0.004326  0.002973  \n",
       "1.00   0.037160  0.016761  0.016723  0.010802  0.007795  \n",
       "2.00   0.077158  0.042323  0.040155  0.027461  0.020854  \n",
       "4.00   0.128271  0.087946  0.083969  0.061510  0.048507  \n",
       "8.00   0.172889  0.143915  0.140247  0.107205  0.085494  \n",
       "16.00  0.196478  0.194736  0.191968  0.144580  0.113057  \n",
       "32.00  0.201489  0.225991  0.224496  0.160581  0.122254  "
      ]
     },
     "execution_count": 12,
     "metadata": {},
     "output_type": "execute_result"
    }
   ],
   "source": [
    "df_cloud_atm"
   ]
  },
  {
   "cell_type": "code",
   "execution_count": 13,
   "metadata": {},
   "outputs": [
    {
     "data": {
      "image/png": "[encoded data removed]",
      "text/plain": [
       "<Figure size 432x288 with 1 Axes>"
      ]
     },
     "metadata": {
      "needs_background": "light"
     },
     "output_type": "display_data"
    }
   ],
   "source": [
    "N_cloud_atm = int(df_cloud_atm.shape[1]/2)\n",
    "\n",
    "for i in range(N_cloud_atm):\n",
    "    plt.plot(df_cloud_atm[1+i], df_cloud_atm[7+i])\n",
    "\n",
    "plt.legend(['0.1','0.5','1','2','10','20'], title='effective radius of cloud ($\\mu$m)')\n",
    "plt.xlabel('Reflection Function ($\\lambda$ = 0.56 $\\mu$m)')\n",
    "plt.ylabel('Reflection Function ($\\lambda$  = 1.59 $\\mu$m)')\n",
    "plt.show()"
   ]
  },
  {
   "cell_type": "code",
   "execution_count": 14,
   "metadata": {},
   "outputs": [
    {
     "data": {
      "text/plain": [
       "[<matplotlib.lines.Line2D at 0x7f65c5719b70>]"
      ]
     },
     "execution_count": 14,
     "metadata": {},
     "output_type": "execute_result"
    },
    {
     "data": {
      "image/png": "[encoded data removed]",
      "text/plain": [
       "<Figure size 432x288 with 1 Axes>"
      ]
     },
     "metadata": {
      "needs_background": "light"
     },
     "output_type": "display_data"
    }
   ],
   "source": [
    "plt.plot(df_cloud_atm[3], df_cloud_atm[9])\n",
    "plt.plot(df_cloud_atm[4], df_cloud_atm[10])\n",
    "plt.plot(df_cloud_atm[5], df_cloud_atm[11])\n",
    "plt.plot(df_cloud_atm[6], df_cloud_atm[12])"
   ]
  },
  {
   "cell_type": "code",
   "execution_count": null,
   "metadata": {},
   "outputs": [],
   "source": []
  },
  {
   "cell_type": "code",
   "execution_count": 15,
   "metadata": {},
   "outputs": [],
   "source": [
    "df2_cloud_atm = df_cloud_atm.T"
   ]
  },
  {
   "cell_type": "code",
   "execution_count": 16,
   "metadata": {},
   "outputs": [
    {
     "data": {
      "text/html": [
       "<div>\n",
       "<style scoped>\n",
       "    .dataframe tbody tr th:only-of-type {\n",
       "        vertical-align: middle;\n",
       "    }\n",
       "\n",
       "    .dataframe tbody tr th {\n",
       "        vertical-align: top;\n",
       "    }\n",
       "\n",
       "    .dataframe thead th {\n",
       "        text-align: right;\n",
       "    }\n",
       "</style>\n",
       "<table border=\"1\" class=\"dataframe\">\n",
       "  <thead>\n",
       "    <tr style=\"text-align: right;\">\n",
       "      <th></th>\n",
       "      <th>0.25</th>\n",
       "      <th>0.50</th>\n",
       "      <th>1.00</th>\n",
       "      <th>2.00</th>\n",
       "      <th>4.00</th>\n",
       "      <th>8.00</th>\n",
       "      <th>16.00</th>\n",
       "      <th>32.00</th>\n",
       "    </tr>\n",
       "  </thead>\n",
       "  <tbody>\n",
       "    <tr>\n",
       "      <th>1</th>\n",
       "      <td>0.028212</td>\n",
       "      <td>0.046585</td>\n",
       "      <td>0.080804</td>\n",
       "      <td>0.132266</td>\n",
       "      <td>0.190049</td>\n",
       "      <td>0.239587</td>\n",
       "      <td>0.273515</td>\n",
       "      <td>0.291948</td>\n",
       "    </tr>\n",
       "    <tr>\n",
       "      <th>2</th>\n",
       "      <td>0.014515</td>\n",
       "      <td>0.018691</td>\n",
       "      <td>0.028815</td>\n",
       "      <td>0.052225</td>\n",
       "      <td>0.094808</td>\n",
       "      <td>0.150441</td>\n",
       "      <td>0.206248</td>\n",
       "      <td>0.249910</td>\n",
       "    </tr>\n",
       "    <tr>\n",
       "      <th>3</th>\n",
       "      <td>0.015801</td>\n",
       "      <td>0.021410</td>\n",
       "      <td>0.034447</td>\n",
       "      <td>0.062483</td>\n",
       "      <td>0.109889</td>\n",
       "      <td>0.167344</td>\n",
       "      <td>0.219676</td>\n",
       "      <td>0.256777</td>\n",
       "    </tr>\n",
       "    <tr>\n",
       "      <th>4</th>\n",
       "      <td>0.014595</td>\n",
       "      <td>0.018822</td>\n",
       "      <td>0.028892</td>\n",
       "      <td>0.051842</td>\n",
       "      <td>0.094429</td>\n",
       "      <td>0.150767</td>\n",
       "      <td>0.204939</td>\n",
       "      <td>0.245017</td>\n",
       "    </tr>\n",
       "    <tr>\n",
       "      <th>5</th>\n",
       "      <td>0.013082</td>\n",
       "      <td>0.015481</td>\n",
       "      <td>0.021465</td>\n",
       "      <td>0.036603</td>\n",
       "      <td>0.069448</td>\n",
       "      <td>0.120674</td>\n",
       "      <td>0.177599</td>\n",
       "      <td>0.225830</td>\n",
       "    </tr>\n",
       "    <tr>\n",
       "      <th>6</th>\n",
       "      <td>0.012733</td>\n",
       "      <td>0.014784</td>\n",
       "      <td>0.020078</td>\n",
       "      <td>0.033964</td>\n",
       "      <td>0.065109</td>\n",
       "      <td>0.115109</td>\n",
       "      <td>0.172074</td>\n",
       "      <td>0.221521</td>\n",
       "    </tr>\n",
       "    <tr>\n",
       "      <th>7</th>\n",
       "      <td>0.024992</td>\n",
       "      <td>0.046516</td>\n",
       "      <td>0.077481</td>\n",
       "      <td>0.106944</td>\n",
       "      <td>0.120167</td>\n",
       "      <td>0.121829</td>\n",
       "      <td>0.121852</td>\n",
       "      <td>0.121851</td>\n",
       "    </tr>\n",
       "    <tr>\n",
       "      <th>8</th>\n",
       "      <td>0.006230</td>\n",
       "      <td>0.015450</td>\n",
       "      <td>0.037160</td>\n",
       "      <td>0.077158</td>\n",
       "      <td>0.128271</td>\n",
       "      <td>0.172889</td>\n",
       "      <td>0.196478</td>\n",
       "      <td>0.201489</td>\n",
       "    </tr>\n",
       "    <tr>\n",
       "      <th>9</th>\n",
       "      <td>0.002692</td>\n",
       "      <td>0.006433</td>\n",
       "      <td>0.016761</td>\n",
       "      <td>0.042323</td>\n",
       "      <td>0.087946</td>\n",
       "      <td>0.143915</td>\n",
       "      <td>0.194736</td>\n",
       "      <td>0.225991</td>\n",
       "    </tr>\n",
       "    <tr>\n",
       "      <th>10</th>\n",
       "      <td>0.003116</td>\n",
       "      <td>0.006963</td>\n",
       "      <td>0.016723</td>\n",
       "      <td>0.040155</td>\n",
       "      <td>0.083969</td>\n",
       "      <td>0.140247</td>\n",
       "      <td>0.191968</td>\n",
       "      <td>0.224496</td>\n",
       "    </tr>\n",
       "    <tr>\n",
       "      <th>11</th>\n",
       "      <td>0.001897</td>\n",
       "      <td>0.004326</td>\n",
       "      <td>0.010802</td>\n",
       "      <td>0.027461</td>\n",
       "      <td>0.061510</td>\n",
       "      <td>0.107205</td>\n",
       "      <td>0.144580</td>\n",
       "      <td>0.160581</td>\n",
       "    </tr>\n",
       "    <tr>\n",
       "      <th>12</th>\n",
       "      <td>0.001273</td>\n",
       "      <td>0.002973</td>\n",
       "      <td>0.007795</td>\n",
       "      <td>0.020854</td>\n",
       "      <td>0.048507</td>\n",
       "      <td>0.085494</td>\n",
       "      <td>0.113057</td>\n",
       "      <td>0.122254</td>\n",
       "    </tr>\n",
       "  </tbody>\n",
       "</table>\n",
       "</div>"
      ],
      "text/plain": [
       "0      0.25      0.50      1.00      2.00      4.00      8.00      16.00  \\\n",
       "1   0.028212  0.046585  0.080804  0.132266  0.190049  0.239587  0.273515   \n",
       "2   0.014515  0.018691  0.028815  0.052225  0.094808  0.150441  0.206248   \n",
       "3   0.015801  0.021410  0.034447  0.062483  0.109889  0.167344  0.219676   \n",
       "4   0.014595  0.018822  0.028892  0.051842  0.094429  0.150767  0.204939   \n",
       "5   0.013082  0.015481  0.021465  0.036603  0.069448  0.120674  0.177599   \n",
       "6   0.012733  0.014784  0.020078  0.033964  0.065109  0.115109  0.172074   \n",
       "7   0.024992  0.046516  0.077481  0.106944  0.120167  0.121829  0.121852   \n",
       "8   0.006230  0.015450  0.037160  0.077158  0.128271  0.172889  0.196478   \n",
       "9   0.002692  0.006433  0.016761  0.042323  0.087946  0.143915  0.194736   \n",
       "10  0.003116  0.006963  0.016723  0.040155  0.083969  0.140247  0.191968   \n",
       "11  0.001897  0.004326  0.010802  0.027461  0.061510  0.107205  0.144580   \n",
       "12  0.001273  0.002973  0.007795  0.020854  0.048507  0.085494  0.113057   \n",
       "\n",
       "0      32.00  \n",
       "1   0.291948  \n",
       "2   0.249910  \n",
       "3   0.256777  \n",
       "4   0.245017  \n",
       "5   0.225830  \n",
       "6   0.221521  \n",
       "7   0.121851  \n",
       "8   0.201489  \n",
       "9   0.225991  \n",
       "10  0.224496  \n",
       "11  0.160581  \n",
       "12  0.122254  "
      ]
     },
     "execution_count": 16,
     "metadata": {},
     "output_type": "execute_result"
    }
   ],
   "source": [
    "df2_cloud_atm"
   ]
  },
  {
   "cell_type": "code",
   "execution_count": 17,
   "metadata": {},
   "outputs": [],
   "source": [
    "dTau_range_cloud = []\n",
    "\n",
    "for col in df2_cloud_atm.columns:\n",
    "    dTau_range_cloud.append(col)"
   ]
  },
  {
   "cell_type": "code",
   "execution_count": 18,
   "metadata": {},
   "outputs": [
    {
     "data": {
      "image/png": "[encoded data removed]",
      "text/plain": [
       "<Figure size 432x288 with 1 Axes>"
      ]
     },
     "metadata": {
      "needs_background": "light"
     },
     "output_type": "display_data"
    }
   ],
   "source": [
    "N_dTau_cloud = len(dTau_range_cloud)\n",
    "\n",
    "fig, ax = plt.subplots()\n",
    "\n",
    "for i in range(N_dTau_cloud):\n",
    "    x = df2_cloud_atm[dTau_range_cloud[i]][0:6]\n",
    "    y = df2_cloud_atm[dTau_range_cloud[i]][6:12]\n",
    "    \n",
    "    plt.plot(x,y)"
   ]
  },
  {
   "cell_type": "code",
   "execution_count": 19,
   "metadata": {},
   "outputs": [
    {
     "data": {
      "image/png": "[encoded data removed]",
      "text/plain": [
       "<Figure size 432x288 with 1 Axes>"
      ]
     },
     "metadata": {
      "needs_background": "light"
     },
     "output_type": "display_data"
    }
   ],
   "source": [
    "N_dTau_cloud = len(dTau_range_cloud)\n",
    "\n",
    "fig, ax = plt.subplots()\n",
    "\n",
    "plt.plot(df_cloud_atm[4], df_cloud_atm[10])\n",
    "plt.plot(df_cloud_atm[5], df_cloud_atm[11])\n",
    "plt.plot(df_cloud_atm[6], df_cloud_atm[12])\n",
    "\n",
    "plt.legend(['2','10','20'], title='effective radius of cloud ($\\mu$m)')\n",
    "plt.xlabel('Reflection Function ($\\lambda$ = 0.56 $\\mu$m)')\n",
    "plt.ylabel('Reflection Function ($\\lambda$  = 1.59 $\\mu$m)')\n",
    "\n",
    "for i in range(N_dTau_cloud):\n",
    "    x = df2_cloud_atm[dTau_range_cloud[i]][3:6]\n",
    "    y = df2_cloud_atm[dTau_range_cloud[i]][9:12]\n",
    "    \n",
    "    plt.plot(x,y, color = 'k')"
   ]
  },
  {
   "cell_type": "code",
   "execution_count": 20,
   "metadata": {},
   "outputs": [
    {
     "data": {
      "text/html": [
       "<div>\n",
       "<style scoped>\n",
       "    .dataframe tbody tr th:only-of-type {\n",
       "        vertical-align: middle;\n",
       "    }\n",
       "\n",
       "    .dataframe tbody tr th {\n",
       "        vertical-align: top;\n",
       "    }\n",
       "\n",
       "    .dataframe thead th {\n",
       "        text-align: right;\n",
       "    }\n",
       "</style>\n",
       "<table border=\"1\" class=\"dataframe\">\n",
       "  <thead>\n",
       "    <tr style=\"text-align: right;\">\n",
       "      <th></th>\n",
       "      <th>1</th>\n",
       "      <th>2</th>\n",
       "      <th>3</th>\n",
       "      <th>4</th>\n",
       "      <th>5</th>\n",
       "      <th>6</th>\n",
       "      <th>7</th>\n",
       "      <th>8</th>\n",
       "      <th>9</th>\n",
       "      <th>10</th>\n",
       "      <th>11</th>\n",
       "      <th>12</th>\n",
       "    </tr>\n",
       "    <tr>\n",
       "      <th>0</th>\n",
       "      <th></th>\n",
       "      <th></th>\n",
       "      <th></th>\n",
       "      <th></th>\n",
       "      <th></th>\n",
       "      <th></th>\n",
       "      <th></th>\n",
       "      <th></th>\n",
       "      <th></th>\n",
       "      <th></th>\n",
       "      <th></th>\n",
       "      <th></th>\n",
       "    </tr>\n",
       "  </thead>\n",
       "  <tbody>\n",
       "    <tr>\n",
       "      <th>0.25</th>\n",
       "      <td>0.028212</td>\n",
       "      <td>0.014515</td>\n",
       "      <td>0.015801</td>\n",
       "      <td>0.014595</td>\n",
       "      <td>0.013082</td>\n",
       "      <td>0.012733</td>\n",
       "      <td>0.024992</td>\n",
       "      <td>0.006230</td>\n",
       "      <td>0.002692</td>\n",
       "      <td>0.003116</td>\n",
       "      <td>0.001897</td>\n",
       "      <td>0.001273</td>\n",
       "    </tr>\n",
       "    <tr>\n",
       "      <th>0.50</th>\n",
       "      <td>0.046585</td>\n",
       "      <td>0.018691</td>\n",
       "      <td>0.021410</td>\n",
       "      <td>0.018822</td>\n",
       "      <td>0.015481</td>\n",
       "      <td>0.014784</td>\n",
       "      <td>0.046516</td>\n",
       "      <td>0.015450</td>\n",
       "      <td>0.006433</td>\n",
       "      <td>0.006963</td>\n",
       "      <td>0.004326</td>\n",
       "      <td>0.002973</td>\n",
       "    </tr>\n",
       "    <tr>\n",
       "      <th>1.00</th>\n",
       "      <td>0.080804</td>\n",
       "      <td>0.028815</td>\n",
       "      <td>0.034447</td>\n",
       "      <td>0.028892</td>\n",
       "      <td>0.021465</td>\n",
       "      <td>0.020078</td>\n",
       "      <td>0.077481</td>\n",
       "      <td>0.037160</td>\n",
       "      <td>0.016761</td>\n",
       "      <td>0.016723</td>\n",
       "      <td>0.010802</td>\n",
       "      <td>0.007795</td>\n",
       "    </tr>\n",
       "    <tr>\n",
       "      <th>2.00</th>\n",
       "      <td>0.132266</td>\n",
       "      <td>0.052225</td>\n",
       "      <td>0.062483</td>\n",
       "      <td>0.051842</td>\n",
       "      <td>0.036603</td>\n",
       "      <td>0.033964</td>\n",
       "      <td>0.106944</td>\n",
       "      <td>0.077158</td>\n",
       "      <td>0.042323</td>\n",
       "      <td>0.040155</td>\n",
       "      <td>0.027461</td>\n",
       "      <td>0.020854</td>\n",
       "    </tr>\n",
       "    <tr>\n",
       "      <th>4.00</th>\n",
       "      <td>0.190049</td>\n",
       "      <td>0.094808</td>\n",
       "      <td>0.109889</td>\n",
       "      <td>0.094429</td>\n",
       "      <td>0.069448</td>\n",
       "      <td>0.065109</td>\n",
       "      <td>0.120167</td>\n",
       "      <td>0.128271</td>\n",
       "      <td>0.087946</td>\n",
       "      <td>0.083969</td>\n",
       "      <td>0.061510</td>\n",
       "      <td>0.048507</td>\n",
       "    </tr>\n",
       "    <tr>\n",
       "      <th>8.00</th>\n",
       "      <td>0.239587</td>\n",
       "      <td>0.150441</td>\n",
       "      <td>0.167344</td>\n",
       "      <td>0.150767</td>\n",
       "      <td>0.120674</td>\n",
       "      <td>0.115109</td>\n",
       "      <td>0.121829</td>\n",
       "      <td>0.172889</td>\n",
       "      <td>0.143915</td>\n",
       "      <td>0.140247</td>\n",
       "      <td>0.107205</td>\n",
       "      <td>0.085494</td>\n",
       "    </tr>\n",
       "    <tr>\n",
       "      <th>16.00</th>\n",
       "      <td>0.273515</td>\n",
       "      <td>0.206248</td>\n",
       "      <td>0.219676</td>\n",
       "      <td>0.204939</td>\n",
       "      <td>0.177599</td>\n",
       "      <td>0.172074</td>\n",
       "      <td>0.121852</td>\n",
       "      <td>0.196478</td>\n",
       "      <td>0.194736</td>\n",
       "      <td>0.191968</td>\n",
       "      <td>0.144580</td>\n",
       "      <td>0.113057</td>\n",
       "    </tr>\n",
       "    <tr>\n",
       "      <th>32.00</th>\n",
       "      <td>0.291948</td>\n",
       "      <td>0.249910</td>\n",
       "      <td>0.256777</td>\n",
       "      <td>0.245017</td>\n",
       "      <td>0.225830</td>\n",
       "      <td>0.221521</td>\n",
       "      <td>0.121851</td>\n",
       "      <td>0.201489</td>\n",
       "      <td>0.225991</td>\n",
       "      <td>0.224496</td>\n",
       "      <td>0.160581</td>\n",
       "      <td>0.122254</td>\n",
       "    </tr>\n",
       "  </tbody>\n",
       "</table>\n",
       "</div>"
      ],
      "text/plain": [
       "             1         2         3         4         5         6         7   \\\n",
       "0                                                                             \n",
       "0.25   0.028212  0.014515  0.015801  0.014595  0.013082  0.012733  0.024992   \n",
       "0.50   0.046585  0.018691  0.021410  0.018822  0.015481  0.014784  0.046516   \n",
       "1.00   0.080804  0.028815  0.034447  0.028892  0.021465  0.020078  0.077481   \n",
       "2.00   0.132266  0.052225  0.062483  0.051842  0.036603  0.033964  0.106944   \n",
       "4.00   0.190049  0.094808  0.109889  0.094429  0.069448  0.065109  0.120167   \n",
       "8.00   0.239587  0.150441  0.167344  0.150767  0.120674  0.115109  0.121829   \n",
       "16.00  0.273515  0.206248  0.219676  0.204939  0.177599  0.172074  0.121852   \n",
       "32.00  0.291948  0.249910  0.256777  0.245017  0.225830  0.221521  0.121851   \n",
       "\n",
       "             8         9         10        11        12  \n",
       "0                                                        \n",
       "0.25   0.006230  0.002692  0.003116  0.001897  0.001273  \n",
       "0.50   0.015450  0.006433  0.006963  0.004326  0.002973  \n",
       "1.00   0.037160  0.016761  0.016723  0.010802  0.007795  \n",
       "2.00   0.077158  0.042323  0.040155  0.027461  0.020854  \n",
       "4.00   0.128271  0.087946  0.083969  0.061510  0.048507  \n",
       "8.00   0.172889  0.143915  0.140247  0.107205  0.085494  \n",
       "16.00  0.196478  0.194736  0.191968  0.144580  0.113057  \n",
       "32.00  0.201489  0.225991  0.224496  0.160581  0.122254  "
      ]
     },
     "execution_count": 20,
     "metadata": {},
     "output_type": "execute_result"
    }
   ],
   "source": [
    "df_cloud_atm"
   ]
  },
  {
   "cell_type": "code",
   "execution_count": 21,
   "metadata": {},
   "outputs": [
    {
     "data": {
      "text/plain": [
       "[<matplotlib.lines.Line2D at 0x7f65c55d4358>]"
      ]
     },
     "execution_count": 21,
     "metadata": {},
     "output_type": "execute_result"
    },
    {
     "data": {
      "image/png": "[encoded data removed]",
      "text/plain": [
       "<Figure size 432x288 with 1 Axes>"
      ]
     },
     "metadata": {
      "needs_background": "light"
     },
     "output_type": "display_data"
    }
   ],
   "source": [
    "plt.plot(df_cloud_atm.index, df_cloud_atm[1])"
   ]
  },
  {
   "cell_type": "markdown",
   "metadata": {},
   "source": [
    "## Bilinear Interpolation"
   ]
  },
  {
   "cell_type": "code",
   "execution_count": 22,
   "metadata": {},
   "outputs": [],
   "source": [
    "effr_cloud = [0.1, 0.5, 1.0, 2.0, 10, 20]"
   ]
  },
  {
   "cell_type": "code",
   "execution_count": 23,
   "metadata": {},
   "outputs": [],
   "source": [
    "df_index_log = np.log(df_cloud_atm.index)"
   ]
  },
  {
   "cell_type": "code",
   "execution_count": 24,
   "metadata": {},
   "outputs": [
    {
     "data": {
      "text/plain": [
       "Float64Index([0.25, 0.5, 1.0, 2.0, 4.0, 8.0, 16.0, 32.0], dtype='float64', name=0)"
      ]
     },
     "execution_count": 24,
     "metadata": {},
     "output_type": "execute_result"
    }
   ],
   "source": [
    "df_cloud_atm.index"
   ]
  },
  {
   "cell_type": "code",
   "execution_count": 25,
   "metadata": {},
   "outputs": [],
   "source": [
    "##scipy.interpolate.interp2d\n",
    "\n",
    "import scipy.interpolate as interpolate"
   ]
  },
  {
   "cell_type": "markdown",
   "metadata": {},
   "source": [
    "> figuring out where it is appropriate to do bilinear interpolation\n",
    "- optical depth scaling and values"
   ]
  },
  {
   "cell_type": "code",
   "execution_count": 26,
   "metadata": {},
   "outputs": [
    {
     "data": {
      "image/png": "[encoded data removed]",
      "text/plain": [
       "<Figure size 432x288 with 1 Axes>"
      ]
     },
     "metadata": {
      "needs_background": "light"
     },
     "output_type": "display_data"
    }
   ],
   "source": [
    "for i in range(3,7):\n",
    "    plt.scatter(df_index_log, df_cloud_atm[i])\n",
    "    plt.xlabel('ln(optical depth)')\n",
    "    plt.ylabel('Reflection Function ($\\lambda$ = 0.56 $\\mu$m)')\n",
    "    plt.legend(effr_cloud[2:6])"
   ]
  },
  {
   "cell_type": "code",
   "execution_count": 27,
   "metadata": {},
   "outputs": [
    {
     "data": {
      "image/png": "[encoded data removed]",
      "text/plain": [
       "<Figure size 432x288 with 1 Axes>"
      ]
     },
     "metadata": {
      "needs_background": "light"
     },
     "output_type": "display_data"
    }
   ],
   "source": [
    "for i in range(3,7):\n",
    "    plt.scatter(df_index_log, df_cloud_atm[i+6])\n",
    "    plt.xlabel('ln(optical depth)')\n",
    "    plt.ylabel('Reflection Function ($\\lambda$ = 1.59 $\\mu$m)')\n",
    "    plt.legend(effr_cloud[2:6], title = 'effective radius')"
   ]
  },
  {
   "cell_type": "markdown",
   "metadata": {},
   "source": [
    "The reflectance function is vaguely linear is ln(optical depth) in the range: 2 < optical depth < 16 in both reflection function"
   ]
  },
  {
   "cell_type": "markdown",
   "metadata": {},
   "source": [
    "Hence we do the bilinear interpolation between these values"
   ]
  },
  {
   "cell_type": "markdown",
   "metadata": {},
   "source": [
    "- effective radius scaling (we know that the values used will be 2, 10, 20"
   ]
  },
  {
   "cell_type": "code",
   "execution_count": 28,
   "metadata": {},
   "outputs": [],
   "source": [
    "df2_cloud_atm = df_cloud_atm.T"
   ]
  },
  {
   "cell_type": "code",
   "execution_count": 29,
   "metadata": {},
   "outputs": [
    {
     "data": {
      "text/html": [
       "<div>\n",
       "<style scoped>\n",
       "    .dataframe tbody tr th:only-of-type {\n",
       "        vertical-align: middle;\n",
       "    }\n",
       "\n",
       "    .dataframe tbody tr th {\n",
       "        vertical-align: top;\n",
       "    }\n",
       "\n",
       "    .dataframe thead th {\n",
       "        text-align: right;\n",
       "    }\n",
       "</style>\n",
       "<table border=\"1\" class=\"dataframe\">\n",
       "  <thead>\n",
       "    <tr style=\"text-align: right;\">\n",
       "      <th></th>\n",
       "      <th>0.25</th>\n",
       "      <th>0.50</th>\n",
       "      <th>1.00</th>\n",
       "      <th>2.00</th>\n",
       "      <th>4.00</th>\n",
       "      <th>8.00</th>\n",
       "      <th>16.00</th>\n",
       "      <th>32.00</th>\n",
       "    </tr>\n",
       "  </thead>\n",
       "  <tbody>\n",
       "    <tr>\n",
       "      <th>1</th>\n",
       "      <td>0.028212</td>\n",
       "      <td>0.046585</td>\n",
       "      <td>0.080804</td>\n",
       "      <td>0.132266</td>\n",
       "      <td>0.190049</td>\n",
       "      <td>0.239587</td>\n",
       "      <td>0.273515</td>\n",
       "      <td>0.291948</td>\n",
       "    </tr>\n",
       "    <tr>\n",
       "      <th>2</th>\n",
       "      <td>0.014515</td>\n",
       "      <td>0.018691</td>\n",
       "      <td>0.028815</td>\n",
       "      <td>0.052225</td>\n",
       "      <td>0.094808</td>\n",
       "      <td>0.150441</td>\n",
       "      <td>0.206248</td>\n",
       "      <td>0.249910</td>\n",
       "    </tr>\n",
       "    <tr>\n",
       "      <th>3</th>\n",
       "      <td>0.015801</td>\n",
       "      <td>0.021410</td>\n",
       "      <td>0.034447</td>\n",
       "      <td>0.062483</td>\n",
       "      <td>0.109889</td>\n",
       "      <td>0.167344</td>\n",
       "      <td>0.219676</td>\n",
       "      <td>0.256777</td>\n",
       "    </tr>\n",
       "    <tr>\n",
       "      <th>4</th>\n",
       "      <td>0.014595</td>\n",
       "      <td>0.018822</td>\n",
       "      <td>0.028892</td>\n",
       "      <td>0.051842</td>\n",
       "      <td>0.094429</td>\n",
       "      <td>0.150767</td>\n",
       "      <td>0.204939</td>\n",
       "      <td>0.245017</td>\n",
       "    </tr>\n",
       "    <tr>\n",
       "      <th>5</th>\n",
       "      <td>0.013082</td>\n",
       "      <td>0.015481</td>\n",
       "      <td>0.021465</td>\n",
       "      <td>0.036603</td>\n",
       "      <td>0.069448</td>\n",
       "      <td>0.120674</td>\n",
       "      <td>0.177599</td>\n",
       "      <td>0.225830</td>\n",
       "    </tr>\n",
       "    <tr>\n",
       "      <th>6</th>\n",
       "      <td>0.012733</td>\n",
       "      <td>0.014784</td>\n",
       "      <td>0.020078</td>\n",
       "      <td>0.033964</td>\n",
       "      <td>0.065109</td>\n",
       "      <td>0.115109</td>\n",
       "      <td>0.172074</td>\n",
       "      <td>0.221521</td>\n",
       "    </tr>\n",
       "    <tr>\n",
       "      <th>7</th>\n",
       "      <td>0.024992</td>\n",
       "      <td>0.046516</td>\n",
       "      <td>0.077481</td>\n",
       "      <td>0.106944</td>\n",
       "      <td>0.120167</td>\n",
       "      <td>0.121829</td>\n",
       "      <td>0.121852</td>\n",
       "      <td>0.121851</td>\n",
       "    </tr>\n",
       "    <tr>\n",
       "      <th>8</th>\n",
       "      <td>0.006230</td>\n",
       "      <td>0.015450</td>\n",
       "      <td>0.037160</td>\n",
       "      <td>0.077158</td>\n",
       "      <td>0.128271</td>\n",
       "      <td>0.172889</td>\n",
       "      <td>0.196478</td>\n",
       "      <td>0.201489</td>\n",
       "    </tr>\n",
       "    <tr>\n",
       "      <th>9</th>\n",
       "      <td>0.002692</td>\n",
       "      <td>0.006433</td>\n",
       "      <td>0.016761</td>\n",
       "      <td>0.042323</td>\n",
       "      <td>0.087946</td>\n",
       "      <td>0.143915</td>\n",
       "      <td>0.194736</td>\n",
       "      <td>0.225991</td>\n",
       "    </tr>\n",
       "    <tr>\n",
       "      <th>10</th>\n",
       "      <td>0.003116</td>\n",
       "      <td>0.006963</td>\n",
       "      <td>0.016723</td>\n",
       "      <td>0.040155</td>\n",
       "      <td>0.083969</td>\n",
       "      <td>0.140247</td>\n",
       "      <td>0.191968</td>\n",
       "      <td>0.224496</td>\n",
       "    </tr>\n",
       "    <tr>\n",
       "      <th>11</th>\n",
       "      <td>0.001897</td>\n",
       "      <td>0.004326</td>\n",
       "      <td>0.010802</td>\n",
       "      <td>0.027461</td>\n",
       "      <td>0.061510</td>\n",
       "      <td>0.107205</td>\n",
       "      <td>0.144580</td>\n",
       "      <td>0.160581</td>\n",
       "    </tr>\n",
       "    <tr>\n",
       "      <th>12</th>\n",
       "      <td>0.001273</td>\n",
       "      <td>0.002973</td>\n",
       "      <td>0.007795</td>\n",
       "      <td>0.020854</td>\n",
       "      <td>0.048507</td>\n",
       "      <td>0.085494</td>\n",
       "      <td>0.113057</td>\n",
       "      <td>0.122254</td>\n",
       "    </tr>\n",
       "  </tbody>\n",
       "</table>\n",
       "</div>"
      ],
      "text/plain": [
       "0      0.25      0.50      1.00      2.00      4.00      8.00      16.00  \\\n",
       "1   0.028212  0.046585  0.080804  0.132266  0.190049  0.239587  0.273515   \n",
       "2   0.014515  0.018691  0.028815  0.052225  0.094808  0.150441  0.206248   \n",
       "3   0.015801  0.021410  0.034447  0.062483  0.109889  0.167344  0.219676   \n",
       "4   0.014595  0.018822  0.028892  0.051842  0.094429  0.150767  0.204939   \n",
       "5   0.013082  0.015481  0.021465  0.036603  0.069448  0.120674  0.177599   \n",
       "6   0.012733  0.014784  0.020078  0.033964  0.065109  0.115109  0.172074   \n",
       "7   0.024992  0.046516  0.077481  0.106944  0.120167  0.121829  0.121852   \n",
       "8   0.006230  0.015450  0.037160  0.077158  0.128271  0.172889  0.196478   \n",
       "9   0.002692  0.006433  0.016761  0.042323  0.087946  0.143915  0.194736   \n",
       "10  0.003116  0.006963  0.016723  0.040155  0.083969  0.140247  0.191968   \n",
       "11  0.001897  0.004326  0.010802  0.027461  0.061510  0.107205  0.144580   \n",
       "12  0.001273  0.002973  0.007795  0.020854  0.048507  0.085494  0.113057   \n",
       "\n",
       "0      32.00  \n",
       "1   0.291948  \n",
       "2   0.249910  \n",
       "3   0.256777  \n",
       "4   0.245017  \n",
       "5   0.225830  \n",
       "6   0.221521  \n",
       "7   0.121851  \n",
       "8   0.201489  \n",
       "9   0.225991  \n",
       "10  0.224496  \n",
       "11  0.160581  \n",
       "12  0.122254  "
      ]
     },
     "execution_count": 29,
     "metadata": {},
     "output_type": "execute_result"
    }
   ],
   "source": [
    "df2_cloud_atm"
   ]
  },
  {
   "cell_type": "code",
   "execution_count": 30,
   "metadata": {},
   "outputs": [
    {
     "data": {
      "text/plain": [
       "[0.1, 0.5, 1.0, 2.0, 10, 20]"
      ]
     },
     "execution_count": 30,
     "metadata": {},
     "output_type": "execute_result"
    }
   ],
   "source": [
    "effr_cloud"
   ]
  },
  {
   "cell_type": "code",
   "execution_count": 31,
   "metadata": {},
   "outputs": [
    {
     "data": {
      "text/plain": [
       "<matplotlib.legend.Legend at 0x7f65bb553860>"
      ]
     },
     "execution_count": 31,
     "metadata": {},
     "output_type": "execute_result"
    },
    {
     "data": {
      "image/png": "[encoded data removed]",
      "text/plain": [
       "<Figure size 432x288 with 1 Axes>"
      ]
     },
     "metadata": {
      "needs_background": "light"
     },
     "output_type": "display_data"
    }
   ],
   "source": [
    "for i in range(len(dTau_range_cloud)):\n",
    "    plt.plot(np.log(effr_cloud), df2_cloud_atm[dTau_range_cloud[i]][0:6])\n",
    "plt.xlabel('len(effective radius)')\n",
    "plt.ylabel('Reflection Function ($\\lambda$ = 0.56 $\\mu$m)')\n",
    "plt.legend(dTau_range_cloud, title = 'optical depth of cloud')"
   ]
  },
  {
   "cell_type": "code",
   "execution_count": 32,
   "metadata": {},
   "outputs": [
    {
     "data": {
      "text/plain": [
       "<matplotlib.legend.Legend at 0x7f65bb492f98>"
      ]
     },
     "execution_count": 32,
     "metadata": {},
     "output_type": "execute_result"
    },
    {
     "data": {
      "image/png": "[encoded data removed]",
      "text/plain": [
       "<Figure size 432x288 with 1 Axes>"
      ]
     },
     "metadata": {
      "needs_background": "light"
     },
     "output_type": "display_data"
    }
   ],
   "source": [
    "for i in range(len(dTau_range_cloud)):\n",
    "    plt.plot(np.log(effr_cloud), df2_cloud_atm[dTau_range_cloud[i]][6:12])\n",
    "plt.xlabel('effective radius')\n",
    "plt.ylabel('Reflection Function ($\\lambda$ = 1.59 $\\mu$m)')\n",
    "plt.legend(dTau_range_cloud, title = 'optical depth of cloud')"
   ]
  },
  {
   "cell_type": "markdown",
   "metadata": {},
   "source": [
    "The reflectance function is vaguely linear is ln(effective radius) above small radii: good since we plan to use 2, 10 , 20 optical depths (from this plot we can see the effect of excluding an optical depth of 1 is minimal, especially since we are not planning on using an optical depth of 32)"
   ]
  },
  {
   "cell_type": "markdown",
   "metadata": {},
   "source": [
    "### Data set we look at to interpolate"
   ]
  },
  {
   "cell_type": "code",
   "execution_count": 33,
   "metadata": {},
   "outputs": [
    {
     "data": {
      "image/png": "[encoded data removed]",
      "text/plain": [
       "<Figure size 432x288 with 1 Axes>"
      ]
     },
     "metadata": {
      "needs_background": "light"
     },
     "output_type": "display_data"
    }
   ],
   "source": [
    "N_dTau_cloud = len(dTau_range_cloud)\n",
    "\n",
    "fig, ax = plt.subplots()\n",
    "\n",
    "#plt.plot(df_cloud_atm[3][2:16], df_cloud_atm[9][2:16])\n",
    "plt.plot(df_cloud_atm[4][2:16], df_cloud_atm[10][2:16])\n",
    "plt.plot(df_cloud_atm[5][2:16], df_cloud_atm[11][2:16])\n",
    "plt.plot(df_cloud_atm[6][2:16], df_cloud_atm[12][2:16])\n",
    "\n",
    "plt.legend(['2','10','20'], title='effective radius of cloud ($\\mu$m)')\n",
    "plt.xlabel('Reflection Function ($\\lambda$ = 0.56 $\\mu$m)')\n",
    "plt.ylabel('Reflection Function ($\\lambda$  = 1.59 $\\mu$m)')\n",
    "\n",
    "for i in range(3,7):\n",
    "    x = df2_cloud_atm[dTau_range_cloud[i]][3:6]\n",
    "    y = df2_cloud_atm[dTau_range_cloud[i]][9:12]\n",
    "    \n",
    "    plt.plot(x,y, color = 'k')"
   ]
  },
  {
   "cell_type": "code",
   "execution_count": 34,
   "metadata": {},
   "outputs": [
    {
     "data": {
      "text/plain": [
       "0\n",
       "2.0     0.062483\n",
       "4.0     0.109889\n",
       "8.0     0.167344\n",
       "16.0    0.219676\n",
       "Name: 3, dtype: float64"
      ]
     },
     "execution_count": 34,
     "metadata": {},
     "output_type": "execute_result"
    }
   ],
   "source": [
    "df_cloud_atm[3][2:16]"
   ]
  },
  {
   "cell_type": "markdown",
   "metadata": {},
   "source": [
    "> trying out the bilinear interpolation on the reduced data set"
   ]
  },
  {
   "cell_type": "markdown",
   "metadata": {},
   "source": [
    "- interpolating data for visible light"
   ]
  },
  {
   "cell_type": "code",
   "execution_count": 35,
   "metadata": {},
   "outputs": [
    {
     "name": "stdout",
     "output_type": "stream",
     "text": [
      "Float64Index([2.0, 4.0, 8.0, 16.0], dtype='float64', name=0)\n",
      "[0.6931471805599453, 1.3862943611198906, 2.0794415416798357, 2.772588722239781]\n"
     ]
    }
   ],
   "source": [
    "x_v = df_cloud_atm.index[3:7] # np.log(df_cloud_atm.index)\n",
    "print(x_v)\n",
    "x_v = [np.log(x_v[i]) for i in range(len(x_v))] ## set of optical depths to do bilinear interpolation over\n",
    "print(x_v)"
   ]
  },
  {
   "cell_type": "code",
   "execution_count": 36,
   "metadata": {},
   "outputs": [
    {
     "name": "stdout",
     "output_type": "stream",
     "text": [
      "[2, 10, 20]\n",
      "[0.6931471805599453, 2.302585092994046, 2.995732273553991]\n"
     ]
    }
   ],
   "source": [
    "y_v = [2, 10, 20]\n",
    "print(y_v)\n",
    "y_v = [np.log(y_v[i]) for i in range(len(y_v))]\n",
    "print(y_v)"
   ]
  },
  {
   "cell_type": "code",
   "execution_count": 37,
   "metadata": {},
   "outputs": [
    {
     "data": {
      "text/html": [
       "<div>\n",
       "<style scoped>\n",
       "    .dataframe tbody tr th:only-of-type {\n",
       "        vertical-align: middle;\n",
       "    }\n",
       "\n",
       "    .dataframe tbody tr th {\n",
       "        vertical-align: top;\n",
       "    }\n",
       "\n",
       "    .dataframe thead th {\n",
       "        text-align: right;\n",
       "    }\n",
       "</style>\n",
       "<table border=\"1\" class=\"dataframe\">\n",
       "  <thead>\n",
       "    <tr style=\"text-align: right;\">\n",
       "      <th></th>\n",
       "      <th>1</th>\n",
       "      <th>2</th>\n",
       "      <th>3</th>\n",
       "      <th>4</th>\n",
       "      <th>5</th>\n",
       "      <th>6</th>\n",
       "      <th>7</th>\n",
       "      <th>8</th>\n",
       "      <th>9</th>\n",
       "      <th>10</th>\n",
       "      <th>11</th>\n",
       "      <th>12</th>\n",
       "    </tr>\n",
       "    <tr>\n",
       "      <th>0</th>\n",
       "      <th></th>\n",
       "      <th></th>\n",
       "      <th></th>\n",
       "      <th></th>\n",
       "      <th></th>\n",
       "      <th></th>\n",
       "      <th></th>\n",
       "      <th></th>\n",
       "      <th></th>\n",
       "      <th></th>\n",
       "      <th></th>\n",
       "      <th></th>\n",
       "    </tr>\n",
       "  </thead>\n",
       "  <tbody>\n",
       "    <tr>\n",
       "      <th>0.25</th>\n",
       "      <td>0.028212</td>\n",
       "      <td>0.014515</td>\n",
       "      <td>0.015801</td>\n",
       "      <td>0.014595</td>\n",
       "      <td>0.013082</td>\n",
       "      <td>0.012733</td>\n",
       "      <td>0.024992</td>\n",
       "      <td>0.006230</td>\n",
       "      <td>0.002692</td>\n",
       "      <td>0.003116</td>\n",
       "      <td>0.001897</td>\n",
       "      <td>0.001273</td>\n",
       "    </tr>\n",
       "    <tr>\n",
       "      <th>0.50</th>\n",
       "      <td>0.046585</td>\n",
       "      <td>0.018691</td>\n",
       "      <td>0.021410</td>\n",
       "      <td>0.018822</td>\n",
       "      <td>0.015481</td>\n",
       "      <td>0.014784</td>\n",
       "      <td>0.046516</td>\n",
       "      <td>0.015450</td>\n",
       "      <td>0.006433</td>\n",
       "      <td>0.006963</td>\n",
       "      <td>0.004326</td>\n",
       "      <td>0.002973</td>\n",
       "    </tr>\n",
       "    <tr>\n",
       "      <th>1.00</th>\n",
       "      <td>0.080804</td>\n",
       "      <td>0.028815</td>\n",
       "      <td>0.034447</td>\n",
       "      <td>0.028892</td>\n",
       "      <td>0.021465</td>\n",
       "      <td>0.020078</td>\n",
       "      <td>0.077481</td>\n",
       "      <td>0.037160</td>\n",
       "      <td>0.016761</td>\n",
       "      <td>0.016723</td>\n",
       "      <td>0.010802</td>\n",
       "      <td>0.007795</td>\n",
       "    </tr>\n",
       "    <tr>\n",
       "      <th>2.00</th>\n",
       "      <td>0.132266</td>\n",
       "      <td>0.052225</td>\n",
       "      <td>0.062483</td>\n",
       "      <td>0.051842</td>\n",
       "      <td>0.036603</td>\n",
       "      <td>0.033964</td>\n",
       "      <td>0.106944</td>\n",
       "      <td>0.077158</td>\n",
       "      <td>0.042323</td>\n",
       "      <td>0.040155</td>\n",
       "      <td>0.027461</td>\n",
       "      <td>0.020854</td>\n",
       "    </tr>\n",
       "    <tr>\n",
       "      <th>4.00</th>\n",
       "      <td>0.190049</td>\n",
       "      <td>0.094808</td>\n",
       "      <td>0.109889</td>\n",
       "      <td>0.094429</td>\n",
       "      <td>0.069448</td>\n",
       "      <td>0.065109</td>\n",
       "      <td>0.120167</td>\n",
       "      <td>0.128271</td>\n",
       "      <td>0.087946</td>\n",
       "      <td>0.083969</td>\n",
       "      <td>0.061510</td>\n",
       "      <td>0.048507</td>\n",
       "    </tr>\n",
       "    <tr>\n",
       "      <th>8.00</th>\n",
       "      <td>0.239587</td>\n",
       "      <td>0.150441</td>\n",
       "      <td>0.167344</td>\n",
       "      <td>0.150767</td>\n",
       "      <td>0.120674</td>\n",
       "      <td>0.115109</td>\n",
       "      <td>0.121829</td>\n",
       "      <td>0.172889</td>\n",
       "      <td>0.143915</td>\n",
       "      <td>0.140247</td>\n",
       "      <td>0.107205</td>\n",
       "      <td>0.085494</td>\n",
       "    </tr>\n",
       "    <tr>\n",
       "      <th>16.00</th>\n",
       "      <td>0.273515</td>\n",
       "      <td>0.206248</td>\n",
       "      <td>0.219676</td>\n",
       "      <td>0.204939</td>\n",
       "      <td>0.177599</td>\n",
       "      <td>0.172074</td>\n",
       "      <td>0.121852</td>\n",
       "      <td>0.196478</td>\n",
       "      <td>0.194736</td>\n",
       "      <td>0.191968</td>\n",
       "      <td>0.144580</td>\n",
       "      <td>0.113057</td>\n",
       "    </tr>\n",
       "    <tr>\n",
       "      <th>32.00</th>\n",
       "      <td>0.291948</td>\n",
       "      <td>0.249910</td>\n",
       "      <td>0.256777</td>\n",
       "      <td>0.245017</td>\n",
       "      <td>0.225830</td>\n",
       "      <td>0.221521</td>\n",
       "      <td>0.121851</td>\n",
       "      <td>0.201489</td>\n",
       "      <td>0.225991</td>\n",
       "      <td>0.224496</td>\n",
       "      <td>0.160581</td>\n",
       "      <td>0.122254</td>\n",
       "    </tr>\n",
       "  </tbody>\n",
       "</table>\n",
       "</div>"
      ],
      "text/plain": [
       "             1         2         3         4         5         6         7   \\\n",
       "0                                                                             \n",
       "0.25   0.028212  0.014515  0.015801  0.014595  0.013082  0.012733  0.024992   \n",
       "0.50   0.046585  0.018691  0.021410  0.018822  0.015481  0.014784  0.046516   \n",
       "1.00   0.080804  0.028815  0.034447  0.028892  0.021465  0.020078  0.077481   \n",
       "2.00   0.132266  0.052225  0.062483  0.051842  0.036603  0.033964  0.106944   \n",
       "4.00   0.190049  0.094808  0.109889  0.094429  0.069448  0.065109  0.120167   \n",
       "8.00   0.239587  0.150441  0.167344  0.150767  0.120674  0.115109  0.121829   \n",
       "16.00  0.273515  0.206248  0.219676  0.204939  0.177599  0.172074  0.121852   \n",
       "32.00  0.291948  0.249910  0.256777  0.245017  0.225830  0.221521  0.121851   \n",
       "\n",
       "             8         9         10        11        12  \n",
       "0                                                        \n",
       "0.25   0.006230  0.002692  0.003116  0.001897  0.001273  \n",
       "0.50   0.015450  0.006433  0.006963  0.004326  0.002973  \n",
       "1.00   0.037160  0.016761  0.016723  0.010802  0.007795  \n",
       "2.00   0.077158  0.042323  0.040155  0.027461  0.020854  \n",
       "4.00   0.128271  0.087946  0.083969  0.061510  0.048507  \n",
       "8.00   0.172889  0.143915  0.140247  0.107205  0.085494  \n",
       "16.00  0.196478  0.194736  0.191968  0.144580  0.113057  \n",
       "32.00  0.201489  0.225991  0.224496  0.160581  0.122254  "
      ]
     },
     "execution_count": 37,
     "metadata": {},
     "output_type": "execute_result"
    }
   ],
   "source": [
    "df_cloud_atm"
   ]
  },
  {
   "cell_type": "code",
   "execution_count": 38,
   "metadata": {},
   "outputs": [
    {
     "data": {
      "text/plain": [
       "[[0.05184249999999999, 0.094428934, 0.15076727, 0.20493889],\n",
       " [0.03660349, 0.06944755, 0.12067435, 0.17759869],\n",
       " [0.033963627999999996, 0.06510887, 0.11510925, 0.17207447]]"
      ]
     },
     "execution_count": 38,
     "metadata": {},
     "output_type": "execute_result"
    }
   ],
   "source": [
    "z_v = []\n",
    "\n",
    "#opt_depth_short = [2.0, 4.0, 8.0, 16.0]\n",
    "\n",
    "# for val in opt_depth_short:\n",
    "#     x = [df_cloud_atm[i][val] for i in range(3,7)]\n",
    "#     z.append(x)\n",
    "\n",
    "for i in range(4, 7):\n",
    "    x = []\n",
    "    x.append(df_cloud_atm[i][2.0])\n",
    "    x.append(df_cloud_atm[i][4.0])\n",
    "    x.append(df_cloud_atm[i][8.0])\n",
    "    x.append(df_cloud_atm[i][16.0])\n",
    "    z_v.append(x)\n",
    "\n",
    "z_v"
   ]
  },
  {
   "cell_type": "code",
   "execution_count": 39,
   "metadata": {},
   "outputs": [],
   "source": [
    "f_v = interpolate.interp2d(x_v, y_v, z_v)"
   ]
  },
  {
   "cell_type": "code",
   "execution_count": 40,
   "metadata": {},
   "outputs": [
    {
     "name": "stdout",
     "output_type": "stream",
     "text": [
      "[0.0518425] [0.09442893] [0.15076727] [0.20493889]\n",
      "[0.03660349] [0.06944755] [0.12067435] [0.17759869]\n",
      "[0.03396363] [0.06510887] [0.11510925] [0.17207447]\n"
     ]
    }
   ],
   "source": [
    "for val in y_v:\n",
    "    print(f_v(x_v[0], val), f_v(x_v[1], val), f_v(x_v[2], val), f_v(x_v[3], val)) ## note that x1 (optical depth is given as a log!!)"
   ]
  },
  {
   "cell_type": "code",
   "execution_count": null,
   "metadata": {},
   "outputs": [],
   "source": []
  },
  {
   "cell_type": "code",
   "execution_count": 41,
   "metadata": {},
   "outputs": [
    {
     "data": {
      "text/plain": [
       "[0.6931471805599453, 1.3862943611198906, 2.0794415416798357, 2.772588722239781]"
      ]
     },
     "execution_count": 41,
     "metadata": {},
     "output_type": "execute_result"
    }
   ],
   "source": [
    "x_v"
   ]
  },
  {
   "cell_type": "code",
   "execution_count": null,
   "metadata": {},
   "outputs": [],
   "source": []
  },
  {
   "cell_type": "markdown",
   "metadata": {},
   "source": [
    "- interpolating data for near-ir light"
   ]
  },
  {
   "cell_type": "code",
   "execution_count": 42,
   "metadata": {},
   "outputs": [
    {
     "name": "stdout",
     "output_type": "stream",
     "text": [
      "Float64Index([2.0, 4.0, 8.0, 16.0], dtype='float64', name=0)\n",
      "[0.6931471805599453, 1.3862943611198906, 2.0794415416798357, 2.772588722239781]\n"
     ]
    }
   ],
   "source": [
    "x_ir = df_cloud_atm.index[3:7] # np.log(df_cloud_atm.index)\n",
    "print(x_ir)\n",
    "x_ir = [np.log(x_ir[i]) for i in range(len(x_ir))] ## set of optical depths to do bilinear interpolation over\n",
    "print(x_ir)"
   ]
  },
  {
   "cell_type": "code",
   "execution_count": 43,
   "metadata": {},
   "outputs": [
    {
     "name": "stdout",
     "output_type": "stream",
     "text": [
      "[2, 10, 20]\n"
     ]
    },
    {
     "data": {
      "text/plain": [
       "[0.6931471805599453, 2.302585092994046, 2.995732273553991]"
      ]
     },
     "execution_count": 43,
     "metadata": {},
     "output_type": "execute_result"
    }
   ],
   "source": [
    "y_ir = [2, 10, 20]\n",
    "print(y_ir)\n",
    "y_ir = [np.log(y_ir[i]) for i in range(len(y_ir))]\n",
    "y_ir"
   ]
  },
  {
   "cell_type": "code",
   "execution_count": 44,
   "metadata": {},
   "outputs": [
    {
     "data": {
      "text/html": [
       "<div>\n",
       "<style scoped>\n",
       "    .dataframe tbody tr th:only-of-type {\n",
       "        vertical-align: middle;\n",
       "    }\n",
       "\n",
       "    .dataframe tbody tr th {\n",
       "        vertical-align: top;\n",
       "    }\n",
       "\n",
       "    .dataframe thead th {\n",
       "        text-align: right;\n",
       "    }\n",
       "</style>\n",
       "<table border=\"1\" class=\"dataframe\">\n",
       "  <thead>\n",
       "    <tr style=\"text-align: right;\">\n",
       "      <th></th>\n",
       "      <th>1</th>\n",
       "      <th>2</th>\n",
       "      <th>3</th>\n",
       "      <th>4</th>\n",
       "      <th>5</th>\n",
       "      <th>6</th>\n",
       "      <th>7</th>\n",
       "      <th>8</th>\n",
       "      <th>9</th>\n",
       "      <th>10</th>\n",
       "      <th>11</th>\n",
       "      <th>12</th>\n",
       "    </tr>\n",
       "    <tr>\n",
       "      <th>0</th>\n",
       "      <th></th>\n",
       "      <th></th>\n",
       "      <th></th>\n",
       "      <th></th>\n",
       "      <th></th>\n",
       "      <th></th>\n",
       "      <th></th>\n",
       "      <th></th>\n",
       "      <th></th>\n",
       "      <th></th>\n",
       "      <th></th>\n",
       "      <th></th>\n",
       "    </tr>\n",
       "  </thead>\n",
       "  <tbody>\n",
       "    <tr>\n",
       "      <th>0.25</th>\n",
       "      <td>0.028212</td>\n",
       "      <td>0.014515</td>\n",
       "      <td>0.015801</td>\n",
       "      <td>0.014595</td>\n",
       "      <td>0.013082</td>\n",
       "      <td>0.012733</td>\n",
       "      <td>0.024992</td>\n",
       "      <td>0.006230</td>\n",
       "      <td>0.002692</td>\n",
       "      <td>0.003116</td>\n",
       "      <td>0.001897</td>\n",
       "      <td>0.001273</td>\n",
       "    </tr>\n",
       "    <tr>\n",
       "      <th>0.50</th>\n",
       "      <td>0.046585</td>\n",
       "      <td>0.018691</td>\n",
       "      <td>0.021410</td>\n",
       "      <td>0.018822</td>\n",
       "      <td>0.015481</td>\n",
       "      <td>0.014784</td>\n",
       "      <td>0.046516</td>\n",
       "      <td>0.015450</td>\n",
       "      <td>0.006433</td>\n",
       "      <td>0.006963</td>\n",
       "      <td>0.004326</td>\n",
       "      <td>0.002973</td>\n",
       "    </tr>\n",
       "    <tr>\n",
       "      <th>1.00</th>\n",
       "      <td>0.080804</td>\n",
       "      <td>0.028815</td>\n",
       "      <td>0.034447</td>\n",
       "      <td>0.028892</td>\n",
       "      <td>0.021465</td>\n",
       "      <td>0.020078</td>\n",
       "      <td>0.077481</td>\n",
       "      <td>0.037160</td>\n",
       "      <td>0.016761</td>\n",
       "      <td>0.016723</td>\n",
       "      <td>0.010802</td>\n",
       "      <td>0.007795</td>\n",
       "    </tr>\n",
       "    <tr>\n",
       "      <th>2.00</th>\n",
       "      <td>0.132266</td>\n",
       "      <td>0.052225</td>\n",
       "      <td>0.062483</td>\n",
       "      <td>0.051842</td>\n",
       "      <td>0.036603</td>\n",
       "      <td>0.033964</td>\n",
       "      <td>0.106944</td>\n",
       "      <td>0.077158</td>\n",
       "      <td>0.042323</td>\n",
       "      <td>0.040155</td>\n",
       "      <td>0.027461</td>\n",
       "      <td>0.020854</td>\n",
       "    </tr>\n",
       "    <tr>\n",
       "      <th>4.00</th>\n",
       "      <td>0.190049</td>\n",
       "      <td>0.094808</td>\n",
       "      <td>0.109889</td>\n",
       "      <td>0.094429</td>\n",
       "      <td>0.069448</td>\n",
       "      <td>0.065109</td>\n",
       "      <td>0.120167</td>\n",
       "      <td>0.128271</td>\n",
       "      <td>0.087946</td>\n",
       "      <td>0.083969</td>\n",
       "      <td>0.061510</td>\n",
       "      <td>0.048507</td>\n",
       "    </tr>\n",
       "    <tr>\n",
       "      <th>8.00</th>\n",
       "      <td>0.239587</td>\n",
       "      <td>0.150441</td>\n",
       "      <td>0.167344</td>\n",
       "      <td>0.150767</td>\n",
       "      <td>0.120674</td>\n",
       "      <td>0.115109</td>\n",
       "      <td>0.121829</td>\n",
       "      <td>0.172889</td>\n",
       "      <td>0.143915</td>\n",
       "      <td>0.140247</td>\n",
       "      <td>0.107205</td>\n",
       "      <td>0.085494</td>\n",
       "    </tr>\n",
       "    <tr>\n",
       "      <th>16.00</th>\n",
       "      <td>0.273515</td>\n",
       "      <td>0.206248</td>\n",
       "      <td>0.219676</td>\n",
       "      <td>0.204939</td>\n",
       "      <td>0.177599</td>\n",
       "      <td>0.172074</td>\n",
       "      <td>0.121852</td>\n",
       "      <td>0.196478</td>\n",
       "      <td>0.194736</td>\n",
       "      <td>0.191968</td>\n",
       "      <td>0.144580</td>\n",
       "      <td>0.113057</td>\n",
       "    </tr>\n",
       "    <tr>\n",
       "      <th>32.00</th>\n",
       "      <td>0.291948</td>\n",
       "      <td>0.249910</td>\n",
       "      <td>0.256777</td>\n",
       "      <td>0.245017</td>\n",
       "      <td>0.225830</td>\n",
       "      <td>0.221521</td>\n",
       "      <td>0.121851</td>\n",
       "      <td>0.201489</td>\n",
       "      <td>0.225991</td>\n",
       "      <td>0.224496</td>\n",
       "      <td>0.160581</td>\n",
       "      <td>0.122254</td>\n",
       "    </tr>\n",
       "  </tbody>\n",
       "</table>\n",
       "</div>"
      ],
      "text/plain": [
       "             1         2         3         4         5         6         7   \\\n",
       "0                                                                             \n",
       "0.25   0.028212  0.014515  0.015801  0.014595  0.013082  0.012733  0.024992   \n",
       "0.50   0.046585  0.018691  0.021410  0.018822  0.015481  0.014784  0.046516   \n",
       "1.00   0.080804  0.028815  0.034447  0.028892  0.021465  0.020078  0.077481   \n",
       "2.00   0.132266  0.052225  0.062483  0.051842  0.036603  0.033964  0.106944   \n",
       "4.00   0.190049  0.094808  0.109889  0.094429  0.069448  0.065109  0.120167   \n",
       "8.00   0.239587  0.150441  0.167344  0.150767  0.120674  0.115109  0.121829   \n",
       "16.00  0.273515  0.206248  0.219676  0.204939  0.177599  0.172074  0.121852   \n",
       "32.00  0.291948  0.249910  0.256777  0.245017  0.225830  0.221521  0.121851   \n",
       "\n",
       "             8         9         10        11        12  \n",
       "0                                                        \n",
       "0.25   0.006230  0.002692  0.003116  0.001897  0.001273  \n",
       "0.50   0.015450  0.006433  0.006963  0.004326  0.002973  \n",
       "1.00   0.037160  0.016761  0.016723  0.010802  0.007795  \n",
       "2.00   0.077158  0.042323  0.040155  0.027461  0.020854  \n",
       "4.00   0.128271  0.087946  0.083969  0.061510  0.048507  \n",
       "8.00   0.172889  0.143915  0.140247  0.107205  0.085494  \n",
       "16.00  0.196478  0.194736  0.191968  0.144580  0.113057  \n",
       "32.00  0.201489  0.225991  0.224496  0.160581  0.122254  "
      ]
     },
     "execution_count": 44,
     "metadata": {},
     "output_type": "execute_result"
    }
   ],
   "source": [
    "df_cloud_atm"
   ]
  },
  {
   "cell_type": "code",
   "execution_count": 45,
   "metadata": {},
   "outputs": [
    {
     "data": {
      "text/plain": [
       "[[0.040155314, 0.083969235, 0.14024673, 0.19196768],\n",
       " [0.027461482000000002, 0.06150999, 0.10720539, 0.14457986],\n",
       " [0.020853527, 0.048507154000000004, 0.08549367, 0.11305714]]"
      ]
     },
     "execution_count": 45,
     "metadata": {},
     "output_type": "execute_result"
    }
   ],
   "source": [
    "z_ir = []\n",
    "\n",
    "#opt_depth_short = [2.0, 4.0, 8.0, 16.0]\n",
    "\n",
    "# for val in opt_depth_short:\n",
    "#     x = [df_cloud_atm[i][val] for i in range(3,7)]\n",
    "#     z.append(x)\n",
    "\n",
    "for i in range(10, 13):\n",
    "    x = []\n",
    "    x.append(df_cloud_atm[i][2.0])\n",
    "    x.append(df_cloud_atm[i][4.0])\n",
    "    x.append(df_cloud_atm[i][8.0])\n",
    "    x.append(df_cloud_atm[i][16.0])\n",
    "    z_ir.append(x)\n",
    "\n",
    "z_ir"
   ]
  },
  {
   "cell_type": "code",
   "execution_count": 46,
   "metadata": {},
   "outputs": [],
   "source": [
    "f_ir = interpolate.interp2d(x_ir, y_ir, z_ir)"
   ]
  },
  {
   "cell_type": "code",
   "execution_count": 47,
   "metadata": {},
   "outputs": [
    {
     "name": "stdout",
     "output_type": "stream",
     "text": [
      "[0.04015531] [0.08396924] [0.14024673] [0.19196768]\n",
      "[0.02746148] [0.06150999] [0.10720539] [0.14457986]\n",
      "[0.02085353] [0.04850715] [0.08549367] [0.11305714]\n"
     ]
    }
   ],
   "source": [
    "for val in y_ir:\n",
    "    print(f_ir(x_ir[0], val), f_ir(x_ir[1], val), f_ir(x_ir[2], val), f_ir(x_ir[3], val)) ## note that x1 (optical depth is given as a log!!)"
   ]
  },
  {
   "cell_type": "code",
   "execution_count": null,
   "metadata": {},
   "outputs": [],
   "source": []
  },
  {
   "cell_type": "code",
   "execution_count": 48,
   "metadata": {},
   "outputs": [
    {
     "name": "stdout",
     "output_type": "stream",
     "text": [
      "[0.6931471805599453, 1.3862943611198906, 2.0794415416798357, 2.772588722239781]\n",
      "[0.6931471805599453, 2.302585092994046, 2.995732273553991]\n"
     ]
    }
   ],
   "source": [
    "print(x_ir)\n",
    "print(y_ir)"
   ]
  },
  {
   "cell_type": "code",
   "execution_count": 49,
   "metadata": {},
   "outputs": [
    {
     "data": {
      "text/plain": [
       "array([0.02746148])"
      ]
     },
     "execution_count": 49,
     "metadata": {},
     "output_type": "execute_result"
    }
   ],
   "source": [
    "x_test = 2 # optical depth\n",
    "y_test = 10 # effective radius\n",
    "f_ir(np.log(x_test), np.log(y_test))"
   ]
  },
  {
   "cell_type": "code",
   "execution_count": null,
   "metadata": {},
   "outputs": [],
   "source": []
  },
  {
   "cell_type": "markdown",
   "metadata": {},
   "source": [
    "## Reversing interpolation"
   ]
  },
  {
   "cell_type": "code",
   "execution_count": 50,
   "metadata": {},
   "outputs": [],
   "source": [
    "dTau_test = np.linspace(0.7, 2.5, num = 100)"
   ]
  },
  {
   "cell_type": "code",
   "execution_count": 51,
   "metadata": {},
   "outputs": [
    {
     "data": {
      "text/plain": [
       "array([0.7       , 0.71818182, 0.73636364, 0.75454545, 0.77272727,\n",
       "       0.79090909, 0.80909091, 0.82727273, 0.84545455, 0.86363636,\n",
       "       0.88181818, 0.9       , 0.91818182, 0.93636364, 0.95454545,\n",
       "       0.97272727, 0.99090909, 1.00909091, 1.02727273, 1.04545455,\n",
       "       1.06363636, 1.08181818, 1.1       , 1.11818182, 1.13636364,\n",
       "       1.15454545, 1.17272727, 1.19090909, 1.20909091, 1.22727273,\n",
       "       1.24545455, 1.26363636, 1.28181818, 1.3       , 1.31818182,\n",
       "       1.33636364, 1.35454545, 1.37272727, 1.39090909, 1.40909091,\n",
       "       1.42727273, 1.44545455, 1.46363636, 1.48181818, 1.5       ,\n",
       "       1.51818182, 1.53636364, 1.55454545, 1.57272727, 1.59090909,\n",
       "       1.60909091, 1.62727273, 1.64545455, 1.66363636, 1.68181818,\n",
       "       1.7       , 1.71818182, 1.73636364, 1.75454545, 1.77272727,\n",
       "       1.79090909, 1.80909091, 1.82727273, 1.84545455, 1.86363636,\n",
       "       1.88181818, 1.9       , 1.91818182, 1.93636364, 1.95454545,\n",
       "       1.97272727, 1.99090909, 2.00909091, 2.02727273, 2.04545455,\n",
       "       2.06363636, 2.08181818, 2.1       , 2.11818182, 2.13636364,\n",
       "       2.15454545, 2.17272727, 2.19090909, 2.20909091, 2.22727273,\n",
       "       2.24545455, 2.26363636, 2.28181818, 2.3       , 2.31818182,\n",
       "       2.33636364, 2.35454545, 2.37272727, 2.39090909, 2.40909091,\n",
       "       2.42727273, 2.44545455, 2.46363636, 2.48181818, 2.5       ])"
      ]
     },
     "execution_count": 51,
     "metadata": {},
     "output_type": "execute_result"
    }
   ],
   "source": [
    "dTau_test"
   ]
  },
  {
   "cell_type": "code",
   "execution_count": 52,
   "metadata": {},
   "outputs": [],
   "source": [
    "effr_test = np.linspace(0.69, 3, num = 10)"
   ]
  },
  {
   "cell_type": "code",
   "execution_count": 53,
   "metadata": {},
   "outputs": [
    {
     "data": {
      "text/plain": [
       "array([0.69      , 0.94666667, 1.20333333, 1.46      , 1.71666667,\n",
       "       1.97333333, 2.23      , 2.48666667, 2.74333333, 3.        ])"
      ]
     },
     "execution_count": 53,
     "metadata": {},
     "output_type": "execute_result"
    }
   ],
   "source": [
    "effr_test"
   ]
  },
  {
   "cell_type": "code",
   "execution_count": 54,
   "metadata": {},
   "outputs": [],
   "source": [
    "# for i in range(len(y_test)):\n",
    "#     print(f_ir(x_test[0], y_test[i]))"
   ]
  },
  {
   "cell_type": "code",
   "execution_count": 55,
   "metadata": {},
   "outputs": [
    {
     "data": {
      "image/png": "[encoded data removed]",
      "text/plain": [
       "<Figure size 432x288 with 1 Axes>"
      ]
     },
     "metadata": {
      "needs_background": "light"
     },
     "output_type": "display_data"
    }
   ],
   "source": [
    "for j in range(len(effr_test)):\n",
    "    reflectance = [f_ir(dTau_test[i], effr_test[j])[0] for i in range(len(dTau_test))]\n",
    "    plt.plot(dTau_test, reflectance) # interpolated reflectance at a constant effective radius\n",
    "    plt.xlabel('ln(optical depth)')\n",
    "    plt.ylabel('Interpolated Reflection Function ($\\lambda$  = 1.59 $\\mu$m)')\n",
    "    plt.legend(effr_test, title = 'ln(effr)')\n",
    "    plt.title('Interpolated values of reflection for near-IR')"
   ]
  },
  {
   "cell_type": "code",
   "execution_count": 56,
   "metadata": {},
   "outputs": [
    {
     "data": {
      "image/png": "[encoded data removed]",
      "text/plain": [
       "<Figure size 432x288 with 1 Axes>"
      ]
     },
     "metadata": {
      "needs_background": "light"
     },
     "output_type": "display_data"
    }
   ],
   "source": [
    "for j in range(len(effr_test)):\n",
    "    reflectance = [f_v(dTau_test[i], effr_test[j])[0] for i in range(len(dTau_test))]\n",
    "    plt.plot(dTau_test, reflectance) # interpolated reflectance at a constant effective radius\n",
    "    plt.xlabel('ln(optical depth)')\n",
    "    plt.ylabel('Interpolated Reflection Function ($\\lambda$  = 0.56 $\\mu$m)')\n",
    "    plt.legend(effr_test, title = 'ln(effr)')\n",
    "    plt.title('Interpolated values of reflection for visible')"
   ]
  },
  {
   "cell_type": "code",
   "execution_count": null,
   "metadata": {},
   "outputs": [],
   "source": []
  },
  {
   "cell_type": "markdown",
   "metadata": {},
   "source": [
    "> for a given effective radius we find the closed value of optical depth that matches"
   ]
  },
  {
   "cell_type": "markdown",
   "metadata": {},
   "source": [
    "### Trying to interpolate differently"
   ]
  },
  {
   "cell_type": "markdown",
   "metadata": {},
   "source": [
    "Interpolating in the other direction"
   ]
  },
  {
   "cell_type": "code",
   "execution_count": 57,
   "metadata": {},
   "outputs": [
    {
     "data": {
      "image/png": "[encoded data removed]",
      "text/plain": [
       "<Figure size 432x288 with 1 Axes>"
      ]
     },
     "metadata": {
      "needs_background": "light"
     },
     "output_type": "display_data"
    }
   ],
   "source": [
    "N_dTau_cloud = len(dTau_range_cloud)\n",
    "\n",
    "fig, ax = plt.subplots()\n",
    "\n",
    "#plt.plot(df_cloud_atm[3][2:16], df_cloud_atm[9][2:16])\n",
    "plt.plot(df_cloud_atm[4][2:16], df_cloud_atm[10][2:16])\n",
    "plt.plot(df_cloud_atm[5][2:16], df_cloud_atm[11][2:16])\n",
    "plt.plot(df_cloud_atm[6][2:16], df_cloud_atm[12][2:16])\n",
    "\n",
    "plt.legend(['2','10','20'], title='effective radius of cloud ($\\mu$m)')\n",
    "plt.xlabel('Reflection Function ($\\lambda$ = 0.56 $\\mu$m)')\n",
    "plt.ylabel('Reflection Function ($\\lambda$  = 1.59 $\\mu$m)')\n",
    "\n",
    "for i in range(3,7):\n",
    "    x = df2_cloud_atm[dTau_range_cloud[i]][3:6]\n",
    "    y = df2_cloud_atm[dTau_range_cloud[i]][9:12]\n",
    "    \n",
    "    plt.plot(x,y, color = 'k')"
   ]
  },
  {
   "cell_type": "markdown",
   "metadata": {},
   "source": [
    "Due to the overlap of line in the above I will ignore the effective radius 2"
   ]
  },
  {
   "cell_type": "markdown",
   "metadata": {},
   "source": [
    "Hence we look at:\n",
    "- 10 < effective radius < 20\n",
    "- 2 < optical depth < 16"
   ]
  },
  {
   "cell_type": "code",
   "execution_count": 58,
   "metadata": {},
   "outputs": [
    {
     "data": {
      "image/png": "[encoded data removed]",
      "text/plain": [
       "<Figure size 432x288 with 1 Axes>"
      ]
     },
     "metadata": {
      "needs_background": "light"
     },
     "output_type": "display_data"
    }
   ],
   "source": [
    "N_dTau_cloud = len(dTau_range_cloud)\n",
    "\n",
    "fig, ax = plt.subplots()\n",
    "\n",
    "#plt.plot(df_cloud_atm[3][2:16], df_cloud_atm[9][2:16])\n",
    "#plt.plot(df_cloud_atm[4][2:16], df_cloud_atm[10][2:16])\n",
    "plt.plot(df_cloud_atm[5][2:16], df_cloud_atm[11][2:16])\n",
    "plt.plot(df_cloud_atm[6][2:16], df_cloud_atm[12][2:16])\n",
    "\n",
    "plt.legend(['10','20'], title='effective radius of cloud ($\\mu$m)')\n",
    "plt.xlabel('Reflection Function ($\\lambda$ = 0.56 $\\mu$m)')\n",
    "plt.ylabel('Reflection Function ($\\lambda$  = 1.59 $\\mu$m)')\n",
    "\n",
    "for i in range(3,7):\n",
    "    x = df2_cloud_atm[dTau_range_cloud[i]][4:6]\n",
    "    y = df2_cloud_atm[dTau_range_cloud[i]][10:12]\n",
    "    \n",
    "    plt.plot(x,y, color = 'k')"
   ]
  },
  {
   "cell_type": "code",
   "execution_count": 59,
   "metadata": {
    "scrolled": true
   },
   "outputs": [
    {
     "data": {
      "text/html": [
       "<div>\n",
       "<style scoped>\n",
       "    .dataframe tbody tr th:only-of-type {\n",
       "        vertical-align: middle;\n",
       "    }\n",
       "\n",
       "    .dataframe tbody tr th {\n",
       "        vertical-align: top;\n",
       "    }\n",
       "\n",
       "    .dataframe thead th {\n",
       "        text-align: right;\n",
       "    }\n",
       "</style>\n",
       "<table border=\"1\" class=\"dataframe\">\n",
       "  <thead>\n",
       "    <tr style=\"text-align: right;\">\n",
       "      <th></th>\n",
       "      <th>1</th>\n",
       "      <th>2</th>\n",
       "      <th>3</th>\n",
       "      <th>4</th>\n",
       "      <th>5</th>\n",
       "      <th>6</th>\n",
       "      <th>7</th>\n",
       "      <th>8</th>\n",
       "      <th>9</th>\n",
       "      <th>10</th>\n",
       "      <th>11</th>\n",
       "      <th>12</th>\n",
       "    </tr>\n",
       "    <tr>\n",
       "      <th>0</th>\n",
       "      <th></th>\n",
       "      <th></th>\n",
       "      <th></th>\n",
       "      <th></th>\n",
       "      <th></th>\n",
       "      <th></th>\n",
       "      <th></th>\n",
       "      <th></th>\n",
       "      <th></th>\n",
       "      <th></th>\n",
       "      <th></th>\n",
       "      <th></th>\n",
       "    </tr>\n",
       "  </thead>\n",
       "  <tbody>\n",
       "    <tr>\n",
       "      <th>0.25</th>\n",
       "      <td>0.028212</td>\n",
       "      <td>0.014515</td>\n",
       "      <td>0.015801</td>\n",
       "      <td>0.014595</td>\n",
       "      <td>0.013082</td>\n",
       "      <td>0.012733</td>\n",
       "      <td>0.024992</td>\n",
       "      <td>0.006230</td>\n",
       "      <td>0.002692</td>\n",
       "      <td>0.003116</td>\n",
       "      <td>0.001897</td>\n",
       "      <td>0.001273</td>\n",
       "    </tr>\n",
       "    <tr>\n",
       "      <th>0.50</th>\n",
       "      <td>0.046585</td>\n",
       "      <td>0.018691</td>\n",
       "      <td>0.021410</td>\n",
       "      <td>0.018822</td>\n",
       "      <td>0.015481</td>\n",
       "      <td>0.014784</td>\n",
       "      <td>0.046516</td>\n",
       "      <td>0.015450</td>\n",
       "      <td>0.006433</td>\n",
       "      <td>0.006963</td>\n",
       "      <td>0.004326</td>\n",
       "      <td>0.002973</td>\n",
       "    </tr>\n",
       "    <tr>\n",
       "      <th>1.00</th>\n",
       "      <td>0.080804</td>\n",
       "      <td>0.028815</td>\n",
       "      <td>0.034447</td>\n",
       "      <td>0.028892</td>\n",
       "      <td>0.021465</td>\n",
       "      <td>0.020078</td>\n",
       "      <td>0.077481</td>\n",
       "      <td>0.037160</td>\n",
       "      <td>0.016761</td>\n",
       "      <td>0.016723</td>\n",
       "      <td>0.010802</td>\n",
       "      <td>0.007795</td>\n",
       "    </tr>\n",
       "    <tr>\n",
       "      <th>2.00</th>\n",
       "      <td>0.132266</td>\n",
       "      <td>0.052225</td>\n",
       "      <td>0.062483</td>\n",
       "      <td>0.051842</td>\n",
       "      <td>0.036603</td>\n",
       "      <td>0.033964</td>\n",
       "      <td>0.106944</td>\n",
       "      <td>0.077158</td>\n",
       "      <td>0.042323</td>\n",
       "      <td>0.040155</td>\n",
       "      <td>0.027461</td>\n",
       "      <td>0.020854</td>\n",
       "    </tr>\n",
       "    <tr>\n",
       "      <th>4.00</th>\n",
       "      <td>0.190049</td>\n",
       "      <td>0.094808</td>\n",
       "      <td>0.109889</td>\n",
       "      <td>0.094429</td>\n",
       "      <td>0.069448</td>\n",
       "      <td>0.065109</td>\n",
       "      <td>0.120167</td>\n",
       "      <td>0.128271</td>\n",
       "      <td>0.087946</td>\n",
       "      <td>0.083969</td>\n",
       "      <td>0.061510</td>\n",
       "      <td>0.048507</td>\n",
       "    </tr>\n",
       "    <tr>\n",
       "      <th>8.00</th>\n",
       "      <td>0.239587</td>\n",
       "      <td>0.150441</td>\n",
       "      <td>0.167344</td>\n",
       "      <td>0.150767</td>\n",
       "      <td>0.120674</td>\n",
       "      <td>0.115109</td>\n",
       "      <td>0.121829</td>\n",
       "      <td>0.172889</td>\n",
       "      <td>0.143915</td>\n",
       "      <td>0.140247</td>\n",
       "      <td>0.107205</td>\n",
       "      <td>0.085494</td>\n",
       "    </tr>\n",
       "    <tr>\n",
       "      <th>16.00</th>\n",
       "      <td>0.273515</td>\n",
       "      <td>0.206248</td>\n",
       "      <td>0.219676</td>\n",
       "      <td>0.204939</td>\n",
       "      <td>0.177599</td>\n",
       "      <td>0.172074</td>\n",
       "      <td>0.121852</td>\n",
       "      <td>0.196478</td>\n",
       "      <td>0.194736</td>\n",
       "      <td>0.191968</td>\n",
       "      <td>0.144580</td>\n",
       "      <td>0.113057</td>\n",
       "    </tr>\n",
       "    <tr>\n",
       "      <th>32.00</th>\n",
       "      <td>0.291948</td>\n",
       "      <td>0.249910</td>\n",
       "      <td>0.256777</td>\n",
       "      <td>0.245017</td>\n",
       "      <td>0.225830</td>\n",
       "      <td>0.221521</td>\n",
       "      <td>0.121851</td>\n",
       "      <td>0.201489</td>\n",
       "      <td>0.225991</td>\n",
       "      <td>0.224496</td>\n",
       "      <td>0.160581</td>\n",
       "      <td>0.122254</td>\n",
       "    </tr>\n",
       "  </tbody>\n",
       "</table>\n",
       "</div>"
      ],
      "text/plain": [
       "             1         2         3         4         5         6         7   \\\n",
       "0                                                                             \n",
       "0.25   0.028212  0.014515  0.015801  0.014595  0.013082  0.012733  0.024992   \n",
       "0.50   0.046585  0.018691  0.021410  0.018822  0.015481  0.014784  0.046516   \n",
       "1.00   0.080804  0.028815  0.034447  0.028892  0.021465  0.020078  0.077481   \n",
       "2.00   0.132266  0.052225  0.062483  0.051842  0.036603  0.033964  0.106944   \n",
       "4.00   0.190049  0.094808  0.109889  0.094429  0.069448  0.065109  0.120167   \n",
       "8.00   0.239587  0.150441  0.167344  0.150767  0.120674  0.115109  0.121829   \n",
       "16.00  0.273515  0.206248  0.219676  0.204939  0.177599  0.172074  0.121852   \n",
       "32.00  0.291948  0.249910  0.256777  0.245017  0.225830  0.221521  0.121851   \n",
       "\n",
       "             8         9         10        11        12  \n",
       "0                                                        \n",
       "0.25   0.006230  0.002692  0.003116  0.001897  0.001273  \n",
       "0.50   0.015450  0.006433  0.006963  0.004326  0.002973  \n",
       "1.00   0.037160  0.016761  0.016723  0.010802  0.007795  \n",
       "2.00   0.077158  0.042323  0.040155  0.027461  0.020854  \n",
       "4.00   0.128271  0.087946  0.083969  0.061510  0.048507  \n",
       "8.00   0.172889  0.143915  0.140247  0.107205  0.085494  \n",
       "16.00  0.196478  0.194736  0.191968  0.144580  0.113057  \n",
       "32.00  0.201489  0.225991  0.224496  0.160581  0.122254  "
      ]
     },
     "execution_count": 59,
     "metadata": {},
     "output_type": "execute_result"
    }
   ],
   "source": [
    "df_cloud_atm"
   ]
  },
  {
   "cell_type": "code",
   "execution_count": 60,
   "metadata": {},
   "outputs": [],
   "source": [
    "rf_v_10 = list(df_cloud_atm[5][2:16])\n",
    "rf_v_20 = list(df_cloud_atm[6][2:16])\n",
    "rf_ir_10 = list(df_cloud_atm[11][2:16])\n",
    "rf_ir_20 = list(df_cloud_atm[12][2:16])"
   ]
  },
  {
   "cell_type": "code",
   "execution_count": 61,
   "metadata": {},
   "outputs": [
    {
     "name": "stdout",
     "output_type": "stream",
     "text": [
      "[0.03660349, 0.06944755, 0.12067435, 0.17759869]\n",
      "[0.033963627999999996, 0.06510887, 0.11510925, 0.17207447]\n",
      "[0.027461482000000002, 0.06150999, 0.10720539, 0.14457986]\n",
      "[0.020853527, 0.048507154000000004, 0.08549367, 0.11305714]\n"
     ]
    }
   ],
   "source": [
    "print(rf_v_10)\n",
    "print(rf_v_20)\n",
    "print(rf_ir_10)\n",
    "print(rf_ir_20)"
   ]
  },
  {
   "cell_type": "code",
   "execution_count": 62,
   "metadata": {},
   "outputs": [],
   "source": [
    "rf_v = rf_v_10 + rf_v_20\n",
    "rf_ir = rf_ir_10 + rf_ir_20"
   ]
  },
  {
   "cell_type": "code",
   "execution_count": 63,
   "metadata": {},
   "outputs": [
    {
     "name": "stdout",
     "output_type": "stream",
     "text": [
      "[0.03660349, 0.06944755, 0.12067435, 0.17759869, 0.033963627999999996, 0.06510887, 0.11510925, 0.17207447]\n",
      "[0.027461482000000002, 0.06150999, 0.10720539, 0.14457986, 0.020853527, 0.048507154000000004, 0.08549367, 0.11305714]\n"
     ]
    }
   ],
   "source": [
    "print(rf_v)\n",
    "print(rf_ir)"
   ]
  },
  {
   "cell_type": "markdown",
   "metadata": {},
   "source": [
    "> optical depth interpolation\n",
    "- v reflectance function on the x-axis\n",
    "- ir reflectance function on the y-axis\n",
    "- function value is ln(optical_depth)"
   ]
  },
  {
   "cell_type": "code",
   "execution_count": 64,
   "metadata": {},
   "outputs": [
    {
     "data": {
      "text/plain": [
       "[0.6931471805599453,\n",
       " 1.3862943611198906,\n",
       " 2.0794415416798357,\n",
       " 2.772588722239781,\n",
       " 0.6931471805599453,\n",
       " 1.3862943611198906,\n",
       " 2.0794415416798357,\n",
       " 2.772588722239781]"
      ]
     },
     "execution_count": 64,
     "metadata": {},
     "output_type": "execute_result"
    }
   ],
   "source": [
    "opt_depth = [np.log(2**i) for i in range(1,5)]\n",
    "opt_depth_all = 2*opt_depth\n",
    "opt_depth_all"
   ]
  },
  {
   "cell_type": "code",
   "execution_count": 65,
   "metadata": {},
   "outputs": [
    {
     "name": "stderr",
     "output_type": "stream",
     "text": [
      "/home/a5v/anaconda3/lib/python3.7/site-packages/scipy/interpolate/_fitpack_impl.py:977: RuntimeWarning: No more knots can be added because the number of B-spline\n",
      "coefficients already exceeds the number of data points m.\n",
      "Probable causes: either s or m too small. (fp>s)\n",
      "\tkx,ky=1,1 nx,ny=5,5 m=8 fp=0.000020 s=0.000000\n",
      "  warnings.warn(RuntimeWarning(_iermess2[ierm][0] + _mess))\n"
     ]
    }
   ],
   "source": [
    "f_opt = interpolate.interp2d(rf_v, rf_ir, opt_depth_all)"
   ]
  },
  {
   "cell_type": "code",
   "execution_count": 66,
   "metadata": {},
   "outputs": [],
   "source": [
    "actual_rf_v = 0.12\n",
    "actual_rf_ir = 0.107"
   ]
  },
  {
   "cell_type": "code",
   "execution_count": 67,
   "metadata": {},
   "outputs": [
    {
     "data": {
      "text/plain": [
       "array([2.06945208])"
      ]
     },
     "execution_count": 67,
     "metadata": {},
     "output_type": "execute_result"
    }
   ],
   "source": [
    "f_opt(actual_rf_v, actual_rf_ir)"
   ]
  },
  {
   "cell_type": "code",
   "execution_count": null,
   "metadata": {},
   "outputs": [],
   "source": []
  },
  {
   "cell_type": "markdown",
   "metadata": {},
   "source": [
    "> effective radius interpolation\n",
    "- v reflectance function on the x-axis\n",
    "- ir reflectance function on the y-axis\n",
    "- function value is ln(effective radius)"
   ]
  },
  {
   "cell_type": "code",
   "execution_count": 82,
   "metadata": {
    "scrolled": true
   },
   "outputs": [
    {
     "data": {
      "text/html": [
       "<div>\n",
       "<style scoped>\n",
       "    .dataframe tbody tr th:only-of-type {\n",
       "        vertical-align: middle;\n",
       "    }\n",
       "\n",
       "    .dataframe tbody tr th {\n",
       "        vertical-align: top;\n",
       "    }\n",
       "\n",
       "    .dataframe thead th {\n",
       "        text-align: right;\n",
       "    }\n",
       "</style>\n",
       "<table border=\"1\" class=\"dataframe\">\n",
       "  <thead>\n",
       "    <tr style=\"text-align: right;\">\n",
       "      <th></th>\n",
       "      <th>0.25</th>\n",
       "      <th>0.50</th>\n",
       "      <th>1.00</th>\n",
       "      <th>2.00</th>\n",
       "      <th>4.00</th>\n",
       "      <th>8.00</th>\n",
       "      <th>16.00</th>\n",
       "      <th>32.00</th>\n",
       "    </tr>\n",
       "  </thead>\n",
       "  <tbody>\n",
       "    <tr>\n",
       "      <th>1</th>\n",
       "      <td>0.028212</td>\n",
       "      <td>0.046585</td>\n",
       "      <td>0.080804</td>\n",
       "      <td>0.132266</td>\n",
       "      <td>0.190049</td>\n",
       "      <td>0.239587</td>\n",
       "      <td>0.273515</td>\n",
       "      <td>0.291948</td>\n",
       "    </tr>\n",
       "    <tr>\n",
       "      <th>2</th>\n",
       "      <td>0.014515</td>\n",
       "      <td>0.018691</td>\n",
       "      <td>0.028815</td>\n",
       "      <td>0.052225</td>\n",
       "      <td>0.094808</td>\n",
       "      <td>0.150441</td>\n",
       "      <td>0.206248</td>\n",
       "      <td>0.249910</td>\n",
       "    </tr>\n",
       "    <tr>\n",
       "      <th>3</th>\n",
       "      <td>0.015801</td>\n",
       "      <td>0.021410</td>\n",
       "      <td>0.034447</td>\n",
       "      <td>0.062483</td>\n",
       "      <td>0.109889</td>\n",
       "      <td>0.167344</td>\n",
       "      <td>0.219676</td>\n",
       "      <td>0.256777</td>\n",
       "    </tr>\n",
       "    <tr>\n",
       "      <th>4</th>\n",
       "      <td>0.014595</td>\n",
       "      <td>0.018822</td>\n",
       "      <td>0.028892</td>\n",
       "      <td>0.051842</td>\n",
       "      <td>0.094429</td>\n",
       "      <td>0.150767</td>\n",
       "      <td>0.204939</td>\n",
       "      <td>0.245017</td>\n",
       "    </tr>\n",
       "    <tr>\n",
       "      <th>5</th>\n",
       "      <td>0.013082</td>\n",
       "      <td>0.015481</td>\n",
       "      <td>0.021465</td>\n",
       "      <td>0.036603</td>\n",
       "      <td>0.069448</td>\n",
       "      <td>0.120674</td>\n",
       "      <td>0.177599</td>\n",
       "      <td>0.225830</td>\n",
       "    </tr>\n",
       "    <tr>\n",
       "      <th>6</th>\n",
       "      <td>0.012733</td>\n",
       "      <td>0.014784</td>\n",
       "      <td>0.020078</td>\n",
       "      <td>0.033964</td>\n",
       "      <td>0.065109</td>\n",
       "      <td>0.115109</td>\n",
       "      <td>0.172074</td>\n",
       "      <td>0.221521</td>\n",
       "    </tr>\n",
       "    <tr>\n",
       "      <th>7</th>\n",
       "      <td>0.024992</td>\n",
       "      <td>0.046516</td>\n",
       "      <td>0.077481</td>\n",
       "      <td>0.106944</td>\n",
       "      <td>0.120167</td>\n",
       "      <td>0.121829</td>\n",
       "      <td>0.121852</td>\n",
       "      <td>0.121851</td>\n",
       "    </tr>\n",
       "    <tr>\n",
       "      <th>8</th>\n",
       "      <td>0.006230</td>\n",
       "      <td>0.015450</td>\n",
       "      <td>0.037160</td>\n",
       "      <td>0.077158</td>\n",
       "      <td>0.128271</td>\n",
       "      <td>0.172889</td>\n",
       "      <td>0.196478</td>\n",
       "      <td>0.201489</td>\n",
       "    </tr>\n",
       "    <tr>\n",
       "      <th>9</th>\n",
       "      <td>0.002692</td>\n",
       "      <td>0.006433</td>\n",
       "      <td>0.016761</td>\n",
       "      <td>0.042323</td>\n",
       "      <td>0.087946</td>\n",
       "      <td>0.143915</td>\n",
       "      <td>0.194736</td>\n",
       "      <td>0.225991</td>\n",
       "    </tr>\n",
       "    <tr>\n",
       "      <th>10</th>\n",
       "      <td>0.003116</td>\n",
       "      <td>0.006963</td>\n",
       "      <td>0.016723</td>\n",
       "      <td>0.040155</td>\n",
       "      <td>0.083969</td>\n",
       "      <td>0.140247</td>\n",
       "      <td>0.191968</td>\n",
       "      <td>0.224496</td>\n",
       "    </tr>\n",
       "    <tr>\n",
       "      <th>11</th>\n",
       "      <td>0.001897</td>\n",
       "      <td>0.004326</td>\n",
       "      <td>0.010802</td>\n",
       "      <td>0.027461</td>\n",
       "      <td>0.061510</td>\n",
       "      <td>0.107205</td>\n",
       "      <td>0.144580</td>\n",
       "      <td>0.160581</td>\n",
       "    </tr>\n",
       "    <tr>\n",
       "      <th>12</th>\n",
       "      <td>0.001273</td>\n",
       "      <td>0.002973</td>\n",
       "      <td>0.007795</td>\n",
       "      <td>0.020854</td>\n",
       "      <td>0.048507</td>\n",
       "      <td>0.085494</td>\n",
       "      <td>0.113057</td>\n",
       "      <td>0.122254</td>\n",
       "    </tr>\n",
       "  </tbody>\n",
       "</table>\n",
       "</div>"
      ],
      "text/plain": [
       "0      0.25      0.50      1.00      2.00      4.00      8.00      16.00  \\\n",
       "1   0.028212  0.046585  0.080804  0.132266  0.190049  0.239587  0.273515   \n",
       "2   0.014515  0.018691  0.028815  0.052225  0.094808  0.150441  0.206248   \n",
       "3   0.015801  0.021410  0.034447  0.062483  0.109889  0.167344  0.219676   \n",
       "4   0.014595  0.018822  0.028892  0.051842  0.094429  0.150767  0.204939   \n",
       "5   0.013082  0.015481  0.021465  0.036603  0.069448  0.120674  0.177599   \n",
       "6   0.012733  0.014784  0.020078  0.033964  0.065109  0.115109  0.172074   \n",
       "7   0.024992  0.046516  0.077481  0.106944  0.120167  0.121829  0.121852   \n",
       "8   0.006230  0.015450  0.037160  0.077158  0.128271  0.172889  0.196478   \n",
       "9   0.002692  0.006433  0.016761  0.042323  0.087946  0.143915  0.194736   \n",
       "10  0.003116  0.006963  0.016723  0.040155  0.083969  0.140247  0.191968   \n",
       "11  0.001897  0.004326  0.010802  0.027461  0.061510  0.107205  0.144580   \n",
       "12  0.001273  0.002973  0.007795  0.020854  0.048507  0.085494  0.113057   \n",
       "\n",
       "0      32.00  \n",
       "1   0.291948  \n",
       "2   0.249910  \n",
       "3   0.256777  \n",
       "4   0.245017  \n",
       "5   0.225830  \n",
       "6   0.221521  \n",
       "7   0.121851  \n",
       "8   0.201489  \n",
       "9   0.225991  \n",
       "10  0.224496  \n",
       "11  0.160581  \n",
       "12  0.122254  "
      ]
     },
     "execution_count": 82,
     "metadata": {},
     "output_type": "execute_result"
    }
   ],
   "source": [
    "df2_cloud_atm"
   ]
  },
  {
   "cell_type": "code",
   "execution_count": 83,
   "metadata": {},
   "outputs": [],
   "source": [
    "rf_v_2 = list(df2_cloud_atm[2][4:6])\n",
    "rf_v_4 = list(df2_cloud_atm[4][4:6])\n",
    "rf_v_8 = list(df2_cloud_atm[8][4:6])\n",
    "rf_v_16 = list(df2_cloud_atm[16][4:6])\n",
    "rf_ir_2 = list(df2_cloud_atm[2][10:12])\n",
    "rf_ir_4 = list(df2_cloud_atm[4][10:12])\n",
    "rf_ir_8 = list(df2_cloud_atm[8][10:12])\n",
    "rf_ir_16 = list(df2_cloud_atm[16][10:12])"
   ]
  },
  {
   "cell_type": "code",
   "execution_count": 84,
   "metadata": {},
   "outputs": [
    {
     "name": "stdout",
     "output_type": "stream",
     "text": [
      "[0.03660349, 0.033963627999999996, 0.06944755, 0.06510887, 0.12067435, 0.11510925, 0.17759869, 0.17207447]\n",
      "[0.027461482000000002, 0.020853527, 0.06150999, 0.048507154000000004, 0.10720539, 0.08549367, 0.14457986, 0.11305714]\n"
     ]
    }
   ],
   "source": [
    "rf_v_er = rf_v_2 + rf_v_4 + rf_v_8 + rf_v_16\n",
    "rf_ir_er = rf_ir_2 + rf_ir_4 + rf_ir_8 + rf_ir_16\n",
    "print(rf_v_er)\n",
    "print(rf_ir_er)"
   ]
  },
  {
   "cell_type": "code",
   "execution_count": null,
   "metadata": {},
   "outputs": [],
   "source": []
  },
  {
   "cell_type": "code",
   "execution_count": 85,
   "metadata": {},
   "outputs": [
    {
     "data": {
      "text/plain": [
       "[2.302585092994046,\n",
       " 2.995732273553991,\n",
       " 2.302585092994046,\n",
       " 2.995732273553991,\n",
       " 2.302585092994046,\n",
       " 2.995732273553991,\n",
       " 2.302585092994046,\n",
       " 2.995732273553991]"
      ]
     },
     "execution_count": 85,
     "metadata": {},
     "output_type": "execute_result"
    }
   ],
   "source": [
    "eff_radius = [np.log(10), np.log(20)]\n",
    "eff_radius_all = 4* eff_radius\n",
    "eff_radius_all"
   ]
  },
  {
   "cell_type": "code",
   "execution_count": null,
   "metadata": {},
   "outputs": [],
   "source": []
  },
  {
   "cell_type": "code",
   "execution_count": 86,
   "metadata": {},
   "outputs": [],
   "source": [
    "f_effr = interpolate.interp2d(rf_v_er, rf_ir_er, eff_radius_all)"
   ]
  },
  {
   "cell_type": "markdown",
   "metadata": {},
   "source": [
    "> testing"
   ]
  },
  {
   "cell_type": "code",
   "execution_count": 87,
   "metadata": {},
   "outputs": [],
   "source": [
    "actual_rf_v = 0.150767\n",
    "actual_rf_ir = 0.140247"
   ]
  },
  {
   "cell_type": "code",
   "execution_count": 88,
   "metadata": {},
   "outputs": [
    {
     "name": "stdout",
     "output_type": "stream",
     "text": [
      "[10.96650185]\n",
      "[6.12556936]\n"
     ]
    }
   ],
   "source": [
    "pred_op = np.exp(f_opt(actual_rf_v, actual_rf_ir))\n",
    "pred_effr = np.exp(f_effr(actual_rf_v, actual_rf_ir))\n",
    "\n",
    "print(pred_op) # predicted optical depth\n",
    "print(pred_effr) # predicted effective radius"
   ]
  },
  {
   "cell_type": "code",
   "execution_count": 89,
   "metadata": {},
   "outputs": [
    {
     "data": {
      "image/png": "[encoded data removed]",
      "text/plain": [
       "<Figure size 432x288 with 1 Axes>"
      ]
     },
     "metadata": {
      "needs_background": "light"
     },
     "output_type": "display_data"
    }
   ],
   "source": [
    "N_dTau_cloud = len(dTau_range_cloud)\n",
    "\n",
    "fig, ax = plt.subplots()\n",
    "\n",
    "#plt.plot(df_cloud_atm[3][2:16], df_cloud_atm[9][2:16])\n",
    "#plt.plot(df_cloud_atm[4][2:16], df_cloud_atm[10][2:16])\n",
    "plt.plot(df_cloud_atm[5][2:16], df_cloud_atm[11][2:16])\n",
    "plt.plot(df_cloud_atm[6][2:16], df_cloud_atm[12][2:16])\n",
    "\n",
    "plt.legend(['10','20'], title='effective radius of cloud ($\\mu$m)')\n",
    "plt.xlabel('Reflection Function ($\\lambda$ = 0.56 $\\mu$m)')\n",
    "plt.ylabel('Reflection Function ($\\lambda$  = 1.59 $\\mu$m)')\n",
    "\n",
    "for i in range(3,7):\n",
    "    x = df2_cloud_atm[dTau_range_cloud[i]][4:6]\n",
    "    y = df2_cloud_atm[dTau_range_cloud[i]][10:12]\n",
    "    \n",
    "    plt.plot(x,y, color = 'k')\n",
    "    \n",
    "\n",
    "plt.scatter([actual_rf_v], [actual_rf_ir])\n",
    "plt.annotate(str([pred_op[0], pred_effr[0]]), (actual_rf_v, actual_rf_ir))\n",
    "plt.show()"
   ]
  },
  {
   "cell_type": "code",
   "execution_count": null,
   "metadata": {},
   "outputs": [],
   "source": []
  },
  {
   "cell_type": "code",
   "execution_count": null,
   "metadata": {},
   "outputs": [],
   "source": []
  },
  {
   "cell_type": "code",
   "execution_count": null,
   "metadata": {},
   "outputs": [],
   "source": []
  },
  {
   "cell_type": "code",
   "execution_count": null,
   "metadata": {},
   "outputs": [],
   "source": []
  },
  {
   "cell_type": "code",
   "execution_count": null,
   "metadata": {},
   "outputs": [],
   "source": []
  },
  {
   "cell_type": "code",
   "execution_count": null,
   "metadata": {},
   "outputs": [],
   "source": []
  },
  {
   "cell_type": "code",
   "execution_count": 90,
   "metadata": {},
   "outputs": [
    {
     "data": {
      "image/png": "[encoded data removed]",
      "text/plain": [
       "<Figure size 432x288 with 1 Axes>"
      ]
     },
     "metadata": {
      "needs_background": "light"
     },
     "output_type": "display_data"
    }
   ],
   "source": [
    "N_dTau_cloud = len(dTau_range_cloud)\n",
    "\n",
    "fig, ax = plt.subplots()\n",
    "\n",
    "#plt.plot(df_cloud_atm[3][2:16], df_cloud_atm[9][2:16])\n",
    "plt.plot(df_cloud_atm[4][2:16], df_cloud_atm[10][2:16])\n",
    "plt.plot(df_cloud_atm[5][2:16], df_cloud_atm[11][2:16])\n",
    "plt.plot(df_cloud_atm[6][2:16], df_cloud_atm[12][2:16])\n",
    "\n",
    "plt.legend(['10','20'], title='effective radius of cloud ($\\mu$m)')\n",
    "plt.xlabel('Reflection Function ($\\lambda$ = 0.56 $\\mu$m)')\n",
    "plt.ylabel('Reflection Function ($\\lambda$  = 1.59 $\\mu$m)')\n",
    "\n",
    "for i in range(3,7):\n",
    "    x = df2_cloud_atm[dTau_range_cloud[i]][3:6]\n",
    "    y = df2_cloud_atm[dTau_range_cloud[i]][9:12]\n",
    "    \n",
    "    plt.plot(x,y, color = 'k')\n",
    "    \n",
    "\n",
    "plt.scatter([actual_rf_v], [actual_rf_ir])\n",
    "plt.annotate(str([pred_op[0], pred_effr[0]]), (actual_rf_v, actual_rf_ir))\n",
    "plt.show()"
   ]
  },
  {
   "cell_type": "code",
   "execution_count": 91,
   "metadata": {},
   "outputs": [
    {
     "data": {
      "text/plain": [
       "2.0794415416798357"
      ]
     },
     "execution_count": 91,
     "metadata": {},
     "output_type": "execute_result"
    }
   ],
   "source": [
    "np.log(8)"
   ]
  },
  {
   "cell_type": "code",
   "execution_count": null,
   "metadata": {},
   "outputs": [],
   "source": []
  },
  {
   "cell_type": "code",
   "execution_count": null,
   "metadata": {},
   "outputs": [],
   "source": []
  },
  {
   "cell_type": "code",
   "execution_count": null,
   "metadata": {},
   "outputs": [],
   "source": []
  },
  {
   "cell_type": "code",
   "execution_count": null,
   "metadata": {},
   "outputs": [],
   "source": []
  },
  {
   "cell_type": "code",
   "execution_count": null,
   "metadata": {},
   "outputs": [],
   "source": []
  }
 ],
 "metadata": {
  "kernelspec": {
   "display_name": "Python 2",
   "language": "python",
   "name": "python2"
  },
  "language_info": {
   "codemirror_mode": {
    "name": "ipython",
    "version": 2
   },
   "file_extension": ".py",
   "mimetype": "text/x-python",
   "name": "python",
   "nbconvert_exporter": "python",
   "pygments_lexer": "ipython2",
   "version": "2.7.18"
  }
 },
 "nbformat": 4,
 "nbformat_minor": 2
}
