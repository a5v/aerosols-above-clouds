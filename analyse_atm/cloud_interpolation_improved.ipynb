{
 "cells": [
  {
   "cell_type": "markdown",
   "metadata": {},
   "source": [
    "# Interpolation of Cloud Atmosphere using scipy.interpolate.griddata"
   ]
  },
  {
   "cell_type": "code",
   "execution_count": null,
   "metadata": {},
   "outputs": [],
   "source": [
    "%matplotlib inline\n",
    "import matplotlib.pyplot as plt\n",
    "import pandas as pd\n",
    "import numpy as np\n",
    "import seaborn as sns\n",
    "sns.set()\n",
    "sns.set_style(\"whitegrid\")\n",
    "\n",
    "from scipy.interpolate import griddata"
   ]
  },
  {
   "cell_type": "markdown",
   "metadata": {},
   "source": [
    "## Creating a interpolation graph for cloud in atmosphere"
   ]
  },
  {
   "cell_type": "markdown",
   "metadata": {},
   "source": [
    "> Using a cloud in an atmosphere"
   ]
  },
  {
   "cell_type": "code",
   "execution_count": null,
   "metadata": {},
   "outputs": [],
   "source": [
    "df_cloud = pd.read_csv(\"../create_atm/atmospheres/aerosol_cloud_atm_a70_0_0.csv\", header = None, index_col = 0)"
   ]
  },
  {
   "cell_type": "code",
   "execution_count": null,
   "metadata": {},
   "outputs": [],
   "source": [
    "df_cloud"
   ]
  },
  {
   "cell_type": "code",
   "execution_count": null,
   "metadata": {},
   "outputs": [],
   "source": [
    "N_cloud = int(df_cloud.shape[1]/2)\n",
    "effr_cloud = [4,8,10,16,20,32] # effr_cloud = [0.1,0.5,1,2,4,8,10,16,20,32] \n",
    "effr_aerosol = [0.02,0.04,0.06,0.08,0.1]"
   ]
  },
  {
   "cell_type": "code",
   "execution_count": null,
   "metadata": {},
   "outputs": [],
   "source": [
    "for i in range(N_cloud):\n",
    "    plt.plot(df_cloud[1+i], df_cloud[i+1+N_cloud])\n",
    "\n",
    "plt.legend(effr_cloud, title='effective radius of cloud ($\\mu$m)')\n",
    "plt.xlabel('Reflection Function ($\\lambda$ = 0.56 $\\mu$m)')\n",
    "plt.ylabel('Reflection Function ($\\lambda$  = 1.59 $\\mu$m)')\n",
    "plt.show()"
   ]
  },
  {
   "cell_type": "code",
   "execution_count": null,
   "metadata": {},
   "outputs": [],
   "source": [
    "fig, ax = plt.subplots()\n",
    "\n",
    "for i in range(N_cloud):\n",
    "    plt.plot(df_cloud[i+1], df_cloud[i+1+N_cloud])\n",
    "# plt.plot(df_cloud_atm[5], df_cloud_atm[11])\n",
    "# plt.plot(df_cloud_atm[6], df_cloud_atm[12])\n",
    "\n",
    "plt.legend(effr_cloud, title='effective radius of cloud ($\\mu$m)')\n",
    "plt.xlabel('Reflection Function ($\\lambda$ = 0.56 $\\mu$m)')\n",
    "plt.ylabel('Reflection Function ($\\lambda$  = 1.59 $\\mu$m)')\n",
    "plt.title('$\\mu_{0}$ = 1, $\\mu$ = sqrt(3)/2')"
   ]
  },
  {
   "cell_type": "code",
   "execution_count": null,
   "metadata": {},
   "outputs": [],
   "source": []
  },
  {
   "cell_type": "code",
   "execution_count": null,
   "metadata": {},
   "outputs": [],
   "source": []
  },
  {
   "cell_type": "markdown",
   "metadata": {},
   "source": [
    "> data manipulation to plot lines of constant optical depth"
   ]
  },
  {
   "cell_type": "code",
   "execution_count": null,
   "metadata": {},
   "outputs": [],
   "source": [
    "dft_cloud = df_cloud.T"
   ]
  },
  {
   "cell_type": "code",
   "execution_count": null,
   "metadata": {},
   "outputs": [],
   "source": [
    "dft_cloud"
   ]
  },
  {
   "cell_type": "code",
   "execution_count": null,
   "metadata": {},
   "outputs": [],
   "source": [
    "dTau_range_cloud = []\n",
    "\n",
    "for col in dft_cloud.columns:\n",
    "    dTau_range_cloud.append(col)\n",
    "\n",
    "print(dTau_range_cloud)\n",
    "N_dTau_cloud = len(dTau_range_cloud)"
   ]
  },
  {
   "cell_type": "code",
   "execution_count": null,
   "metadata": {},
   "outputs": [],
   "source": [
    "fig, ax = plt.subplots()\n",
    "\n",
    "for i in range(N_dTau_cloud):\n",
    "    x = dft_cloud[dTau_range_cloud[i]][0:N_cloud]\n",
    "    y = dft_cloud[dTau_range_cloud[i]][N_cloud:2*N_cloud]\n",
    "    \n",
    "    plt.plot(x,y)"
   ]
  },
  {
   "cell_type": "code",
   "execution_count": null,
   "metadata": {},
   "outputs": [],
   "source": [
    "fig, ax = plt.subplots()\n",
    "\n",
    "for i in range(N_cloud):\n",
    "    plt.plot(df_cloud[i+1], df_cloud[i+1+N_cloud])\n",
    "# plt.plot(df_cloud_atm[5], df_cloud_atm[11])\n",
    "# plt.plot(df_cloud_atm[6], df_cloud_atm[12])\n",
    "\n",
    "plt.legend(effr_cloud, title='effective radius of cloud ($\\mu$m)')\n",
    "plt.xlabel('Reflection Function ($\\lambda$ = 0.56 $\\mu$m)')\n",
    "plt.ylabel('Reflection Function ($\\lambda$  = 1.59 $\\mu$m)')\n",
    "\n",
    "for i in range(N_dTau_cloud):\n",
    "    x = dft_cloud[dTau_range_cloud[i]][:N_cloud]\n",
    "    y = dft_cloud[dTau_range_cloud[i]][N_cloud:2*N_cloud]\n",
    "    \n",
    "    plt.plot(x,y, color = 'k')"
   ]
  },
  {
   "cell_type": "markdown",
   "metadata": {},
   "source": [
    "## Bilinear Interpolation"
   ]
  },
  {
   "cell_type": "code",
   "execution_count": null,
   "metadata": {},
   "outputs": [],
   "source": [
    "dft_numpy = dft_cloud.to_numpy()\n",
    "\n",
    "x_effr = dft_numpy[0]\n",
    "for i in range(N_cloud-1):\n",
    "    x_effr = np.concatenate([x_effr, dft_numpy[i+1]])\n",
    "\n",
    "y_effr = dft_numpy[N_cloud]\n",
    "for i in range(N_cloud-1):\n",
    "    y_effr = np.concatenate([y_effr, dft_numpy[i+1+N_cloud]])\n",
    "\n",
    "z_effr = np.concatenate([np.ones(N_dTau_cloud)*4, np.ones(N_dTau_cloud)*8, np.ones(N_dTau_cloud)*10, np.ones(N_dTau_cloud)*16, np.ones(N_dTau_cloud)*20, np.ones(N_dTau_cloud)*32])\n",
    "z_effr = np.log10(z_effr)\n",
    "\n",
    "xi_effr = np.arange(0,0.3,0.0001)\n",
    "yi_effr = np.arange(0,0.25,0.0001)\n",
    "xi_effr,yi_effr = np.meshgrid(xi_effr,yi_effr)\n",
    "\n",
    "zi_effr = griddata((x_effr,y_effr),z_effr,(xi_effr,yi_effr),method='linear')\n",
    "\n",
    "# plot\n",
    "plt.rc('font', family='serif')\n",
    "\n",
    "fig = plt.figure()\n",
    "ax = fig.add_subplot(111)\n",
    "plt.plot(x_effr,y_effr,'k.')\n",
    "# plt.xlabel('Reflection Function, $0.56 $\\mu m$')\n",
    "# plt.ylabel('Reflection Function ($\\lambda$ = 1.59 $\\mu$m)')\n",
    "cntr1 = ax.contourf(xi_effr, yi_effr, 10**zi_effr, levels=14, cmap = 'plasma')\n",
    "\n",
    "plt.colorbar(cntr1)\n",
    "\n",
    "\n",
    "\n",
    "for i in range(N_cloud):\n",
    "    plt.plot(df_cloud[i+1], df_cloud[i+1+N_cloud], color = 'k', linewidth = 1)\n",
    "\n",
    "\n",
    "#plt.legend(effr_cloud, title='effective radius of cloud ($\\mu$m)')\n",
    "plt.xlabel('TOA Reflectance, $0.56 \\mu m$')\n",
    "plt.ylabel('TOA Reflectance, $1.59 \\mu m$')\n",
    "\n",
    "## optical depth\n",
    "for i in range(N_dTau_cloud):\n",
    "    x = dft_cloud[dTau_range_cloud[i]][:N_cloud]\n",
    "    y = dft_cloud[dTau_range_cloud[i]][N_cloud:2*N_cloud]\n",
    "    \n",
    "    plt.plot(x,y, color = 'k',linestyle =':', linewidth = 2)\n",
    "\n",
    "\n",
    "\n",
    "# plot details\n",
    "# effective radii\n",
    "plt.text(0.305, 0.221, '$r_{e}=4$')\n",
    "plt.text(0.305, 0.172, '$8$')\n",
    "plt.text(0.305, 0.16, '$10$')\n",
    "plt.text(0.305, 0.145, '$16$')\n",
    "plt.text(0.305, 0.132, '$20$')\n",
    "plt.text(0.305, 0.108, '$32$')\n",
    "\n",
    "# effective radii\n",
    "plt.text(0.065, 0.049, r'$\\tau = 4$')\n",
    "plt.text(0.108, 0.072, '$8$')\n",
    "plt.text(0.168, 0.093, '$16$')\n",
    "plt.text(0.226, 0.1, '$32$')\n",
    "plt.text(0.265, 0.1, '$64$')\n",
    "\n",
    "# plot regions\n",
    "plt.xlim(0.015,0.35)\n",
    "plt.ylim(0.022,0.24)\n",
    "\n",
    "\n",
    "fig.savefig('fig_interpolation.png', bbox_inches='tight')\n",
    "\n",
    "\n",
    "plt.show()"
   ]
  },
  {
   "cell_type": "code",
   "execution_count": null,
   "metadata": {},
   "outputs": [],
   "source": []
  },
  {
   "cell_type": "markdown",
   "metadata": {},
   "source": [
    "### Testing the strength of the Effective Radius interpolation"
   ]
  },
  {
   "cell_type": "code",
   "execution_count": null,
   "metadata": {},
   "outputs": [],
   "source": [
    "dft_numpy = dft_cloud.to_numpy()\n",
    "\n",
    "x_effr = dft_numpy[0]\n",
    "for i in range(N_cloud-1):\n",
    "    if i != 1:\n",
    "        x_effr = np.concatenate([x_effr, dft_numpy[i+1]])\n",
    "\n",
    "y_effr = dft_numpy[N_cloud]\n",
    "for i in range(N_cloud-1):\n",
    "    if i != 1:\n",
    "        y_effr = np.concatenate([y_effr, dft_numpy[i+1+N_cloud]])\n",
    "\n",
    "z_effr = np.concatenate([np.ones(N_dTau_cloud)*4, np.ones(N_dTau_cloud)*8, np.ones(N_dTau_cloud)*16, np.ones(N_dTau_cloud)*20, np.ones(N_dTau_cloud)*32])\n",
    "# np.ones(N_dTau_cloud)*10,\n",
    "z_effr = np.log10(z_effr)\n",
    "\n",
    "xi_effr = np.arange(0,0.3,0.0001)\n",
    "yi_effr = np.arange(0,0.25,0.0001)\n",
    "xi_effr,yi_effr = np.meshgrid(xi_effr,yi_effr)\n",
    "\n",
    "zi_effr = griddata((x_effr,y_effr),z_effr,(xi_effr,yi_effr),method='linear')\n",
    "\n",
    "# plot\n",
    "fig = plt.figure()\n",
    "ax = fig.add_subplot(111)\n",
    "plt.plot(x_effr,y_effr,'k.')\n",
    "plt.xlabel('Reflection Function ($\\lambda$ = 0.56 $\\mu$m)')\n",
    "plt.ylabel('Reflection Function ($\\lambda$ = 1.59 $\\mu$m)')\n",
    "cntr1 = ax.contourf(xi_effr, yi_effr, 10**zi_effr, levels=14, cmap = 'plasma')\n",
    "\n",
    "plt.colorbar(cntr1)\n",
    "\n",
    "\n",
    "\n",
    "for i in range(N_cloud):\n",
    "    if i!= 2:\n",
    "        plt.plot(df_cloud[i+1], df_cloud[i+1+N_cloud], color = 'k', linewidth = 0.5)\n",
    "\n",
    "\n",
    "#plt.legend(effr_cloud, title='effective radius of cloud ($\\mu$m)')\n",
    "plt.xlabel('TOA Reflectance ($\\lambda$ = 0.56 $\\mu$m)')\n",
    "plt.ylabel('TOA Reflectance ($\\lambda$  = 1.59 $\\mu$m)')\n",
    "\n",
    "## optical depth\n",
    "for i in range(N_dTau_cloud):\n",
    "    x = dft_cloud[dTau_range_cloud[i]][:N_cloud]\n",
    "    y = dft_cloud[dTau_range_cloud[i]][N_cloud:2*N_cloud]\n",
    "    \n",
    "    plt.plot(x,y, color = 'k',linestyle =':', linewidth = 1.5)\n",
    "\n",
    "\n",
    "\n",
    "# plot details\n",
    "# effective radii\n",
    "plt.text(0.305, 0.221, '$r_{e}=4$')\n",
    "plt.text(0.305, 0.172, '$8$')\n",
    "#plt.text(0.305, 0.16, '$10$')\n",
    "plt.text(0.305, 0.145, '$16$')\n",
    "plt.text(0.305, 0.132, '$20$')\n",
    "plt.text(0.305, 0.108, '$32$')\n",
    "\n",
    "# effective radii\n",
    "plt.text(0.065, 0.049, r'$\\tau = 4$')\n",
    "plt.text(0.108, 0.072, '$8$')\n",
    "plt.text(0.168, 0.093, '$16$')\n",
    "plt.text(0.226, 0.1, '$32$')\n",
    "plt.text(0.265, 0.1, '$64$')\n",
    "\n",
    "# plot regions\n",
    "plt.xlim(0.015,0.35)\n",
    "plt.ylim(0.022,0.24)\n",
    "\n",
    "\n",
    "\n",
    "plt.show()"
   ]
  },
  {
   "cell_type": "code",
   "execution_count": null,
   "metadata": {},
   "outputs": [],
   "source": []
  },
  {
   "cell_type": "code",
   "execution_count": null,
   "metadata": {},
   "outputs": [],
   "source": [
    "xi_test = dft_numpy[2]\n",
    "yi_test = dft_numpy[2+N_cloud]\n",
    "zi_test = griddata((x_effr,y_effr),z_effr,(xi_test,yi_test),method='linear')\n",
    "print(10**(zi_test))\n",
    "percentage_error = np.abs((10**(zi_test)-10)*10)\n",
    "absolute_error = np.abs((10**(zi_test)-10))\n",
    "retrieved_COD = 10**(zi_test)\n",
    "print(percentage_error)\n",
    "print(absolute_error)"
   ]
  },
  {
   "cell_type": "code",
   "execution_count": null,
   "metadata": {},
   "outputs": [],
   "source": [
    "xi_test"
   ]
  },
  {
   "cell_type": "code",
   "execution_count": null,
   "metadata": {},
   "outputs": [],
   "source": [
    "# interpolation strength figure\n",
    "\n",
    "fig, ax = plt.subplots()\n",
    "plt.plot(dTau_range_cloud, absolute_error)\n",
    "plt.xlabel('COD')\n",
    "plt.ylabel('Absolute Error on Retrieved CER')\n",
    "plt.xscale('log', base=2)\n",
    "plt.title('Absolute Error on Interpolation for $r_{e} = 10$')\n",
    "\n",
    "#plot regions\n",
    "#plt.xlim(0.5,64)\n",
    "plt.xlim(0.125,128)\n",
    "\n",
    "\n",
    "fig.savefig('fig_interpolation_strength.png', bbox_inches='tight')\n",
    "\n",
    "fig.show()"
   ]
  },
  {
   "cell_type": "code",
   "execution_count": null,
   "metadata": {},
   "outputs": [],
   "source": []
  },
  {
   "cell_type": "code",
   "execution_count": null,
   "metadata": {},
   "outputs": [],
   "source": []
  }
 ],
 "metadata": {
  "kernelspec": {
   "display_name": "Python 3",
   "language": "python",
   "name": "python3"
  },
  "language_info": {
   "codemirror_mode": {
    "name": "ipython",
    "version": 3
   },
   "file_extension": ".py",
   "mimetype": "text/x-python",
   "name": "python",
   "nbconvert_exporter": "python",
   "pygments_lexer": "ipython3",
   "version": "3.7.0"
  }
 },
 "nbformat": 4,
 "nbformat_minor": 2
}
