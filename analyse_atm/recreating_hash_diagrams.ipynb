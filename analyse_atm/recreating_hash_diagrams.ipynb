{
 "cells": [
  {
   "cell_type": "code",
   "execution_count": 119,
   "metadata": {},
   "outputs": [],
   "source": [
    "import matplotlib.pyplot as plt\n",
    "import pandas as pd"
   ]
  },
  {
   "cell_type": "code",
   "execution_count": 120,
   "metadata": {},
   "outputs": [],
   "source": [
    "df = pd.read_csv(\"../create_atm/atmospheres/basic_atm.csv\")"
   ]
  },
  {
   "cell_type": "code",
   "execution_count": 121,
   "metadata": {},
   "outputs": [],
   "source": [
    "df = df.T #transpose data frame"
   ]
  },
  {
   "cell_type": "code",
   "execution_count": 122,
   "metadata": {},
   "outputs": [
    {
     "data": {
      "text/html": [
       "<div>\n",
       "<style scoped>\n",
       "    .dataframe tbody tr th:only-of-type {\n",
       "        vertical-align: middle;\n",
       "    }\n",
       "\n",
       "    .dataframe tbody tr th {\n",
       "        vertical-align: top;\n",
       "    }\n",
       "\n",
       "    .dataframe thead th {\n",
       "        text-align: right;\n",
       "    }\n",
       "</style>\n",
       "<table border=\"1\" class=\"dataframe\">\n",
       "  <thead>\n",
       "    <tr style=\"text-align: right;\">\n",
       "      <th></th>\n",
       "      <th>[0.560017, 0.1, 0.966353]</th>\n",
       "      <th>[0.560017, 0.5, 0.984336]</th>\n",
       "      <th>[0.560017, 1.0, 0.991416]</th>\n",
       "      <th>[0.560017, 2.0, 0.997488]</th>\n",
       "      <th>[1.59368, 0.1, 0.651883]</th>\n",
       "      <th>[1.59368, 0.5, 0.968464]</th>\n",
       "      <th>[1.59368, 1.0, 0.982303]</th>\n",
       "      <th>[1.59368, 2.0, 0.988087]</th>\n",
       "    </tr>\n",
       "  </thead>\n",
       "  <tbody>\n",
       "    <tr>\n",
       "      <th>0.5</th>\n",
       "      <td>0.020991</td>\n",
       "      <td>0.011574</td>\n",
       "      <td>0.008870</td>\n",
       "      <td>0.006491</td>\n",
       "      <td>0.021419</td>\n",
       "      <td>0.010136</td>\n",
       "      <td>0.009136</td>\n",
       "      <td>0.008754</td>\n",
       "    </tr>\n",
       "    <tr>\n",
       "      <th>1.0</th>\n",
       "      <td>0.045366</td>\n",
       "      <td>0.027876</td>\n",
       "      <td>0.022006</td>\n",
       "      <td>0.016566</td>\n",
       "      <td>0.033528</td>\n",
       "      <td>0.023477</td>\n",
       "      <td>0.021950</td>\n",
       "      <td>0.021362</td>\n",
       "    </tr>\n",
       "    <tr>\n",
       "      <th>1.5</th>\n",
       "      <td>0.067033</td>\n",
       "      <td>0.044953</td>\n",
       "      <td>0.036650</td>\n",
       "      <td>0.028488</td>\n",
       "      <td>0.039485</td>\n",
       "      <td>0.037342</td>\n",
       "      <td>0.035944</td>\n",
       "      <td>0.035418</td>\n",
       "    </tr>\n",
       "    <tr>\n",
       "      <th>2.0</th>\n",
       "      <td>0.084843</td>\n",
       "      <td>0.061029</td>\n",
       "      <td>0.051262</td>\n",
       "      <td>0.041088</td>\n",
       "      <td>0.042269</td>\n",
       "      <td>0.050360</td>\n",
       "      <td>0.049658</td>\n",
       "      <td>0.049444</td>\n",
       "    </tr>\n",
       "    <tr>\n",
       "      <th>2.5</th>\n",
       "      <td>0.099084</td>\n",
       "      <td>0.075454</td>\n",
       "      <td>0.065069</td>\n",
       "      <td>0.053634</td>\n",
       "      <td>0.043536</td>\n",
       "      <td>0.061963</td>\n",
       "      <td>0.062370</td>\n",
       "      <td>0.062666</td>\n",
       "    </tr>\n",
       "    <tr>\n",
       "      <th>3.0</th>\n",
       "      <td>0.110373</td>\n",
       "      <td>0.088112</td>\n",
       "      <td>0.077746</td>\n",
       "      <td>0.065705</td>\n",
       "      <td>0.044106</td>\n",
       "      <td>0.072021</td>\n",
       "      <td>0.073810</td>\n",
       "      <td>0.074755</td>\n",
       "    </tr>\n",
       "    <tr>\n",
       "      <th>3.5</th>\n",
       "      <td>0.119311</td>\n",
       "      <td>0.099111</td>\n",
       "      <td>0.089210</td>\n",
       "      <td>0.077085</td>\n",
       "      <td>0.044359</td>\n",
       "      <td>0.080608</td>\n",
       "      <td>0.083943</td>\n",
       "      <td>0.085632</td>\n",
       "    </tr>\n",
       "    <tr>\n",
       "      <th>4.0</th>\n",
       "      <td>0.126402</td>\n",
       "      <td>0.108633</td>\n",
       "      <td>0.099499</td>\n",
       "      <td>0.087687</td>\n",
       "      <td>0.044472</td>\n",
       "      <td>0.087884</td>\n",
       "      <td>0.092846</td>\n",
       "      <td>0.095337</td>\n",
       "    </tr>\n",
       "    <tr>\n",
       "      <th>4.5</th>\n",
       "      <td>0.132045</td>\n",
       "      <td>0.116874</td>\n",
       "      <td>0.108702</td>\n",
       "      <td>0.097496</td>\n",
       "      <td>0.044522</td>\n",
       "      <td>0.094025</td>\n",
       "      <td>0.100641</td>\n",
       "      <td>0.103965</td>\n",
       "    </tr>\n",
       "    <tr>\n",
       "      <th>5.0</th>\n",
       "      <td>0.136548</td>\n",
       "      <td>0.124016</td>\n",
       "      <td>0.116927</td>\n",
       "      <td>0.106540</td>\n",
       "      <td>0.044544</td>\n",
       "      <td>0.099201</td>\n",
       "      <td>0.107458</td>\n",
       "      <td>0.111628</td>\n",
       "    </tr>\n",
       "  </tbody>\n",
       "</table>\n",
       "</div>"
      ],
      "text/plain": [
       "     [0.560017, 0.1, 0.966353]  [0.560017, 0.5, 0.984336]  \\\n",
       "0.5                   0.020991                   0.011574   \n",
       "1.0                   0.045366                   0.027876   \n",
       "1.5                   0.067033                   0.044953   \n",
       "2.0                   0.084843                   0.061029   \n",
       "2.5                   0.099084                   0.075454   \n",
       "3.0                   0.110373                   0.088112   \n",
       "3.5                   0.119311                   0.099111   \n",
       "4.0                   0.126402                   0.108633   \n",
       "4.5                   0.132045                   0.116874   \n",
       "5.0                   0.136548                   0.124016   \n",
       "\n",
       "     [0.560017, 1.0, 0.991416]  [0.560017, 2.0, 0.997488]  \\\n",
       "0.5                   0.008870                   0.006491   \n",
       "1.0                   0.022006                   0.016566   \n",
       "1.5                   0.036650                   0.028488   \n",
       "2.0                   0.051262                   0.041088   \n",
       "2.5                   0.065069                   0.053634   \n",
       "3.0                   0.077746                   0.065705   \n",
       "3.5                   0.089210                   0.077085   \n",
       "4.0                   0.099499                   0.087687   \n",
       "4.5                   0.108702                   0.097496   \n",
       "5.0                   0.116927                   0.106540   \n",
       "\n",
       "     [1.59368, 0.1, 0.651883]  [1.59368, 0.5, 0.968464]  \\\n",
       "0.5                  0.021419                  0.010136   \n",
       "1.0                  0.033528                  0.023477   \n",
       "1.5                  0.039485                  0.037342   \n",
       "2.0                  0.042269                  0.050360   \n",
       "2.5                  0.043536                  0.061963   \n",
       "3.0                  0.044106                  0.072021   \n",
       "3.5                  0.044359                  0.080608   \n",
       "4.0                  0.044472                  0.087884   \n",
       "4.5                  0.044522                  0.094025   \n",
       "5.0                  0.044544                  0.099201   \n",
       "\n",
       "     [1.59368, 1.0, 0.982303]  [1.59368, 2.0, 0.988087]  \n",
       "0.5                  0.009136                  0.008754  \n",
       "1.0                  0.021950                  0.021362  \n",
       "1.5                  0.035944                  0.035418  \n",
       "2.0                  0.049658                  0.049444  \n",
       "2.5                  0.062370                  0.062666  \n",
       "3.0                  0.073810                  0.074755  \n",
       "3.5                  0.083943                  0.085632  \n",
       "4.0                  0.092846                  0.095337  \n",
       "4.5                  0.100641                  0.103965  \n",
       "5.0                  0.107458                  0.111628  "
      ]
     },
     "execution_count": 122,
     "metadata": {},
     "output_type": "execute_result"
    }
   ],
   "source": [
    "df"
   ]
  },
  {
   "cell_type": "code",
   "execution_count": 123,
   "metadata": {},
   "outputs": [
    {
     "data": {
      "text/plain": [
       "10"
      ]
     },
     "execution_count": 123,
     "metadata": {},
     "output_type": "execute_result"
    }
   ],
   "source": [
    "len(df)"
   ]
  },
  {
   "cell_type": "code",
   "execution_count": 124,
   "metadata": {},
   "outputs": [
    {
     "data": {
      "text/plain": [
       "0.5    0.020991\n",
       "1.0    0.045366\n",
       "1.5    0.067033\n",
       "2.0    0.084843\n",
       "2.5    0.099084\n",
       "3.0    0.110373\n",
       "3.5    0.119311\n",
       "4.0    0.126402\n",
       "4.5    0.132045\n",
       "5.0    0.136548\n",
       "Name: [0.560017, 0.1, 0.966353], dtype: float64"
      ]
     },
     "execution_count": 124,
     "metadata": {},
     "output_type": "execute_result"
    }
   ],
   "source": [
    "df['[0.560017, 0.1, 0.966353]']"
   ]
  },
  {
   "cell_type": "code",
   "execution_count": 125,
   "metadata": {},
   "outputs": [
    {
     "data": {
      "text/plain": [
       "[<matplotlib.lines.Line2D at 0x7fb2f059da58>]"
      ]
     },
     "execution_count": 125,
     "metadata": {},
     "output_type": "execute_result"
    },
    {
     "data": {
      "image/png": "[encoded data removed]",
      "text/plain": [
       "<Figure size 432x288 with 1 Axes>"
      ]
     },
     "metadata": {
      "needs_background": "light"
     },
     "output_type": "display_data"
    }
   ],
   "source": [
    "plt.plot(df['[0.560017, 0.1, 0.966353]'], df['[1.59368, 0.1, 0.651883]'])"
   ]
  },
  {
   "cell_type": "code",
   "execution_count": 126,
   "metadata": {},
   "outputs": [
    {
     "data": {
      "text/plain": [
       "[<matplotlib.lines.Line2D at 0x7fb2f0501668>]"
      ]
     },
     "execution_count": 126,
     "metadata": {},
     "output_type": "execute_result"
    },
    {
     "data": {
      "image/png": "[encoded data removed]",
      "text/plain": [
       "<Figure size 432x288 with 1 Axes>"
      ]
     },
     "metadata": {
      "needs_background": "light"
     },
     "output_type": "display_data"
    }
   ],
   "source": [
    "plt.plot(df['[0.560017, 0.5, 0.984336]'], df['[1.59368, 0.5, 0.968464]'])"
   ]
  },
  {
   "cell_type": "code",
   "execution_count": 127,
   "metadata": {},
   "outputs": [
    {
     "data": {
      "text/plain": [
       "[<matplotlib.lines.Line2D at 0x7fb2f04dac88>]"
      ]
     },
     "execution_count": 127,
     "metadata": {},
     "output_type": "execute_result"
    },
    {
     "data": {
      "image/png": "[encoded data removed]",
      "text/plain": [
       "<Figure size 432x288 with 1 Axes>"
      ]
     },
     "metadata": {
      "needs_background": "light"
     },
     "output_type": "display_data"
    }
   ],
   "source": [
    "plt.plot(df['[0.560017, 1.0, 0.991416]'], df['[1.59368, 1.0, 0.982303]'])"
   ]
  },
  {
   "cell_type": "code",
   "execution_count": 128,
   "metadata": {},
   "outputs": [
    {
     "data": {
      "text/plain": [
       "[<matplotlib.lines.Line2D at 0x7fb2f043e2e8>]"
      ]
     },
     "execution_count": 128,
     "metadata": {},
     "output_type": "execute_result"
    },
    {
     "data": {
      "image/png": "[encoded data removed]",
      "text/plain": [
       "<Figure size 432x288 with 1 Axes>"
      ]
     },
     "metadata": {
      "needs_background": "light"
     },
     "output_type": "display_data"
    }
   ],
   "source": [
    "plt.plot(df['[0.560017, 2.0, 0.997488]'], df['[1.59368, 2.0, 0.988087]'])"
   ]
  },
  {
   "cell_type": "code",
   "execution_count": 139,
   "metadata": {},
   "outputs": [
    {
     "data": {
      "image/png": "[encoded data removed]",
      "text/plain": [
       "<Figure size 432x288 with 1 Axes>"
      ]
     },
     "metadata": {
      "needs_background": "light"
     },
     "output_type": "display_data"
    }
   ],
   "source": [
    "plt.plot(df['[0.560017, 0.1, 0.966353]'], df['[1.59368, 0.1, 0.651883]'])\n",
    "plt.plot(df['[0.560017, 0.5, 0.984336]'], df['[1.59368, 0.5, 0.968464]'])\n",
    "plt.plot(df['[0.560017, 1.0, 0.991416]'], df['[1.59368, 1.0, 0.982303]'])\n",
    "plt.plot(df['[0.560017, 2.0, 0.997488]'], df['[1.59368, 2.0, 0.988087]'])\n",
    "plt.legend(['0.1','0.5','1','2'], title='effective radius ($\\mu$m)')\n",
    "plt.xlabel('Reflection Function (0.56 $\\mu$m)')\n",
    "plt.ylabel('Reflection Function (1.59 $\\mu$m)')\n",
    "plt.show()"
   ]
  },
  {
   "cell_type": "code",
   "execution_count": null,
   "metadata": {},
   "outputs": [],
   "source": []
  },
  {
   "cell_type": "code",
   "execution_count": null,
   "metadata": {},
   "outputs": [],
   "source": []
  },
  {
   "cell_type": "code",
   "execution_count": null,
   "metadata": {},
   "outputs": [],
   "source": []
  },
  {
   "cell_type": "code",
   "execution_count": null,
   "metadata": {},
   "outputs": [],
   "source": []
  },
  {
   "cell_type": "code",
   "execution_count": null,
   "metadata": {},
   "outputs": [],
   "source": []
  }
 ],
 "metadata": {
  "kernelspec": {
   "display_name": "Python 3",
   "language": "python",
   "name": "python3"
  },
  "language_info": {
   "codemirror_mode": {
    "name": "ipython",
    "version": 3
   },
   "file_extension": ".py",
   "mimetype": "text/x-python",
   "name": "python",
   "nbconvert_exporter": "python",
   "pygments_lexer": "ipython3",
   "version": "3.7.0"
  }
 },
 "nbformat": 4,
 "nbformat_minor": 2
}
