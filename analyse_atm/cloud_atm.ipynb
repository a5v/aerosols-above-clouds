{
 "cells": [
  {
   "cell_type": "markdown",
   "metadata": {},
   "source": [
    "# Notebook to recreate reflectance diagram created in Nakajima and King"
   ]
  },
  {
   "cell_type": "markdown",
   "metadata": {},
   "source": [
    "> Using the cloud_atm.csv file\n",
    "- single layer of cloud with Rayleigh scattering"
   ]
  },
  {
   "cell_type": "markdown",
   "metadata": {},
   "source": [
    "## Constant Effective Radius; varying dTau"
   ]
  },
  {
   "cell_type": "code",
   "execution_count": 1,
   "metadata": {},
   "outputs": [],
   "source": [
    "import matplotlib.pyplot as plt\n",
    "import pandas as pd"
   ]
  },
  {
   "cell_type": "code",
   "execution_count": 2,
   "metadata": {},
   "outputs": [],
   "source": [
    "df = pd.read_csv(\"../create_atm/atmospheres/cloud_atm.csv\", header = None, index_col = 0)"
   ]
  },
  {
   "cell_type": "code",
   "execution_count": 3,
   "metadata": {},
   "outputs": [
    {
     "data": {
      "text/html": [
       "<div>\n",
       "<style scoped>\n",
       "    .dataframe tbody tr th:only-of-type {\n",
       "        vertical-align: middle;\n",
       "    }\n",
       "\n",
       "    .dataframe tbody tr th {\n",
       "        vertical-align: top;\n",
       "    }\n",
       "\n",
       "    .dataframe thead th {\n",
       "        text-align: right;\n",
       "    }\n",
       "</style>\n",
       "<table border=\"1\" class=\"dataframe\">\n",
       "  <thead>\n",
       "    <tr style=\"text-align: right;\">\n",
       "      <th></th>\n",
       "      <th>1</th>\n",
       "      <th>2</th>\n",
       "      <th>3</th>\n",
       "      <th>4</th>\n",
       "      <th>5</th>\n",
       "      <th>6</th>\n",
       "      <th>7</th>\n",
       "      <th>8</th>\n",
       "      <th>9</th>\n",
       "      <th>10</th>\n",
       "      <th>11</th>\n",
       "      <th>12</th>\n",
       "    </tr>\n",
       "    <tr>\n",
       "      <th>0</th>\n",
       "      <th></th>\n",
       "      <th></th>\n",
       "      <th></th>\n",
       "      <th></th>\n",
       "      <th></th>\n",
       "      <th></th>\n",
       "      <th></th>\n",
       "      <th></th>\n",
       "      <th></th>\n",
       "      <th></th>\n",
       "      <th></th>\n",
       "      <th></th>\n",
       "    </tr>\n",
       "  </thead>\n",
       "  <tbody>\n",
       "    <tr>\n",
       "      <th>0.25</th>\n",
       "      <td>0.028212</td>\n",
       "      <td>0.014515</td>\n",
       "      <td>0.015801</td>\n",
       "      <td>0.014595</td>\n",
       "      <td>0.013082</td>\n",
       "      <td>0.012733</td>\n",
       "      <td>0.024992</td>\n",
       "      <td>0.006230</td>\n",
       "      <td>0.002692</td>\n",
       "      <td>0.003116</td>\n",
       "      <td>0.001897</td>\n",
       "      <td>0.001273</td>\n",
       "    </tr>\n",
       "    <tr>\n",
       "      <th>0.50</th>\n",
       "      <td>0.046585</td>\n",
       "      <td>0.018691</td>\n",
       "      <td>0.021410</td>\n",
       "      <td>0.018822</td>\n",
       "      <td>0.015481</td>\n",
       "      <td>0.014784</td>\n",
       "      <td>0.046516</td>\n",
       "      <td>0.015450</td>\n",
       "      <td>0.006433</td>\n",
       "      <td>0.006963</td>\n",
       "      <td>0.004326</td>\n",
       "      <td>0.002973</td>\n",
       "    </tr>\n",
       "    <tr>\n",
       "      <th>1.00</th>\n",
       "      <td>0.080804</td>\n",
       "      <td>0.028815</td>\n",
       "      <td>0.034447</td>\n",
       "      <td>0.028892</td>\n",
       "      <td>0.021465</td>\n",
       "      <td>0.020078</td>\n",
       "      <td>0.077481</td>\n",
       "      <td>0.037160</td>\n",
       "      <td>0.016761</td>\n",
       "      <td>0.016723</td>\n",
       "      <td>0.010802</td>\n",
       "      <td>0.007795</td>\n",
       "    </tr>\n",
       "    <tr>\n",
       "      <th>2.00</th>\n",
       "      <td>0.132266</td>\n",
       "      <td>0.052225</td>\n",
       "      <td>0.062483</td>\n",
       "      <td>0.051842</td>\n",
       "      <td>0.036603</td>\n",
       "      <td>0.033964</td>\n",
       "      <td>0.106944</td>\n",
       "      <td>0.077158</td>\n",
       "      <td>0.042323</td>\n",
       "      <td>0.040155</td>\n",
       "      <td>0.027461</td>\n",
       "      <td>0.020854</td>\n",
       "    </tr>\n",
       "    <tr>\n",
       "      <th>4.00</th>\n",
       "      <td>0.190049</td>\n",
       "      <td>0.094808</td>\n",
       "      <td>0.109889</td>\n",
       "      <td>0.094429</td>\n",
       "      <td>0.069448</td>\n",
       "      <td>0.065109</td>\n",
       "      <td>0.120167</td>\n",
       "      <td>0.128271</td>\n",
       "      <td>0.087946</td>\n",
       "      <td>0.083969</td>\n",
       "      <td>0.061510</td>\n",
       "      <td>0.048507</td>\n",
       "    </tr>\n",
       "    <tr>\n",
       "      <th>8.00</th>\n",
       "      <td>0.239587</td>\n",
       "      <td>0.150441</td>\n",
       "      <td>0.167344</td>\n",
       "      <td>0.150767</td>\n",
       "      <td>0.120674</td>\n",
       "      <td>0.115109</td>\n",
       "      <td>0.121829</td>\n",
       "      <td>0.172889</td>\n",
       "      <td>0.143915</td>\n",
       "      <td>0.140247</td>\n",
       "      <td>0.107205</td>\n",
       "      <td>0.085494</td>\n",
       "    </tr>\n",
       "    <tr>\n",
       "      <th>16.00</th>\n",
       "      <td>0.273515</td>\n",
       "      <td>0.206248</td>\n",
       "      <td>0.219676</td>\n",
       "      <td>0.204939</td>\n",
       "      <td>0.177599</td>\n",
       "      <td>0.172074</td>\n",
       "      <td>0.121852</td>\n",
       "      <td>0.196478</td>\n",
       "      <td>0.194736</td>\n",
       "      <td>0.191968</td>\n",
       "      <td>0.144580</td>\n",
       "      <td>0.113057</td>\n",
       "    </tr>\n",
       "    <tr>\n",
       "      <th>32.00</th>\n",
       "      <td>0.291948</td>\n",
       "      <td>0.249910</td>\n",
       "      <td>0.256777</td>\n",
       "      <td>0.245017</td>\n",
       "      <td>0.225830</td>\n",
       "      <td>0.221521</td>\n",
       "      <td>0.121851</td>\n",
       "      <td>0.201489</td>\n",
       "      <td>0.225991</td>\n",
       "      <td>0.224496</td>\n",
       "      <td>0.160581</td>\n",
       "      <td>0.122254</td>\n",
       "    </tr>\n",
       "  </tbody>\n",
       "</table>\n",
       "</div>"
      ],
      "text/plain": [
       "             1         2         3         4         5         6         7   \\\n",
       "0                                                                             \n",
       "0.25   0.028212  0.014515  0.015801  0.014595  0.013082  0.012733  0.024992   \n",
       "0.50   0.046585  0.018691  0.021410  0.018822  0.015481  0.014784  0.046516   \n",
       "1.00   0.080804  0.028815  0.034447  0.028892  0.021465  0.020078  0.077481   \n",
       "2.00   0.132266  0.052225  0.062483  0.051842  0.036603  0.033964  0.106944   \n",
       "4.00   0.190049  0.094808  0.109889  0.094429  0.069448  0.065109  0.120167   \n",
       "8.00   0.239587  0.150441  0.167344  0.150767  0.120674  0.115109  0.121829   \n",
       "16.00  0.273515  0.206248  0.219676  0.204939  0.177599  0.172074  0.121852   \n",
       "32.00  0.291948  0.249910  0.256777  0.245017  0.225830  0.221521  0.121851   \n",
       "\n",
       "             8         9         10        11        12  \n",
       "0                                                        \n",
       "0.25   0.006230  0.002692  0.003116  0.001897  0.001273  \n",
       "0.50   0.015450  0.006433  0.006963  0.004326  0.002973  \n",
       "1.00   0.037160  0.016761  0.016723  0.010802  0.007795  \n",
       "2.00   0.077158  0.042323  0.040155  0.027461  0.020854  \n",
       "4.00   0.128271  0.087946  0.083969  0.061510  0.048507  \n",
       "8.00   0.172889  0.143915  0.140247  0.107205  0.085494  \n",
       "16.00  0.196478  0.194736  0.191968  0.144580  0.113057  \n",
       "32.00  0.201489  0.225991  0.224496  0.160581  0.122254  "
      ]
     },
     "execution_count": 3,
     "metadata": {},
     "output_type": "execute_result"
    }
   ],
   "source": [
    "df"
   ]
  },
  {
   "cell_type": "code",
   "execution_count": 4,
   "metadata": {},
   "outputs": [
    {
     "data": {
      "text/plain": [
       "8"
      ]
     },
     "execution_count": 4,
     "metadata": {},
     "output_type": "execute_result"
    }
   ],
   "source": [
    "len(df)"
   ]
  },
  {
   "cell_type": "code",
   "execution_count": 5,
   "metadata": {},
   "outputs": [
    {
     "data": {
      "image/png": "[encoded data removed]",
      "text/plain": [
       "<Figure size 432x288 with 1 Axes>"
      ]
     },
     "metadata": {
      "needs_background": "light"
     },
     "output_type": "display_data"
    }
   ],
   "source": [
    "N_cloud = int(df.shape[1]/2)\n",
    "\n",
    "for i in range(N_cloud):\n",
    "    plt.plot(df[1+i], df[7+i])\n",
    "\n",
    "plt.legend(['0.1','0.5','1','2','10','20'], title='effective radius ($\\mu$m)')\n",
    "plt.xlabel('Reflection Function ($\\lambda$ = 0.56 $\\mu$m)')\n",
    "plt.ylabel('Reflection Function ($\\lambda$  = 1.59 $\\mu$m)')\n",
    "plt.show()"
   ]
  },
  {
   "cell_type": "markdown",
   "metadata": {},
   "source": [
    "## Constant dTau; varying effective radius"
   ]
  },
  {
   "cell_type": "code",
   "execution_count": 6,
   "metadata": {},
   "outputs": [],
   "source": [
    "import copy"
   ]
  },
  {
   "cell_type": "code",
   "execution_count": 7,
   "metadata": {},
   "outputs": [],
   "source": [
    "df2 = df.T"
   ]
  },
  {
   "cell_type": "code",
   "execution_count": 8,
   "metadata": {},
   "outputs": [
    {
     "data": {
      "text/html": [
       "<div>\n",
       "<style scoped>\n",
       "    .dataframe tbody tr th:only-of-type {\n",
       "        vertical-align: middle;\n",
       "    }\n",
       "\n",
       "    .dataframe tbody tr th {\n",
       "        vertical-align: top;\n",
       "    }\n",
       "\n",
       "    .dataframe thead th {\n",
       "        text-align: right;\n",
       "    }\n",
       "</style>\n",
       "<table border=\"1\" class=\"dataframe\">\n",
       "  <thead>\n",
       "    <tr style=\"text-align: right;\">\n",
       "      <th></th>\n",
       "      <th>0.25</th>\n",
       "      <th>0.50</th>\n",
       "      <th>1.00</th>\n",
       "      <th>2.00</th>\n",
       "      <th>4.00</th>\n",
       "      <th>8.00</th>\n",
       "      <th>16.00</th>\n",
       "      <th>32.00</th>\n",
       "    </tr>\n",
       "  </thead>\n",
       "  <tbody>\n",
       "    <tr>\n",
       "      <th>1</th>\n",
       "      <td>0.028212</td>\n",
       "      <td>0.046585</td>\n",
       "      <td>0.080804</td>\n",
       "      <td>0.132266</td>\n",
       "      <td>0.190049</td>\n",
       "      <td>0.239587</td>\n",
       "      <td>0.273515</td>\n",
       "      <td>0.291948</td>\n",
       "    </tr>\n",
       "    <tr>\n",
       "      <th>2</th>\n",
       "      <td>0.014515</td>\n",
       "      <td>0.018691</td>\n",
       "      <td>0.028815</td>\n",
       "      <td>0.052225</td>\n",
       "      <td>0.094808</td>\n",
       "      <td>0.150441</td>\n",
       "      <td>0.206248</td>\n",
       "      <td>0.249910</td>\n",
       "    </tr>\n",
       "    <tr>\n",
       "      <th>3</th>\n",
       "      <td>0.015801</td>\n",
       "      <td>0.021410</td>\n",
       "      <td>0.034447</td>\n",
       "      <td>0.062483</td>\n",
       "      <td>0.109889</td>\n",
       "      <td>0.167344</td>\n",
       "      <td>0.219676</td>\n",
       "      <td>0.256777</td>\n",
       "    </tr>\n",
       "    <tr>\n",
       "      <th>4</th>\n",
       "      <td>0.014595</td>\n",
       "      <td>0.018822</td>\n",
       "      <td>0.028892</td>\n",
       "      <td>0.051842</td>\n",
       "      <td>0.094429</td>\n",
       "      <td>0.150767</td>\n",
       "      <td>0.204939</td>\n",
       "      <td>0.245017</td>\n",
       "    </tr>\n",
       "    <tr>\n",
       "      <th>5</th>\n",
       "      <td>0.013082</td>\n",
       "      <td>0.015481</td>\n",
       "      <td>0.021465</td>\n",
       "      <td>0.036603</td>\n",
       "      <td>0.069448</td>\n",
       "      <td>0.120674</td>\n",
       "      <td>0.177599</td>\n",
       "      <td>0.225830</td>\n",
       "    </tr>\n",
       "    <tr>\n",
       "      <th>6</th>\n",
       "      <td>0.012733</td>\n",
       "      <td>0.014784</td>\n",
       "      <td>0.020078</td>\n",
       "      <td>0.033964</td>\n",
       "      <td>0.065109</td>\n",
       "      <td>0.115109</td>\n",
       "      <td>0.172074</td>\n",
       "      <td>0.221521</td>\n",
       "    </tr>\n",
       "    <tr>\n",
       "      <th>7</th>\n",
       "      <td>0.024992</td>\n",
       "      <td>0.046516</td>\n",
       "      <td>0.077481</td>\n",
       "      <td>0.106944</td>\n",
       "      <td>0.120167</td>\n",
       "      <td>0.121829</td>\n",
       "      <td>0.121852</td>\n",
       "      <td>0.121851</td>\n",
       "    </tr>\n",
       "    <tr>\n",
       "      <th>8</th>\n",
       "      <td>0.006230</td>\n",
       "      <td>0.015450</td>\n",
       "      <td>0.037160</td>\n",
       "      <td>0.077158</td>\n",
       "      <td>0.128271</td>\n",
       "      <td>0.172889</td>\n",
       "      <td>0.196478</td>\n",
       "      <td>0.201489</td>\n",
       "    </tr>\n",
       "    <tr>\n",
       "      <th>9</th>\n",
       "      <td>0.002692</td>\n",
       "      <td>0.006433</td>\n",
       "      <td>0.016761</td>\n",
       "      <td>0.042323</td>\n",
       "      <td>0.087946</td>\n",
       "      <td>0.143915</td>\n",
       "      <td>0.194736</td>\n",
       "      <td>0.225991</td>\n",
       "    </tr>\n",
       "    <tr>\n",
       "      <th>10</th>\n",
       "      <td>0.003116</td>\n",
       "      <td>0.006963</td>\n",
       "      <td>0.016723</td>\n",
       "      <td>0.040155</td>\n",
       "      <td>0.083969</td>\n",
       "      <td>0.140247</td>\n",
       "      <td>0.191968</td>\n",
       "      <td>0.224496</td>\n",
       "    </tr>\n",
       "    <tr>\n",
       "      <th>11</th>\n",
       "      <td>0.001897</td>\n",
       "      <td>0.004326</td>\n",
       "      <td>0.010802</td>\n",
       "      <td>0.027461</td>\n",
       "      <td>0.061510</td>\n",
       "      <td>0.107205</td>\n",
       "      <td>0.144580</td>\n",
       "      <td>0.160581</td>\n",
       "    </tr>\n",
       "    <tr>\n",
       "      <th>12</th>\n",
       "      <td>0.001273</td>\n",
       "      <td>0.002973</td>\n",
       "      <td>0.007795</td>\n",
       "      <td>0.020854</td>\n",
       "      <td>0.048507</td>\n",
       "      <td>0.085494</td>\n",
       "      <td>0.113057</td>\n",
       "      <td>0.122254</td>\n",
       "    </tr>\n",
       "  </tbody>\n",
       "</table>\n",
       "</div>"
      ],
      "text/plain": [
       "0      0.25      0.50      1.00      2.00      4.00      8.00      16.00  \\\n",
       "1   0.028212  0.046585  0.080804  0.132266  0.190049  0.239587  0.273515   \n",
       "2   0.014515  0.018691  0.028815  0.052225  0.094808  0.150441  0.206248   \n",
       "3   0.015801  0.021410  0.034447  0.062483  0.109889  0.167344  0.219676   \n",
       "4   0.014595  0.018822  0.028892  0.051842  0.094429  0.150767  0.204939   \n",
       "5   0.013082  0.015481  0.021465  0.036603  0.069448  0.120674  0.177599   \n",
       "6   0.012733  0.014784  0.020078  0.033964  0.065109  0.115109  0.172074   \n",
       "7   0.024992  0.046516  0.077481  0.106944  0.120167  0.121829  0.121852   \n",
       "8   0.006230  0.015450  0.037160  0.077158  0.128271  0.172889  0.196478   \n",
       "9   0.002692  0.006433  0.016761  0.042323  0.087946  0.143915  0.194736   \n",
       "10  0.003116  0.006963  0.016723  0.040155  0.083969  0.140247  0.191968   \n",
       "11  0.001897  0.004326  0.010802  0.027461  0.061510  0.107205  0.144580   \n",
       "12  0.001273  0.002973  0.007795  0.020854  0.048507  0.085494  0.113057   \n",
       "\n",
       "0      32.00  \n",
       "1   0.291948  \n",
       "2   0.249910  \n",
       "3   0.256777  \n",
       "4   0.245017  \n",
       "5   0.225830  \n",
       "6   0.221521  \n",
       "7   0.121851  \n",
       "8   0.201489  \n",
       "9   0.225991  \n",
       "10  0.224496  \n",
       "11  0.160581  \n",
       "12  0.122254  "
      ]
     },
     "execution_count": 8,
     "metadata": {},
     "output_type": "execute_result"
    }
   ],
   "source": [
    "df2"
   ]
  },
  {
   "cell_type": "code",
   "execution_count": 9,
   "metadata": {},
   "outputs": [
    {
     "data": {
      "text/plain": [
       "[<matplotlib.lines.Line2D at 0x7fce3ace9198>]"
      ]
     },
     "execution_count": 9,
     "metadata": {},
     "output_type": "execute_result"
    },
    {
     "data": {
      "image/png": "[encoded data removed]",
      "text/plain": [
       "<Figure size 432x288 with 1 Axes>"
      ]
     },
     "metadata": {
      "needs_background": "light"
     },
     "output_type": "display_data"
    }
   ],
   "source": [
    "plt.plot(df2[0.25][0:6], df2[0.25][6:12])"
   ]
  },
  {
   "cell_type": "code",
   "execution_count": 10,
   "metadata": {},
   "outputs": [],
   "source": [
    "dTau_range_cloud = []\n",
    "\n",
    "for col in df2.columns:\n",
    "    dTau_range_cloud.append(col)"
   ]
  },
  {
   "cell_type": "code",
   "execution_count": 11,
   "metadata": {},
   "outputs": [
    {
     "data": {
      "text/plain": [
       "[0.25, 0.5, 1.0, 2.0, 4.0, 8.0, 16.0, 32.0]"
      ]
     },
     "execution_count": 11,
     "metadata": {},
     "output_type": "execute_result"
    }
   ],
   "source": [
    "dTau_range_cloud"
   ]
  },
  {
   "cell_type": "code",
   "execution_count": 12,
   "metadata": {},
   "outputs": [
    {
     "data": {
      "image/png": "[encoded data removed]",
      "text/plain": [
       "<Figure size 432x288 with 1 Axes>"
      ]
     },
     "metadata": {
      "needs_background": "light"
     },
     "output_type": "display_data"
    }
   ],
   "source": [
    "N_dTau_cloud = len(dTau_range_cloud)\n",
    "\n",
    "fig, ax = plt.subplots()\n",
    "\n",
    "for i in range(N_dTau_cloud):\n",
    "    x = df2[dTau_range_cloud[i]][0:6]\n",
    "    y = df2[dTau_range_cloud[i]][6:12]\n",
    "    \n",
    "    plt.plot(x,y)\n",
    "    #ax.annotate(dTau_range_cloud, (x[i], y[i]))\n",
    "    \n",
    "plt.legend(dTau_range_cloud, title='dTau_cloud ($\\mu$m)')\n",
    "plt.xlabel('Reflection Function ($\\lambda$ = 0.56 $\\mu$m)')\n",
    "plt.ylabel('Reflection Function ($\\lambda$  = 1.59 $\\mu$m)')\n",
    "\n",
    "plt.show()"
   ]
  },
  {
   "cell_type": "markdown",
   "metadata": {},
   "source": [
    "> single plot only "
   ]
  },
  {
   "cell_type": "code",
   "execution_count": 13,
   "metadata": {},
   "outputs": [],
   "source": [
    "x = []\n",
    "y = []\n",
    "\n",
    "for i in range(N_cloud):\n",
    "    x.append(df2[0.25][i+1])\n",
    "    y.append(df2[0.25][i+7])\n",
    "    \n",
    "n = ['0.1','0.5','1','2','10','20']"
   ]
  },
  {
   "cell_type": "code",
   "execution_count": 14,
   "metadata": {},
   "outputs": [
    {
     "data": {
      "text/plain": [
       "<function matplotlib.pyplot.show(close=None, block=None)>"
      ]
     },
     "execution_count": 14,
     "metadata": {},
     "output_type": "execute_result"
    },
    {
     "data": {
      "image/png": "[encoded data removed]",
      "text/plain": [
       "<Figure size 432x288 with 1 Axes>"
      ]
     },
     "metadata": {
      "needs_background": "light"
     },
     "output_type": "display_data"
    }
   ],
   "source": [
    "fig, ax = plt.subplots()\n",
    "ax.plot(x, y)\n",
    "\n",
    "for i, txt in enumerate(n):\n",
    "    ax.annotate(txt, (x[i], y[i]))\n",
    "    \n",
    "plt.legend(dTau_range_cloud, title='dTau_cloud ($\\mu$m)')\n",
    "plt.xlabel('Reflection Function ($\\lambda$ = 0.56 $\\mu$m)')\n",
    "plt.ylabel('Reflection Function ($\\lambda$  = 1.59 $\\mu$m)')\n",
    "plt.show"
   ]
  },
  {
   "cell_type": "code",
   "execution_count": null,
   "metadata": {},
   "outputs": [],
   "source": []
  },
  {
   "cell_type": "code",
   "execution_count": null,
   "metadata": {},
   "outputs": [],
   "source": []
  },
  {
   "cell_type": "code",
   "execution_count": null,
   "metadata": {},
   "outputs": [],
   "source": []
  }
 ],
 "metadata": {
  "kernelspec": {
   "display_name": "Python 3",
   "language": "python",
   "name": "python3"
  },
  "language_info": {
   "codemirror_mode": {
    "name": "ipython",
    "version": 3
   },
   "file_extension": ".py",
   "mimetype": "text/x-python",
   "name": "python",
   "nbconvert_exporter": "python",
   "pygments_lexer": "ipython3",
   "version": "3.7.0"
  }
 },
 "nbformat": 4,
 "nbformat_minor": 2
}
